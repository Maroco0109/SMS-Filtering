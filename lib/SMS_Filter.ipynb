{
 "cells": [
  {
   "cell_type": "code",
   "execution_count": 35,
   "metadata": {},
   "outputs": [
    {
     "name": "stdout",
     "output_type": "stream",
     "text": [
      "TPU가 발견되지 않아 GPU/CPU 전략을 사용합니다.\n"
     ]
    }
   ],
   "source": [
    "import tensorflow as tf\n",
    "import os\n",
    "\n",
    "try:\n",
    "    # TPU 주소 가져오기\n",
    "    tpu_address = os.environ['COLAB_TPU_ADDR']\n",
    "    resolver = tf.distribute.cluster_resolver.TPUClusterResolver(tpu='grpc://' + tpu_address)\n",
    "    print(\"TPU를 사용 중입니다:\", tpu_address)\n",
    "    \n",
    "    # TPU 클러스터 연결 및 TPU 시스템 초기화\n",
    "    tf.config.experimental_connect_to_cluster(resolver)\n",
    "    tf.tpu.experimental.initialize_tpu_system(resolver)\n",
    "    \n",
    "    # TPU 전략 설정\n",
    "    strategy = tf.distribute.TPUStrategy(resolver)\n",
    "except KeyError:\n",
    "    # TPU가 없을 경우 기본 전략 사용 (GPU/CPU)\n",
    "    print(\"TPU가 발견되지 않아 GPU/CPU 전략을 사용합니다.\")\n",
    "    strategy = tf.distribute.get_strategy()  # GPU가 있으면 GPU, 없으면 CPU 사용\n",
    "\n",
    "# 이후 `strategy`를 사용하여 모델 학습 진행 가능\n"
   ]
  },
  {
   "cell_type": "code",
   "execution_count": 36,
   "metadata": {},
   "outputs": [],
   "source": [
    "# 딥러닝 모델 컴파일\n",
    "def create_model():\n",
    "  return tf.keras.Sequential(\n",
    "      [\n",
    "          tf.keras.layers.Conv2D(256, 3, activation='relu', input_shape=(28,28,1)),\n",
    "          tf.keras.layers.Conv2D(256, 3, activation='relu'),\n",
    "          tf.keras.layers.Flatten(),\n",
    "          tf.keras.layers.Dense(256, activation='relu'),\n",
    "          tf.keras.layers.Dense(128, activation='relu'),\n",
    "          tf.keras.layers.Dense(10)\n",
    "      ]\n",
    "  )\n",
    "\n",
    "with strategy.scope():\n",
    "  model = create_model()\n",
    "  model.compile(optimizer='adam',\n",
    "                loss=tf.keras.losses.SparseCategoricalCrossentropy(from_logits=True),\n",
    "                metrics=['sparse_categorical_accuracy'])"
   ]
  },
  {
   "cell_type": "code",
   "execution_count": 37,
   "metadata": {},
   "outputs": [],
   "source": [
    "# 데이터 로드 및 정제\n",
    "import pandas as pd\n",
    "import numpy as np\n",
    "import urllib.request\n",
    "import os\n",
    "from tqdm import tqdm\n",
    "import tensorflow as tf\n",
    "from transformers import BertTokenizer, TFBertModel"
   ]
  },
  {
   "cell_type": "code",
   "execution_count": 38,
   "metadata": {},
   "outputs": [
    {
     "name": "stdout",
     "output_type": "stream",
     "text": [
      "훈련용 리뷰 개수 : 80713\n",
      "테스트용 리뷰 개수 : 20179\n"
     ]
    }
   ],
   "source": [
    "# 데이터 로드\n",
    "train_data = pd.read_csv('C:/Users/user/Desktop/AIML/datasets/train_set.csv', sep=',')\n",
    "test_data = pd.read_csv('C:/Users/user/Desktop/AIML/datasets/test_set.csv', sep=',')\n",
    "\n",
    "print('훈련용 리뷰 개수 :',len(train_data)) # 훈련용 리뷰 개수 출력\n",
    "print('테스트용 리뷰 개수 :',len(test_data)) # 테스트용 리뷰 개수 출력"
   ]
  },
  {
   "cell_type": "code",
   "execution_count": 39,
   "metadata": {},
   "outputs": [],
   "source": [
    "# BERT 모델 생성\n",
    "def convert_examples_to_features(sentences, labels, max_seq_len, tokenizer):\n",
    "  input_ids, attention_masks, token_type_ids, data_labels = [], [], [], []\n",
    "\n",
    "  for example, label in tqdm(zip(sentences, labels), total=len(sentences)):\n",
    "    # input_id는 워드 임베딩을 위한 문장의 정수 인코딩\n",
    "    input_id = tokenizer.encode(example, max_length=max_seq_len, pad_to_max_length=True)\n",
    "\n",
    "    # attention_mask 설정 - 실제 단어 존재시 1, 패딩이면 0\n",
    "    padding_count = input_id.count(tokenizer.pad_token_id)\n",
    "    attention_mask = [1] * (max_seq_len - padding_count) + [0] * padding_count\n",
    "\n",
    "    # token_type_id는 문장을 구분하기 위한 인덱스\n",
    "    token_type_id = [0] * max_seq_len\n",
    "\n",
    "    assert len(input_id) == max_seq_len, \"Error with input length {} vs {}\".format(len(input_id), max_seq_len)\n",
    "    assert len(attention_mask) == max_seq_len, \"Error with attention mask length {} vs {}\".format(len(attention_mask), max_seq_len)\n",
    "    assert len(token_type_id) == max_seq_len, \"Error with token type length {} vs {}\".format(len(token_type_id), max_seq_len)\n",
    "\n",
    "    input_ids.append(input_id)\n",
    "    attention_masks.append(attention_mask)\n",
    "    token_type_ids.append(token_type_id)\n",
    "    data_labels.append(label)\n",
    "\n",
    "  # np.array로 변환\n",
    "  input_ids = np.array(input_ids, dtype=int)\n",
    "  attention_masks = np.array(attention_masks, dtype=int)\n",
    "  token_type_ids = np.array(token_type_ids, dtype=int)\n",
    "  data_labels = np.asarray(data_labels, dtype=np.int32)\n",
    "\n",
    "  return (input_ids, attention_masks, token_type_ids), data_labels"
   ]
  },
  {
   "cell_type": "code",
   "execution_count": 40,
   "metadata": {},
   "outputs": [],
   "source": [
    "# BERT Tokenizer 설정\n",
    "max_seq_len = 128\n",
    "tokenizer = BertTokenizer.from_pretrained('klue/bert-base')\n",
    "\n",
    "# 훈련 데이터를 토큰화하여 BERT 모델에 맞게 변환\n",
    "train_encodings = tokenizer(\n",
    "    train_data['data'].tolist(),\n",
    "    max_length=max_seq_len,\n",
    "    truncation=True,\n",
    "    padding='max_length',\n",
    "    return_tensors='tf'\n",
    ")\n",
    "\n",
    "# 레이블을 Tensor 형식으로 변환\n",
    "train_labels = tf.convert_to_tensor(train_data['spam'].tolist())\n",
    "\n",
    "# 최종 훈련 데이터셋 (train_X, train_y)\n",
    "train_X = train_encodings\n",
    "train_y = train_labels\n"
   ]
  },
  {
   "cell_type": "code",
   "execution_count": 41,
   "metadata": {},
   "outputs": [],
   "source": [
    "# BERT Tokenizer 설정\n",
    "max_seq_len = 128\n",
    "tokenizer = BertTokenizer.from_pretrained('klue/bert-base')\n",
    "\n",
    "# 테스트 데이터를 토큰화하여 BERT 모델에 맞게 변환\n",
    "test_encodings = tokenizer(\n",
    "    test_data['data'].tolist(),  # test_data의 'data' 열 사용\n",
    "    max_length=max_seq_len,\n",
    "    truncation=True,         # 시퀀스가 max_length를 넘을 경우 자르기\n",
    "    padding='max_length',    # 시퀀스를 max_length에 맞춰 패딩\n",
    "    return_tensors='tf'\n",
    ")\n",
    "\n",
    "# 레이블을 Tensor 형식으로 변환\n",
    "test_labels = tf.convert_to_tensor(test_data['spam'].tolist())  # test_data의 'spam' 열 사용\n",
    "\n",
    "# 최종 테스트 데이터셋 (test_X, test_y)\n",
    "test_X = test_encodings\n",
    "test_y = test_labels\n"
   ]
  },
  {
   "cell_type": "code",
   "execution_count": 46,
   "metadata": {},
   "outputs": [
    {
     "name": "stdout",
     "output_type": "stream",
     "text": [
      "단어에 대한 정수 인코딩 : tf.Tensor(\n",
      "[    2 11782  2311  2250     1  4648  1868  2477  2121  2372  2062  2076\n",
      "  8330  2010  6609    85    61  2309  2611  2008  2659  2189  2088  2272\n",
      "    55  2041  2296     1 22316  2046  2046   645  2747  4930 14995  7464\n",
      "  4589     3     0     0     0     0     0     0     0     0     0     0\n",
      "     0     0     0     0     0     0     0     0     0     0     0     0\n",
      "     0     0     0     0     0     0     0     0     0     0     0     0\n",
      "     0     0     0     0     0     0     0     0     0     0     0     0\n",
      "     0     0     0     0     0     0     0     0     0     0     0     0\n",
      "     0     0     0     0     0     0     0     0     0     0     0     0\n",
      "     0     0     0     0     0     0     0     0     0     0     0     0\n",
      "     0     0     0     0     0     0     0     0], shape=(128,), dtype=int32)\n",
      "어텐션 마스크 : tf.Tensor(\n",
      "[1 1 1 1 1 1 1 1 1 1 1 1 1 1 1 1 1 1 1 1 1 1 1 1 1 1 1 1 1 1 1 1 1 1 1 1 1\n",
      " 1 0 0 0 0 0 0 0 0 0 0 0 0 0 0 0 0 0 0 0 0 0 0 0 0 0 0 0 0 0 0 0 0 0 0 0 0\n",
      " 0 0 0 0 0 0 0 0 0 0 0 0 0 0 0 0 0 0 0 0 0 0 0 0 0 0 0 0 0 0 0 0 0 0 0 0 0\n",
      " 0 0 0 0 0 0 0 0 0 0 0 0 0 0 0 0 0], shape=(128,), dtype=int32)\n",
      "세그먼트 인코딩 : tf.Tensor(\n",
      "[0 0 0 0 0 0 0 0 0 0 0 0 0 0 0 0 0 0 0 0 0 0 0 0 0 0 0 0 0 0 0 0 0 0 0 0 0\n",
      " 0 0 0 0 0 0 0 0 0 0 0 0 0 0 0 0 0 0 0 0 0 0 0 0 0 0 0 0 0 0 0 0 0 0 0 0 0\n",
      " 0 0 0 0 0 0 0 0 0 0 0 0 0 0 0 0 0 0 0 0 0 0 0 0 0 0 0 0 0 0 0 0 0 0 0 0 0\n",
      " 0 0 0 0 0 0 0 0 0 0 0 0 0 0 0 0 0], shape=(128,), dtype=int32)\n",
      "각 인코딩의 길이 : 128\n",
      "정수 인코딩 복원 : [CLS] 국외발신 [UNK] 포인트 표실장입다yourl kr r YUZr텔레고름 Ssx [UNK] cccc 기티 커피 햄버거 치킨 지급 [SEP] [PAD] [PAD] [PAD] [PAD] [PAD] [PAD] [PAD] [PAD] [PAD] [PAD] [PAD] [PAD] [PAD] [PAD] [PAD] [PAD] [PAD] [PAD] [PAD] [PAD] [PAD] [PAD] [PAD] [PAD] [PAD] [PAD] [PAD] [PAD] [PAD] [PAD] [PAD] [PAD] [PAD] [PAD] [PAD] [PAD] [PAD] [PAD] [PAD] [PAD] [PAD] [PAD] [PAD] [PAD] [PAD] [PAD] [PAD] [PAD] [PAD] [PAD] [PAD] [PAD] [PAD] [PAD] [PAD] [PAD] [PAD] [PAD] [PAD] [PAD] [PAD] [PAD] [PAD] [PAD] [PAD] [PAD] [PAD] [PAD] [PAD] [PAD] [PAD] [PAD] [PAD] [PAD] [PAD] [PAD] [PAD] [PAD] [PAD] [PAD] [PAD] [PAD] [PAD] [PAD] [PAD] [PAD] [PAD] [PAD] [PAD] [PAD]\n",
      "출력 샘플의 레이블 : tf.Tensor(1, shape=(), dtype=int32)\n"
     ]
    }
   ],
   "source": [
    "# 훈련 데이터의 첫 번째 샘플 출력\n",
    "input_id = train_X['input_ids'][0]       # 'input_ids' 키를 사용\n",
    "attention_mask = train_X['attention_mask'][0]  # 'attention_mask' 키를 사용\n",
    "token_type_id = train_X['token_type_ids'][0]   # 'token_type_ids' 키를 사용 (필요시 사용)\n",
    "\n",
    "label = train_y[0]\n",
    "\n",
    "print('단어에 대한 정수 인코딩 :', input_id)\n",
    "print('어텐션 마스크 :', attention_mask)\n",
    "print('세그먼트 인코딩 :', token_type_id)\n",
    "print('각 인코딩의 길이 :', len(input_id))\n",
    "print('정수 인코딩 복원 :', tokenizer.decode(input_id))\n",
    "print('출력 샘플의 레이블 :', label)\n"
   ]
  },
  {
   "cell_type": "code",
   "execution_count": 51,
   "metadata": {},
   "outputs": [],
   "source": [
    "from tensorflow.keras.layers import Dropout\n",
    "from tensorflow.keras import regularizers\n",
    "\n",
    "# BERT 모델 정의 (모델 복잡도 조정: 드롭아웃 비율 조정 및 L2 정규화 적용)\n",
    "class TFBertForSequenceClassification(tf.keras.Model):\n",
    "    def __init__(self, model_name, l2_reg=0.01, dropout_rate=0.5):  # dropout_rate를 0.5로 증가\n",
    "        super(TFBertForSequenceClassification, self).__init__()\n",
    "        self.bert = TFBertModel.from_pretrained(model_name, from_pt=True)\n",
    "        self.dropout = Dropout(dropout_rate)  # 드롭아웃 레이어 추가\n",
    "        self.classifier = tf.keras.layers.Dense(\n",
    "            1,\n",
    "            kernel_initializer=tf.keras.initializers.TruncatedNormal(stddev=0.02),\n",
    "            activation='sigmoid',\n",
    "            kernel_regularizer=regularizers.l2(l2_reg),  # L2 정규화 적용\n",
    "            name='classifier'\n",
    "        )\n",
    "\n",
    "    def call(self, inputs):\n",
    "        input_ids, attention_mask, token_type_ids = inputs\n",
    "        outputs = self.bert(input_ids=input_ids, attention_mask=attention_mask, token_type_ids=token_type_ids)\n",
    "        cls_token = outputs[1]\n",
    "        cls_token = self.dropout(cls_token)  # 드롭아웃 적용\n",
    "        prediction = self.classifier(cls_token)\n",
    "        return prediction\n"
   ]
  },
  {
   "cell_type": "code",
   "execution_count": 52,
   "metadata": {},
   "outputs": [
    {
     "name": "stderr",
     "output_type": "stream",
     "text": [
      "Some weights of the PyTorch model were not used when initializing the TF 2.0 model TFBertForSequenceClassification: ['bert.encoder.layer.1.attention.output.LayerNorm.bias', 'bert.encoder.layer.10.attention.output.LayerNorm.bias', 'bert.encoder.layer.2.output.dense.weight', 'bert.encoder.layer.6.attention.output.LayerNorm.weight', 'bert.encoder.layer.10.attention.self.value.bias', 'bert.encoder.layer.0.attention.output.LayerNorm.bias', 'bert.encoder.layer.9.attention.self.value.weight', 'bert.encoder.layer.10.intermediate.dense.weight', 'bert.encoder.layer.0.intermediate.dense.weight', 'bert.encoder.layer.1.attention.self.value.bias', 'bert.encoder.layer.7.output.LayerNorm.weight', 'bert.encoder.layer.0.attention.self.key.weight', 'bert.encoder.layer.3.output.LayerNorm.weight', 'bert.encoder.layer.5.output.dense.bias', 'bert.encoder.layer.5.attention.output.LayerNorm.bias', 'bert.encoder.layer.0.attention.output.dense.weight', 'bert.encoder.layer.7.output.LayerNorm.bias', 'bert.encoder.layer.8.attention.output.dense.weight', 'bert.encoder.layer.8.attention.self.key.bias', 'bert.encoder.layer.0.output.LayerNorm.bias', 'bert.encoder.layer.2.attention.self.query.bias', 'bert.encoder.layer.1.output.dense.weight', 'bert.encoder.layer.9.output.dense.bias', 'bert.encoder.layer.1.attention.self.key.bias', 'bert.encoder.layer.3.output.dense.weight', 'bert.encoder.layer.6.attention.self.key.weight', 'bert.encoder.layer.3.attention.self.key.bias', 'bert.encoder.layer.1.attention.output.dense.weight', 'bert.pooler.dense.weight', 'bert.encoder.layer.2.attention.output.dense.bias', 'bert.encoder.layer.5.attention.self.value.bias', 'bert.encoder.layer.1.attention.output.dense.bias', 'bert.encoder.layer.4.attention.output.LayerNorm.weight', 'bert.encoder.layer.6.attention.self.value.bias', 'bert.encoder.layer.0.output.dense.bias', 'bert.encoder.layer.6.intermediate.dense.weight', 'bert.encoder.layer.2.intermediate.dense.bias', 'bert.encoder.layer.7.output.dense.bias', 'bert.encoder.layer.10.output.dense.weight', 'bert.encoder.layer.4.attention.self.value.weight', 'bert.encoder.layer.11.output.dense.weight', 'bert.encoder.layer.6.attention.self.value.weight', 'bert.encoder.layer.8.attention.self.value.bias', 'bert.encoder.layer.3.attention.output.dense.bias', 'bert.encoder.layer.2.output.LayerNorm.weight', 'bert.encoder.layer.10.attention.output.dense.bias', 'bert.encoder.layer.11.attention.self.key.weight', 'bert.encoder.layer.10.attention.self.query.bias', 'bert.encoder.layer.5.attention.output.dense.weight', 'bert.encoder.layer.5.intermediate.dense.bias', 'bert.encoder.layer.7.intermediate.dense.bias', 'bert.encoder.layer.4.attention.self.query.bias', 'bert.encoder.layer.3.output.LayerNorm.bias', 'bert.encoder.layer.10.output.dense.bias', 'bert.encoder.layer.11.attention.self.query.bias', 'bert.encoder.layer.1.attention.self.query.weight', 'bert.encoder.layer.10.attention.self.key.bias', 'bert.encoder.layer.8.output.dense.bias', 'bert.encoder.layer.2.output.dense.bias', 'bert.encoder.layer.3.attention.self.key.weight', 'bert.encoder.layer.0.attention.self.value.weight', 'bert.encoder.layer.11.intermediate.dense.weight', 'bert.encoder.layer.10.attention.output.LayerNorm.weight', 'bert.encoder.layer.6.attention.output.LayerNorm.bias', 'bert.encoder.layer.3.intermediate.dense.weight', 'bert.encoder.layer.8.attention.self.value.weight', 'bert.embeddings.word_embeddings.weight', 'bert.encoder.layer.8.intermediate.dense.weight', 'bert.encoder.layer.9.output.dense.weight', 'bert.encoder.layer.0.output.dense.weight', 'bert.encoder.layer.4.output.LayerNorm.bias', 'bert.encoder.layer.10.attention.self.query.weight', 'bert.encoder.layer.5.attention.output.LayerNorm.weight', 'bert.encoder.layer.1.output.LayerNorm.weight', 'bert.encoder.layer.9.attention.output.LayerNorm.weight', 'bert.encoder.layer.7.attention.self.query.bias', 'bert.encoder.layer.2.attention.output.dense.weight', 'bert.encoder.layer.8.output.LayerNorm.weight', 'bert.encoder.layer.7.attention.self.key.weight', 'bert.encoder.layer.9.attention.self.query.weight', 'bert.encoder.layer.11.output.LayerNorm.weight', 'bert.encoder.layer.11.attention.output.LayerNorm.weight', 'bert.encoder.layer.0.intermediate.dense.bias', 'bert.encoder.layer.0.attention.self.key.bias', 'bert.encoder.layer.0.output.LayerNorm.weight', 'bert.encoder.layer.5.output.dense.weight', 'bert.encoder.layer.3.attention.output.dense.weight', 'bert.encoder.layer.8.output.LayerNorm.bias', 'bert.encoder.layer.10.attention.output.dense.weight', 'bert.encoder.layer.9.intermediate.dense.bias', 'bert.encoder.layer.7.attention.output.LayerNorm.weight', 'bert.encoder.layer.7.attention.self.query.weight', 'bert.encoder.layer.11.attention.self.key.bias', 'bert.encoder.layer.4.output.LayerNorm.weight', 'bert.encoder.layer.10.output.LayerNorm.bias', 'bert.encoder.layer.8.attention.self.query.weight', 'bert.encoder.layer.2.output.LayerNorm.bias', 'bert.encoder.layer.6.attention.self.query.bias', 'bert.encoder.layer.3.intermediate.dense.bias', 'bert.encoder.layer.4.intermediate.dense.weight', 'bert.encoder.layer.6.output.LayerNorm.bias', 'bert.encoder.layer.9.attention.output.dense.weight', 'bert.encoder.layer.4.attention.self.key.bias', 'bert.encoder.layer.4.attention.output.dense.bias', 'bert.encoder.layer.6.intermediate.dense.bias', 'bert.encoder.layer.10.output.LayerNorm.weight', 'bert.encoder.layer.6.attention.output.dense.weight', 'bert.encoder.layer.8.attention.output.LayerNorm.weight', 'bert.encoder.layer.11.intermediate.dense.bias', 'bert.encoder.layer.9.attention.output.LayerNorm.bias', 'bert.encoder.layer.0.attention.output.LayerNorm.weight', 'bert.encoder.layer.6.output.LayerNorm.weight', 'bert.encoder.layer.5.attention.self.key.bias', 'bert.encoder.layer.9.output.LayerNorm.bias', 'bert.encoder.layer.3.attention.output.LayerNorm.bias', 'bert.encoder.layer.6.attention.self.key.bias', 'bert.encoder.layer.6.attention.output.dense.bias', 'bert.encoder.layer.3.attention.self.value.bias', 'bert.encoder.layer.5.attention.self.query.bias', 'bert.encoder.layer.8.output.dense.weight', 'bert.encoder.layer.9.attention.self.key.weight', 'bert.encoder.layer.1.attention.self.value.weight', 'bert.encoder.layer.8.attention.output.LayerNorm.bias', 'bert.encoder.layer.9.output.LayerNorm.weight', 'bert.encoder.layer.5.attention.self.value.weight', 'bert.embeddings.LayerNorm.bias', 'bert.encoder.layer.2.attention.self.key.weight', 'bert.encoder.layer.7.attention.self.key.bias', 'bert.encoder.layer.2.attention.self.key.bias', 'bert.encoder.layer.9.attention.self.query.bias', 'bert.encoder.layer.4.attention.self.value.bias', 'bert.encoder.layer.11.attention.output.dense.weight', 'bert.embeddings.position_ids', 'bert.encoder.layer.7.intermediate.dense.weight', 'bert.encoder.layer.1.output.LayerNorm.bias', 'bert.encoder.layer.7.attention.output.LayerNorm.bias', 'bert.encoder.layer.3.attention.self.query.bias', 'bert.encoder.layer.7.attention.output.dense.weight', 'bert.encoder.layer.8.intermediate.dense.bias', 'bert.encoder.layer.2.attention.self.value.weight', 'bert.encoder.layer.3.attention.self.query.weight', 'bert.encoder.layer.4.output.dense.bias', 'bert.encoder.layer.9.attention.self.key.bias', 'bert.encoder.layer.6.output.dense.weight', 'bert.encoder.layer.10.attention.self.value.weight', 'bert.encoder.layer.4.attention.self.key.weight', 'bert.encoder.layer.0.attention.self.query.bias', 'bert.encoder.layer.4.output.dense.weight', 'bert.encoder.layer.10.attention.self.key.weight', 'bert.encoder.layer.2.attention.output.LayerNorm.bias', 'bert.encoder.layer.1.attention.self.key.weight', 'bert.encoder.layer.9.attention.self.value.bias', 'bert.encoder.layer.4.attention.output.LayerNorm.bias', 'bert.embeddings.LayerNorm.weight', 'bert.encoder.layer.6.output.dense.bias', 'bert.encoder.layer.7.attention.self.value.bias', 'bert.encoder.layer.11.attention.output.LayerNorm.bias', 'bert.encoder.layer.7.attention.self.value.weight', 'bert.encoder.layer.2.attention.output.LayerNorm.weight', 'bert.encoder.layer.8.attention.output.dense.bias', 'bert.encoder.layer.3.attention.output.LayerNorm.weight', 'bert.encoder.layer.0.attention.self.value.bias', 'bert.encoder.layer.11.attention.self.value.bias', 'bert.embeddings.position_embeddings.weight', 'bert.encoder.layer.2.attention.self.query.weight', 'bert.encoder.layer.10.intermediate.dense.bias', 'bert.encoder.layer.9.attention.output.dense.bias', 'bert.encoder.layer.7.attention.output.dense.bias', 'bert.encoder.layer.7.output.dense.weight', 'bert.encoder.layer.11.output.dense.bias', 'bert.encoder.layer.8.attention.self.key.weight', 'bert.encoder.layer.1.attention.output.LayerNorm.weight', 'bert.encoder.layer.2.intermediate.dense.weight', 'bert.encoder.layer.1.intermediate.dense.weight', 'bert.encoder.layer.11.output.LayerNorm.bias', 'bert.encoder.layer.11.attention.self.query.weight', 'bert.encoder.layer.5.attention.output.dense.bias', 'bert.encoder.layer.5.output.LayerNorm.bias', 'bert.encoder.layer.4.attention.self.query.weight', 'bert.encoder.layer.6.attention.self.query.weight', 'bert.encoder.layer.5.attention.self.query.weight', 'bert.encoder.layer.5.attention.self.key.weight', 'bert.encoder.layer.11.attention.output.dense.bias', 'bert.encoder.layer.8.attention.self.query.bias', 'bert.encoder.layer.5.output.LayerNorm.weight', 'bert.encoder.layer.0.attention.output.dense.bias', 'bert.embeddings.token_type_embeddings.weight', 'bert.pooler.dense.bias', 'bert.encoder.layer.2.attention.self.value.bias', 'bert.encoder.layer.4.attention.output.dense.weight', 'bert.encoder.layer.1.output.dense.bias', 'bert.encoder.layer.3.output.dense.bias', 'bert.encoder.layer.3.attention.self.value.weight', 'bert.encoder.layer.1.intermediate.dense.bias', 'bert.encoder.layer.11.attention.self.value.weight', 'bert.encoder.layer.5.intermediate.dense.weight', 'bert.encoder.layer.4.intermediate.dense.bias', 'bert.encoder.layer.9.intermediate.dense.weight', 'bert.encoder.layer.1.attention.self.query.bias', 'bert.encoder.layer.0.attention.self.query.weight']\n",
      "- This IS expected if you are initializing TFBertForSequenceClassification from a PyTorch model trained on another task or with another architecture (e.g. initializing a TFBertForSequenceClassification model from a BertForPreTraining model).\n",
      "- This IS NOT expected if you are initializing TFBertForSequenceClassification from a PyTorch model that you expect to be exactly identical (e.g. initializing a TFBertForSequenceClassification model from a BertForSequenceClassification model).\n",
      "Some weights or buffers of the TF 2.0 model TFBertForSequenceClassification were not initialized from the PyTorch model and are newly initialized: ['tf_bert_for_sequence_classification_10.bert.embeddings.word_embeddings.weight', 'tf_bert_for_sequence_classification_10.bert.embeddings.token_type_embeddings.weight', 'tf_bert_for_sequence_classification_10.bert.embeddings.position_embeddings.weight', 'tf_bert_for_sequence_classification_10.bert.embeddings.LayerNorm.weight', 'tf_bert_for_sequence_classification_10.bert.embeddings.LayerNorm.bias', 'tf_bert_for_sequence_classification_10.bert.encoder.layer.0.attention.self.query.weight', 'tf_bert_for_sequence_classification_10.bert.encoder.layer.0.attention.self.query.bias', 'tf_bert_for_sequence_classification_10.bert.encoder.layer.0.attention.self.key.weight', 'tf_bert_for_sequence_classification_10.bert.encoder.layer.0.attention.self.key.bias', 'tf_bert_for_sequence_classification_10.bert.encoder.layer.0.attention.self.value.weight', 'tf_bert_for_sequence_classification_10.bert.encoder.layer.0.attention.self.value.bias', 'tf_bert_for_sequence_classification_10.bert.encoder.layer.0.attention.output.dense.weight', 'tf_bert_for_sequence_classification_10.bert.encoder.layer.0.attention.output.dense.bias', 'tf_bert_for_sequence_classification_10.bert.encoder.layer.0.attention.output.LayerNorm.weight', 'tf_bert_for_sequence_classification_10.bert.encoder.layer.0.attention.output.LayerNorm.bias', 'tf_bert_for_sequence_classification_10.bert.encoder.layer.0.intermediate.dense.weight', 'tf_bert_for_sequence_classification_10.bert.encoder.layer.0.intermediate.dense.bias', 'tf_bert_for_sequence_classification_10.bert.encoder.layer.0.output.dense.weight', 'tf_bert_for_sequence_classification_10.bert.encoder.layer.0.output.dense.bias', 'tf_bert_for_sequence_classification_10.bert.encoder.layer.0.output.LayerNorm.weight', 'tf_bert_for_sequence_classification_10.bert.encoder.layer.0.output.LayerNorm.bias', 'tf_bert_for_sequence_classification_10.bert.encoder.layer.1.attention.self.query.weight', 'tf_bert_for_sequence_classification_10.bert.encoder.layer.1.attention.self.query.bias', 'tf_bert_for_sequence_classification_10.bert.encoder.layer.1.attention.self.key.weight', 'tf_bert_for_sequence_classification_10.bert.encoder.layer.1.attention.self.key.bias', 'tf_bert_for_sequence_classification_10.bert.encoder.layer.1.attention.self.value.weight', 'tf_bert_for_sequence_classification_10.bert.encoder.layer.1.attention.self.value.bias', 'tf_bert_for_sequence_classification_10.bert.encoder.layer.1.attention.output.dense.weight', 'tf_bert_for_sequence_classification_10.bert.encoder.layer.1.attention.output.dense.bias', 'tf_bert_for_sequence_classification_10.bert.encoder.layer.1.attention.output.LayerNorm.weight', 'tf_bert_for_sequence_classification_10.bert.encoder.layer.1.attention.output.LayerNorm.bias', 'tf_bert_for_sequence_classification_10.bert.encoder.layer.1.intermediate.dense.weight', 'tf_bert_for_sequence_classification_10.bert.encoder.layer.1.intermediate.dense.bias', 'tf_bert_for_sequence_classification_10.bert.encoder.layer.1.output.dense.weight', 'tf_bert_for_sequence_classification_10.bert.encoder.layer.1.output.dense.bias', 'tf_bert_for_sequence_classification_10.bert.encoder.layer.1.output.LayerNorm.weight', 'tf_bert_for_sequence_classification_10.bert.encoder.layer.1.output.LayerNorm.bias', 'tf_bert_for_sequence_classification_10.bert.encoder.layer.2.attention.self.query.weight', 'tf_bert_for_sequence_classification_10.bert.encoder.layer.2.attention.self.query.bias', 'tf_bert_for_sequence_classification_10.bert.encoder.layer.2.attention.self.key.weight', 'tf_bert_for_sequence_classification_10.bert.encoder.layer.2.attention.self.key.bias', 'tf_bert_for_sequence_classification_10.bert.encoder.layer.2.attention.self.value.weight', 'tf_bert_for_sequence_classification_10.bert.encoder.layer.2.attention.self.value.bias', 'tf_bert_for_sequence_classification_10.bert.encoder.layer.2.attention.output.dense.weight', 'tf_bert_for_sequence_classification_10.bert.encoder.layer.2.attention.output.dense.bias', 'tf_bert_for_sequence_classification_10.bert.encoder.layer.2.attention.output.LayerNorm.weight', 'tf_bert_for_sequence_classification_10.bert.encoder.layer.2.attention.output.LayerNorm.bias', 'tf_bert_for_sequence_classification_10.bert.encoder.layer.2.intermediate.dense.weight', 'tf_bert_for_sequence_classification_10.bert.encoder.layer.2.intermediate.dense.bias', 'tf_bert_for_sequence_classification_10.bert.encoder.layer.2.output.dense.weight', 'tf_bert_for_sequence_classification_10.bert.encoder.layer.2.output.dense.bias', 'tf_bert_for_sequence_classification_10.bert.encoder.layer.2.output.LayerNorm.weight', 'tf_bert_for_sequence_classification_10.bert.encoder.layer.2.output.LayerNorm.bias', 'tf_bert_for_sequence_classification_10.bert.encoder.layer.3.attention.self.query.weight', 'tf_bert_for_sequence_classification_10.bert.encoder.layer.3.attention.self.query.bias', 'tf_bert_for_sequence_classification_10.bert.encoder.layer.3.attention.self.key.weight', 'tf_bert_for_sequence_classification_10.bert.encoder.layer.3.attention.self.key.bias', 'tf_bert_for_sequence_classification_10.bert.encoder.layer.3.attention.self.value.weight', 'tf_bert_for_sequence_classification_10.bert.encoder.layer.3.attention.self.value.bias', 'tf_bert_for_sequence_classification_10.bert.encoder.layer.3.attention.output.dense.weight', 'tf_bert_for_sequence_classification_10.bert.encoder.layer.3.attention.output.dense.bias', 'tf_bert_for_sequence_classification_10.bert.encoder.layer.3.attention.output.LayerNorm.weight', 'tf_bert_for_sequence_classification_10.bert.encoder.layer.3.attention.output.LayerNorm.bias', 'tf_bert_for_sequence_classification_10.bert.encoder.layer.3.intermediate.dense.weight', 'tf_bert_for_sequence_classification_10.bert.encoder.layer.3.intermediate.dense.bias', 'tf_bert_for_sequence_classification_10.bert.encoder.layer.3.output.dense.weight', 'tf_bert_for_sequence_classification_10.bert.encoder.layer.3.output.dense.bias', 'tf_bert_for_sequence_classification_10.bert.encoder.layer.3.output.LayerNorm.weight', 'tf_bert_for_sequence_classification_10.bert.encoder.layer.3.output.LayerNorm.bias', 'tf_bert_for_sequence_classification_10.bert.encoder.layer.4.attention.self.query.weight', 'tf_bert_for_sequence_classification_10.bert.encoder.layer.4.attention.self.query.bias', 'tf_bert_for_sequence_classification_10.bert.encoder.layer.4.attention.self.key.weight', 'tf_bert_for_sequence_classification_10.bert.encoder.layer.4.attention.self.key.bias', 'tf_bert_for_sequence_classification_10.bert.encoder.layer.4.attention.self.value.weight', 'tf_bert_for_sequence_classification_10.bert.encoder.layer.4.attention.self.value.bias', 'tf_bert_for_sequence_classification_10.bert.encoder.layer.4.attention.output.dense.weight', 'tf_bert_for_sequence_classification_10.bert.encoder.layer.4.attention.output.dense.bias', 'tf_bert_for_sequence_classification_10.bert.encoder.layer.4.attention.output.LayerNorm.weight', 'tf_bert_for_sequence_classification_10.bert.encoder.layer.4.attention.output.LayerNorm.bias', 'tf_bert_for_sequence_classification_10.bert.encoder.layer.4.intermediate.dense.weight', 'tf_bert_for_sequence_classification_10.bert.encoder.layer.4.intermediate.dense.bias', 'tf_bert_for_sequence_classification_10.bert.encoder.layer.4.output.dense.weight', 'tf_bert_for_sequence_classification_10.bert.encoder.layer.4.output.dense.bias', 'tf_bert_for_sequence_classification_10.bert.encoder.layer.4.output.LayerNorm.weight', 'tf_bert_for_sequence_classification_10.bert.encoder.layer.4.output.LayerNorm.bias', 'tf_bert_for_sequence_classification_10.bert.encoder.layer.5.attention.self.query.weight', 'tf_bert_for_sequence_classification_10.bert.encoder.layer.5.attention.self.query.bias', 'tf_bert_for_sequence_classification_10.bert.encoder.layer.5.attention.self.key.weight', 'tf_bert_for_sequence_classification_10.bert.encoder.layer.5.attention.self.key.bias', 'tf_bert_for_sequence_classification_10.bert.encoder.layer.5.attention.self.value.weight', 'tf_bert_for_sequence_classification_10.bert.encoder.layer.5.attention.self.value.bias', 'tf_bert_for_sequence_classification_10.bert.encoder.layer.5.attention.output.dense.weight', 'tf_bert_for_sequence_classification_10.bert.encoder.layer.5.attention.output.dense.bias', 'tf_bert_for_sequence_classification_10.bert.encoder.layer.5.attention.output.LayerNorm.weight', 'tf_bert_for_sequence_classification_10.bert.encoder.layer.5.attention.output.LayerNorm.bias', 'tf_bert_for_sequence_classification_10.bert.encoder.layer.5.intermediate.dense.weight', 'tf_bert_for_sequence_classification_10.bert.encoder.layer.5.intermediate.dense.bias', 'tf_bert_for_sequence_classification_10.bert.encoder.layer.5.output.dense.weight', 'tf_bert_for_sequence_classification_10.bert.encoder.layer.5.output.dense.bias', 'tf_bert_for_sequence_classification_10.bert.encoder.layer.5.output.LayerNorm.weight', 'tf_bert_for_sequence_classification_10.bert.encoder.layer.5.output.LayerNorm.bias', 'tf_bert_for_sequence_classification_10.bert.encoder.layer.6.attention.self.query.weight', 'tf_bert_for_sequence_classification_10.bert.encoder.layer.6.attention.self.query.bias', 'tf_bert_for_sequence_classification_10.bert.encoder.layer.6.attention.self.key.weight', 'tf_bert_for_sequence_classification_10.bert.encoder.layer.6.attention.self.key.bias', 'tf_bert_for_sequence_classification_10.bert.encoder.layer.6.attention.self.value.weight', 'tf_bert_for_sequence_classification_10.bert.encoder.layer.6.attention.self.value.bias', 'tf_bert_for_sequence_classification_10.bert.encoder.layer.6.attention.output.dense.weight', 'tf_bert_for_sequence_classification_10.bert.encoder.layer.6.attention.output.dense.bias', 'tf_bert_for_sequence_classification_10.bert.encoder.layer.6.attention.output.LayerNorm.weight', 'tf_bert_for_sequence_classification_10.bert.encoder.layer.6.attention.output.LayerNorm.bias', 'tf_bert_for_sequence_classification_10.bert.encoder.layer.6.intermediate.dense.weight', 'tf_bert_for_sequence_classification_10.bert.encoder.layer.6.intermediate.dense.bias', 'tf_bert_for_sequence_classification_10.bert.encoder.layer.6.output.dense.weight', 'tf_bert_for_sequence_classification_10.bert.encoder.layer.6.output.dense.bias', 'tf_bert_for_sequence_classification_10.bert.encoder.layer.6.output.LayerNorm.weight', 'tf_bert_for_sequence_classification_10.bert.encoder.layer.6.output.LayerNorm.bias', 'tf_bert_for_sequence_classification_10.bert.encoder.layer.7.attention.self.query.weight', 'tf_bert_for_sequence_classification_10.bert.encoder.layer.7.attention.self.query.bias', 'tf_bert_for_sequence_classification_10.bert.encoder.layer.7.attention.self.key.weight', 'tf_bert_for_sequence_classification_10.bert.encoder.layer.7.attention.self.key.bias', 'tf_bert_for_sequence_classification_10.bert.encoder.layer.7.attention.self.value.weight', 'tf_bert_for_sequence_classification_10.bert.encoder.layer.7.attention.self.value.bias', 'tf_bert_for_sequence_classification_10.bert.encoder.layer.7.attention.output.dense.weight', 'tf_bert_for_sequence_classification_10.bert.encoder.layer.7.attention.output.dense.bias', 'tf_bert_for_sequence_classification_10.bert.encoder.layer.7.attention.output.LayerNorm.weight', 'tf_bert_for_sequence_classification_10.bert.encoder.layer.7.attention.output.LayerNorm.bias', 'tf_bert_for_sequence_classification_10.bert.encoder.layer.7.intermediate.dense.weight', 'tf_bert_for_sequence_classification_10.bert.encoder.layer.7.intermediate.dense.bias', 'tf_bert_for_sequence_classification_10.bert.encoder.layer.7.output.dense.weight', 'tf_bert_for_sequence_classification_10.bert.encoder.layer.7.output.dense.bias', 'tf_bert_for_sequence_classification_10.bert.encoder.layer.7.output.LayerNorm.weight', 'tf_bert_for_sequence_classification_10.bert.encoder.layer.7.output.LayerNorm.bias', 'tf_bert_for_sequence_classification_10.bert.encoder.layer.8.attention.self.query.weight', 'tf_bert_for_sequence_classification_10.bert.encoder.layer.8.attention.self.query.bias', 'tf_bert_for_sequence_classification_10.bert.encoder.layer.8.attention.self.key.weight', 'tf_bert_for_sequence_classification_10.bert.encoder.layer.8.attention.self.key.bias', 'tf_bert_for_sequence_classification_10.bert.encoder.layer.8.attention.self.value.weight', 'tf_bert_for_sequence_classification_10.bert.encoder.layer.8.attention.self.value.bias', 'tf_bert_for_sequence_classification_10.bert.encoder.layer.8.attention.output.dense.weight', 'tf_bert_for_sequence_classification_10.bert.encoder.layer.8.attention.output.dense.bias', 'tf_bert_for_sequence_classification_10.bert.encoder.layer.8.attention.output.LayerNorm.weight', 'tf_bert_for_sequence_classification_10.bert.encoder.layer.8.attention.output.LayerNorm.bias', 'tf_bert_for_sequence_classification_10.bert.encoder.layer.8.intermediate.dense.weight', 'tf_bert_for_sequence_classification_10.bert.encoder.layer.8.intermediate.dense.bias', 'tf_bert_for_sequence_classification_10.bert.encoder.layer.8.output.dense.weight', 'tf_bert_for_sequence_classification_10.bert.encoder.layer.8.output.dense.bias', 'tf_bert_for_sequence_classification_10.bert.encoder.layer.8.output.LayerNorm.weight', 'tf_bert_for_sequence_classification_10.bert.encoder.layer.8.output.LayerNorm.bias', 'tf_bert_for_sequence_classification_10.bert.encoder.layer.9.attention.self.query.weight', 'tf_bert_for_sequence_classification_10.bert.encoder.layer.9.attention.self.query.bias', 'tf_bert_for_sequence_classification_10.bert.encoder.layer.9.attention.self.key.weight', 'tf_bert_for_sequence_classification_10.bert.encoder.layer.9.attention.self.key.bias', 'tf_bert_for_sequence_classification_10.bert.encoder.layer.9.attention.self.value.weight', 'tf_bert_for_sequence_classification_10.bert.encoder.layer.9.attention.self.value.bias', 'tf_bert_for_sequence_classification_10.bert.encoder.layer.9.attention.output.dense.weight', 'tf_bert_for_sequence_classification_10.bert.encoder.layer.9.attention.output.dense.bias', 'tf_bert_for_sequence_classification_10.bert.encoder.layer.9.attention.output.LayerNorm.weight', 'tf_bert_for_sequence_classification_10.bert.encoder.layer.9.attention.output.LayerNorm.bias', 'tf_bert_for_sequence_classification_10.bert.encoder.layer.9.intermediate.dense.weight', 'tf_bert_for_sequence_classification_10.bert.encoder.layer.9.intermediate.dense.bias', 'tf_bert_for_sequence_classification_10.bert.encoder.layer.9.output.dense.weight', 'tf_bert_for_sequence_classification_10.bert.encoder.layer.9.output.dense.bias', 'tf_bert_for_sequence_classification_10.bert.encoder.layer.9.output.LayerNorm.weight', 'tf_bert_for_sequence_classification_10.bert.encoder.layer.9.output.LayerNorm.bias', 'tf_bert_for_sequence_classification_10.bert.encoder.layer.10.attention.self.query.weight', 'tf_bert_for_sequence_classification_10.bert.encoder.layer.10.attention.self.query.bias', 'tf_bert_for_sequence_classification_10.bert.encoder.layer.10.attention.self.key.weight', 'tf_bert_for_sequence_classification_10.bert.encoder.layer.10.attention.self.key.bias', 'tf_bert_for_sequence_classification_10.bert.encoder.layer.10.attention.self.value.weight', 'tf_bert_for_sequence_classification_10.bert.encoder.layer.10.attention.self.value.bias', 'tf_bert_for_sequence_classification_10.bert.encoder.layer.10.attention.output.dense.weight', 'tf_bert_for_sequence_classification_10.bert.encoder.layer.10.attention.output.dense.bias', 'tf_bert_for_sequence_classification_10.bert.encoder.layer.10.attention.output.LayerNorm.weight', 'tf_bert_for_sequence_classification_10.bert.encoder.layer.10.attention.output.LayerNorm.bias', 'tf_bert_for_sequence_classification_10.bert.encoder.layer.10.intermediate.dense.weight', 'tf_bert_for_sequence_classification_10.bert.encoder.layer.10.intermediate.dense.bias', 'tf_bert_for_sequence_classification_10.bert.encoder.layer.10.output.dense.weight', 'tf_bert_for_sequence_classification_10.bert.encoder.layer.10.output.dense.bias', 'tf_bert_for_sequence_classification_10.bert.encoder.layer.10.output.LayerNorm.weight', 'tf_bert_for_sequence_classification_10.bert.encoder.layer.10.output.LayerNorm.bias', 'tf_bert_for_sequence_classification_10.bert.encoder.layer.11.attention.self.query.weight', 'tf_bert_for_sequence_classification_10.bert.encoder.layer.11.attention.self.query.bias', 'tf_bert_for_sequence_classification_10.bert.encoder.layer.11.attention.self.key.weight', 'tf_bert_for_sequence_classification_10.bert.encoder.layer.11.attention.self.key.bias', 'tf_bert_for_sequence_classification_10.bert.encoder.layer.11.attention.self.value.weight', 'tf_bert_for_sequence_classification_10.bert.encoder.layer.11.attention.self.value.bias', 'tf_bert_for_sequence_classification_10.bert.encoder.layer.11.attention.output.dense.weight', 'tf_bert_for_sequence_classification_10.bert.encoder.layer.11.attention.output.dense.bias', 'tf_bert_for_sequence_classification_10.bert.encoder.layer.11.attention.output.LayerNorm.weight', 'tf_bert_for_sequence_classification_10.bert.encoder.layer.11.attention.output.LayerNorm.bias', 'tf_bert_for_sequence_classification_10.bert.encoder.layer.11.intermediate.dense.weight', 'tf_bert_for_sequence_classification_10.bert.encoder.layer.11.intermediate.dense.bias', 'tf_bert_for_sequence_classification_10.bert.encoder.layer.11.output.dense.weight', 'tf_bert_for_sequence_classification_10.bert.encoder.layer.11.output.dense.bias', 'tf_bert_for_sequence_classification_10.bert.encoder.layer.11.output.LayerNorm.weight', 'tf_bert_for_sequence_classification_10.bert.encoder.layer.11.output.LayerNorm.bias', 'tf_bert_for_sequence_classification_10.bert.pooler.dense.weight', 'tf_bert_for_sequence_classification_10.bert.pooler.dense.bias', 'tf_bert_for_sequence_classification_10.classifier.weight', 'tf_bert_for_sequence_classification_10.classifier.bias']\n",
      "You should probably TRAIN this model on a down-stream task to be able to use it for predictions and inference.\n"
     ]
    },
    {
     "name": "stdout",
     "output_type": "stream",
     "text": [
      "Epoch 1/3\n",
      "2018/2018 [==============================] - 1429s 702ms/step - loss: 0.0276 - accuracy: 0.6767 - val_loss: 0.0020 - val_accuracy: 0.9900\n",
      "Epoch 2/3\n",
      "2018/2018 [==============================] - 1385s 686ms/step - loss: 4.3764 - accuracy: 0.6564 - val_loss: 6.0570 - val_accuracy: 0.6028\n"
     ]
    },
    {
     "data": {
      "text/plain": [
       "<keras.callbacks.History at 0x21affc0b188>"
      ]
     },
     "execution_count": 52,
     "metadata": {},
     "output_type": "execute_result"
    }
   ],
   "source": [
    "from transformers import TFBertForSequenceClassification\n",
    "import tensorflow as tf\n",
    "from tensorflow.keras.callbacks import EarlyStopping\n",
    "\n",
    "# Early Stopping 정의\n",
    "early_stopping = EarlyStopping(monitor='val_loss', patience=1, restore_best_weights=True)\n",
    "\n",
    "# 훈련 데이터셋 생성\n",
    "dataset = tf.data.Dataset.from_tensor_slices(({\n",
    "    'input_ids': tf.convert_to_tensor(train_X['input_ids']),\n",
    "    'attention_mask': tf.convert_to_tensor(train_X['attention_mask']),\n",
    "    'token_type_ids': tf.convert_to_tensor(train_X['token_type_ids'])\n",
    "}, train_y)).shuffle(buffer_size=len(train_y))\n",
    "\n",
    "# 데이터셋 분할 (80% train, 20% validation)\n",
    "train_size = int(0.8 * len(train_y))\n",
    "train_dataset = dataset.take(train_size).batch(32)\n",
    "val_dataset = dataset.skip(train_size).batch(32)\n",
    "\n",
    "# TPU 또는 GPU/CPU 전략 설정\n",
    "try:\n",
    "    tpu_address = os.environ['COLAB_TPU_ADDR']\n",
    "    resolver = tf.distribute.cluster_resolver.TPUClusterResolver(tpu='grpc://' + tpu_address)\n",
    "    tf.config.experimental_connect_to_cluster(resolver)\n",
    "    tf.tpu.experimental.initialize_tpu_system(resolver)\n",
    "    strategy = tf.distribute.TPUStrategy(resolver)\n",
    "except KeyError:\n",
    "    strategy = tf.distribute.get_strategy()\n",
    "\n",
    "# 모델 학습 및 컴파일\n",
    "with strategy.scope():\n",
    "    model = TFBertForSequenceClassification.from_pretrained('klue/bert-base', from_pt=True)\n",
    "    optimizer = tf.keras.optimizers.Adam(learning_rate=1e-5)\n",
    "    loss = tf.keras.losses.BinaryCrossentropy()\n",
    "    model.compile(optimizer=optimizer, loss=loss, metrics=['accuracy'])\n",
    "\n",
    "# 모델 학습\n",
    "model.fit(\n",
    "    train_dataset,\n",
    "    validation_data=val_dataset,\n",
    "    epochs=3,\n",
    "    callbacks=[early_stopping]\n",
    ")\n"
   ]
  },
  {
   "cell_type": "code",
   "execution_count": 53,
   "metadata": {},
   "outputs": [
    {
     "name": "stdout",
     "output_type": "stream",
     "text": [
      "20/20 [==============================] - 118s 6s/step - loss: 0.0017 - accuracy: 0.9908\n",
      "test loss, test acc:  [0.001748122158460319, 0.9908320307731628]\n"
     ]
    }
   ],
   "source": [
    "# 테스트 데이터셋의 'input_ids', 'attention_mask', 'token_type_ids'로 나누어 평가 입력으로 사용\n",
    "test_input_ids = test_X['input_ids']\n",
    "test_attention_mask = test_X['attention_mask']\n",
    "test_token_type_ids = test_X['token_type_ids']\n",
    "\n",
    "# 모델 평가\n",
    "results = model.evaluate(\n",
    "    (test_input_ids, test_attention_mask, test_token_type_ids),\n",
    "    test_y,\n",
    "    batch_size=1024\n",
    ")\n",
    "print(\"test loss, test acc: \", results)"
   ]
  },
  {
   "cell_type": "code",
   "execution_count": null,
   "metadata": {},
   "outputs": [],
   "source": [
    "# 리뷰 예측해보기\n",
    "def sentiment_predict(new_sentence):\n",
    "    input_id = tokenizer.encode(new_sentence, max_length=max_seq_len, pad_to_max_length=True)\n",
    "    padding_count = input_id.count(tokenizer.pad_token_id)\n",
    "    attention_mask = [1] * (max_seq_len - padding_count) + [0] * padding_count\n",
    "    token_type_id = [0] * max_seq_len\n",
    "\n",
    "    input_ids = np.array([input_id])\n",
    "    attention_masks = np.array([attention_mask])\n",
    "    token_type_ids = np.array([token_type_id])\n",
    "\n",
    "    encoded_input = [input_ids, attention_masks, token_type_ids]\n",
    "    score = model.predict(encoded_input)[0]\n",
    "\n",
    "    # score의 첫 번째 요소만 사용하여 스칼라 값으로 변환\n",
    "    score = score[0] if isinstance(score, (np.ndarray, tf.Tensor)) else score\n",
    "\n",
    "    if score > 0.5:\n",
    "        print(\"{:.2f}% 확률로 햄 메세지입니다.\\n\".format(score * 100))\n",
    "    else:\n",
    "        print(\"{:.2f}% 확률로 스팸 메세지입니다.\\n\".format((1 - score) * 100))"
   ]
  },
  {
   "cell_type": "code",
   "execution_count": 55,
   "metadata": {},
   "outputs": [
    {
     "name": "stderr",
     "output_type": "stream",
     "text": [
      "Truncation was not explicitly activated but `max_length` is provided a specific value, please use `truncation=True` to explicitly truncate examples to max length. Defaulting to 'longest_first' truncation strategy. If you encode pairs of sequences (GLUE-style) with the tokenizer you can select this strategy more precisely by providing a specific strategy to `truncation`.\n",
      "d:\\Anaconda3\\envs\\AIML\\lib\\site-packages\\transformers\\tokenization_utils_base.py:2383: FutureWarning: The `pad_to_max_length` argument is deprecated and will be removed in a future version, use `padding=True` or `padding='longest'` to pad to the longest sequence in the batch, or use `padding='max_length'` to pad to a max length. In this case, you can give a specific length with `max_length` (e.g. `max_length=45`) or leave max_length to None to pad to the maximal input size of the model (e.g. 512 for Bert).\n",
      "  FutureWarning,\n"
     ]
    },
    {
     "name": "stdout",
     "output_type": "stream",
     "text": [
      "1/1 [==============================] - 2s 2s/step\n"
     ]
    },
    {
     "ename": "ValueError",
     "evalue": "The truth value of an array with more than one element is ambiguous. Use a.any() or a.all()",
     "output_type": "error",
     "traceback": [
      "\u001b[1;31m---------------------------------------------------------------------------\u001b[0m",
      "\u001b[1;31mValueError\u001b[0m                                Traceback (most recent call last)",
      "\u001b[1;32m~\\AppData\\Local\\Temp\\ipykernel_12548\\1548767278.py\u001b[0m in \u001b[0;36m<module>\u001b[1;34m\u001b[0m\n\u001b[0;32m      1\u001b[0m \u001b[1;31m# Model test\u001b[0m\u001b[1;33m\u001b[0m\u001b[1;33m\u001b[0m\u001b[1;33m\u001b[0m\u001b[0m\n\u001b[1;32m----> 2\u001b[1;33m \u001b[0msentiment_predict\u001b[0m\u001b[1;33m(\u001b[0m\u001b[1;34m\"안녕\"\u001b[0m\u001b[1;33m)\u001b[0m\u001b[1;33m\u001b[0m\u001b[1;33m\u001b[0m\u001b[0m\n\u001b[0m",
      "\u001b[1;32m~\\AppData\\Local\\Temp\\ipykernel_12548\\933349018.py\u001b[0m in \u001b[0;36msentiment_predict\u001b[1;34m(new_sentence)\u001b[0m\n\u001b[0;32m     16\u001b[0m   \u001b[0mscore\u001b[0m \u001b[1;33m=\u001b[0m \u001b[0mscore\u001b[0m\u001b[1;33m[\u001b[0m\u001b[1;36m0\u001b[0m\u001b[1;33m]\u001b[0m  \u001b[1;31m# Access the first element to get the scalar value\u001b[0m\u001b[1;33m\u001b[0m\u001b[1;33m\u001b[0m\u001b[0m\n\u001b[0;32m     17\u001b[0m \u001b[1;33m\u001b[0m\u001b[0m\n\u001b[1;32m---> 18\u001b[1;33m   \u001b[1;32mif\u001b[0m\u001b[1;33m(\u001b[0m\u001b[0mscore\u001b[0m \u001b[1;33m>\u001b[0m \u001b[1;36m0.5\u001b[0m\u001b[1;33m)\u001b[0m\u001b[1;33m:\u001b[0m\u001b[1;33m\u001b[0m\u001b[1;33m\u001b[0m\u001b[0m\n\u001b[0m\u001b[0;32m     19\u001b[0m     \u001b[0mprint\u001b[0m\u001b[1;33m(\u001b[0m\u001b[1;34m\"{:.2f}% 확률로 햄 메세지입니다.\\n\"\u001b[0m\u001b[1;33m.\u001b[0m\u001b[0mformat\u001b[0m\u001b[1;33m(\u001b[0m\u001b[0mscore\u001b[0m \u001b[1;33m*\u001b[0m \u001b[1;36m100\u001b[0m\u001b[1;33m)\u001b[0m\u001b[1;33m)\u001b[0m\u001b[1;33m\u001b[0m\u001b[1;33m\u001b[0m\u001b[0m\n\u001b[0;32m     20\u001b[0m   \u001b[1;32melse\u001b[0m\u001b[1;33m:\u001b[0m\u001b[1;33m\u001b[0m\u001b[1;33m\u001b[0m\u001b[0m\n",
      "\u001b[1;31mValueError\u001b[0m: The truth value of an array with more than one element is ambiguous. Use a.any() or a.all()"
     ]
    }
   ],
   "source": [
    "# Model test\n",
    "sentiment_predict(\"안녕\")"
   ]
  },
  {
   "cell_type": "code",
   "execution_count": null,
   "metadata": {},
   "outputs": [],
   "source": [
    "# 모델 저장하기\n",
    "\n",
    "# Save the entire model to a directory\n",
    "# model.save('/content/drive/MyDrive/AIML/Codes/NLP/Modeling/KoBERT_Practice_Model')"
   ]
  }
 ],
 "metadata": {
  "kernelspec": {
   "display_name": "AIML",
   "language": "python",
   "name": "python3"
  },
  "language_info": {
   "codemirror_mode": {
    "name": "ipython",
    "version": 3
   },
   "file_extension": ".py",
   "mimetype": "text/x-python",
   "name": "python",
   "nbconvert_exporter": "python",
   "pygments_lexer": "ipython3",
   "version": "3.7.12"
  }
 },
 "nbformat": 4,
 "nbformat_minor": 2
}
