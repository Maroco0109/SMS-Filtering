{
 "cells": [
  {
   "cell_type": "code",
   "execution_count": null,
   "metadata": {},
   "outputs": [],
   "source": [
    "from scripts.data_preprocessing import preprocess_spam\n",
    "\n",
    "# Excel 파일 경로와 출력 경로 지정\n",
    "file_paths = '/home/maroco/SMS-Filtering/data/raw/spam/csv'\n",
    "output_path = '/home/maroco/SMS-Filtering/data/preprocessed/spam_data.csv'\n",
    "\n",
    "# 전처리 실행\n",
    "preprocess_spam(file_paths, output_path)"
   ]
  },
  {
   "cell_type": "code",
   "execution_count": null,
   "metadata": {
    "collapsed": true,
    "executionInfo": {
     "elapsed": 3630,
     "status": "ok",
     "timestamp": 1730192168193,
     "user": {
      "displayName": "마로코",
      "userId": "12205708180978122129"
     },
     "user_tz": -540
    },
    "id": "50XxFRVHaKP7"
   },
   "outputs": [],
   "source": [
    "# import os\n",
    "# import pandas as pd\n",
    "# import numpy as np\n",
    "# import re\n",
    "# import dask.dataframe as dd\n",
    "# \n",
    "# # path = 'C:/Users/user/Desktop/AIML/datasets/Data_Preprocessing/spam_set'\n",
    "# path = '/home/maroco/SMS-Filtering/data/raw/spam'\n",
    "# files = os.listdir(path)\n",
    "# filenames = []\n",
    "# \n",
    "# for root, dirs, files in os.walk(path):\n",
    "#   for file in files:\n",
    "#     if file.endswith('.csv'):\n",
    "#       filenames.append(os.path.join(root, file))\n",
    "# \n",
    "# # Create a list to store DataFrames\n",
    "# all_dfs = []\n",
    "# \n",
    "# for file in filenames:\n",
    "#   try:\n",
    "#     # Use 'on_bad_lines' instead of 'error_bad_lines'\n",
    "#     # df = pd.read_csv(file, on_bad_lines='skip', delimiter=\",\")  # Skip bad lines\n",
    "#     df = pd.read_csv(file)\n",
    "# \n",
    "#     # 정상화\n",
    "#     df.columns=['label', 'text']\n",
    "#     df = df.set_index('label')\n",
    "#     df['label'] = 'spam'\n",
    "#     # df['data'] = df['data'].str.replace('ifg@','')\n",
    "# \n",
    "#     # Dask Dataframe 생성\n",
    "#     # Move ddf creation after modifying the Pandas DataFrame\n",
    "#     ddf = dd.from_pandas(df, npartitions=4) # Create ddf after modifications\n",
    "# \n",
    "# \n",
    "#     # Append the current DataFrame to the list\n",
    "#     result = ddf.compute()\n",
    "#     all_dfs.append(result)\n",
    "# \n",
    "#   except pd.errors.ParserError as e:\n",
    "#     print(f\"Error reading file {file}: {e}\")\n",
    "# \n",
    "# # Concatenate all DataFrames in the list into a single DataFrame\n",
    "# raw = pd.concat(all_dfs, ignore_index=True)"
   ]
  },
  {
   "cell_type": "code",
   "execution_count": null,
   "metadata": {},
   "outputs": [],
   "source": [
    "# from konlpy.tag import Okt\n",
    "# import re\n",
    "# \n",
    "# # 형태소 분석기 초기화\n",
    "# okt = Okt()\n",
    "# \n",
    "# def preprocess_text(text):\n",
    "#     \"\"\"\n",
    "#     텍스트를 전처리하고 주요 형태소만 남깁니다.\n",
    "#     \"\"\"\n",
    "#     # 특수문자 제거\n",
    "#     text = re.sub(r\"[^가-힣a-zA-Z0-9\\s]\", \"\", text)\n",
    "#     # 공백 제거\n",
    "#     text = re.sub(r\"\\s+\", \" \", text).strip()\n",
    "#     # # 형태소 분석 후 명사와 동사만 추출\n",
    "#     # tokens = okt.pos(text, stem=True)\n",
    "#     # filtered_tokens = [word for word, pos in tokens if pos in ['Noun', 'Verb']]\n",
    "#     # # 복원된 텍스트 생성\n",
    "#     # return \" \".join(filtered_tokens)\n",
    "# \n",
    "# # 데이터셋 전처리\n",
    "# raw['text'] = raw['text'].apply(preprocess_text)"
   ]
  },
  {
   "cell_type": "code",
   "execution_count": null,
   "metadata": {},
   "outputs": [],
   "source": [
    "# # 텍스트 처리 함수 설정\n",
    "# def preprocess_text(text):\n",
    "#     # 여러 개의 공백을 하나의 공백으로 축소\n",
    "#     text = re.sub(r'\\s+', ' ', text)\n",
    "#     # 앞뒤 공백 제거\n",
    "#     text = text.strip()\n",
    "#     # 맨 앞의 숫자와 공백 또는 콜론 제거\n",
    "#     text = re.sub(r'^\\d+\\s*', '', text)\n",
    "#     # 필요에 따라 특수 문자 제거 (예시로 일부 문자만 제거)\n",
    "#     # text = re.sub(r'[^가-힣a-zA-Z0-9\\s]', '', text)\n",
    "#     text = re.sub(r\"[^\\w\\s@#%!?]\", \"\", text)  # Retain @, #, %, !, ?\n",
    "#     # 필요에 따라 특수 문자 제거 (예시로 일부 문자만 제거)\n",
    "#     text = re.sub(r'ifg@', '', text)\n",
    "#     # URL 마스킹\n",
    "#     text = re.sub(r\"http\\S+|www\\S+\", \"<URL>\", text)\n",
    "#     # *이 두개 이상 발생할 시 삭제\n",
    "#     text = re.sub(r\"\\*{2,}\",\"\", text)\n",
    "#     \n",
    "#     return text\n",
    "# \n",
    "# # 데이터셋 전처리\n",
    "# raw['text'] = raw['text'].apply(preprocess_text)"
   ]
  },
  {
   "cell_type": "code",
   "execution_count": null,
   "metadata": {
    "colab": {
     "base_uri": "https://localhost:8080/"
    },
    "executionInfo": {
     "elapsed": 4,
     "status": "ok",
     "timestamp": 1730192168680,
     "user": {
      "displayName": "마로코",
      "userId": "12205708180978122129"
     },
     "user_tz": -540
    },
    "id": "gYOhzZDSnwqA",
    "outputId": "20da5fb1-9ab9-4f5b-deed-bb03add3a85b"
   },
   "outputs": [
    {
     "name": "stdout",
     "output_type": "stream",
     "text": [
      "145884\n",
      "145884\n"
     ]
    }
   ],
   "source": [
    "# # 결측치 처리\n",
    "# print(len(raw))\n",
    "# drop_index = raw[raw['text'].isnull()].index\n",
    "# raw = raw.drop(drop_index)\n",
    "# print(len(raw))"
   ]
  },
  {
   "cell_type": "code",
   "execution_count": null,
   "metadata": {
    "colab": {
     "base_uri": "https://localhost:8080/"
    },
    "executionInfo": {
     "elapsed": 3,
     "status": "ok",
     "timestamp": 1730192168680,
     "user": {
      "displayName": "마로코",
      "userId": "12205708180978122129"
     },
     "user_tz": -540
    },
    "id": "bTHzgGW0oK0J",
    "outputId": "145720ba-325c-4607-fa09-77d9539a243e"
   },
   "outputs": [
    {
     "name": "stdout",
     "output_type": "stream",
     "text": [
      "145884\n",
      "128281\n"
     ]
    }
   ],
   "source": [
    "# # 중복 내용 제거\n",
    "# print(len(raw))\n",
    "# raw = raw.drop_duplicates('text')\n",
    "# print(len(raw))"
   ]
  },
  {
   "cell_type": "code",
   "execution_count": 6,
   "metadata": {},
   "outputs": [],
   "source": [
    "# raw['text'] = raw['text'].str.replace('Web발신', '').str.strip()\n",
    "# raw['text'] = raw['text'].str.replace('국제발신', '').str.strip()\n",
    "# raw['text'] = raw['text'].str.replace('광고', '').str.strip()\n",
    "# raw['text'] = raw['text'].str.replace('발신', '').str.strip()"
   ]
  },
  {
   "cell_type": "code",
   "execution_count": null,
   "metadata": {
    "colab": {
     "base_uri": "https://localhost:8080/",
     "height": 206
    },
    "executionInfo": {
     "elapsed": 343,
     "status": "ok",
     "timestamp": 1730192169020,
     "user": {
      "displayName": "마로코",
      "userId": "12205708180978122129"
     },
     "user_tz": -540
    },
    "id": "8btPRxHPoc1-",
    "outputId": "a2ac1018-958e-46ea-bbf5-d6467f4cafea"
   },
   "outputs": [
    {
     "data": {
      "text/html": [
       "<div>\n",
       "<style scoped>\n",
       "    .dataframe tbody tr th:only-of-type {\n",
       "        vertical-align: middle;\n",
       "    }\n",
       "\n",
       "    .dataframe tbody tr th {\n",
       "        vertical-align: top;\n",
       "    }\n",
       "\n",
       "    .dataframe thead th {\n",
       "        text-align: right;\n",
       "    }\n",
       "</style>\n",
       "<table border=\"1\" class=\"dataframe\">\n",
       "  <thead>\n",
       "    <tr style=\"text-align: right;\">\n",
       "      <th></th>\n",
       "      <th>text</th>\n",
       "      <th>label</th>\n",
       "    </tr>\n",
       "  </thead>\n",
       "  <tbody>\n",
       "    <tr>\n",
       "      <th>0</th>\n",
       "      <td>Web발신광고종근당건강_ 단일!!아이커상자드림우리아이 키성장에 도움을 주고싶다면??...</td>\n",
       "      <td>spam</td>\n",
       "    </tr>\n",
       "    <tr>\n",
       "      <th>1</th>\n",
       "      <td>Web발신광고KT안내안녕하세요 KT 신봉 대리점 입니다어느덧 무더운 여름이 찾아왔습...</td>\n",
       "      <td>spam</td>\n",
       "    </tr>\n",
       "    <tr>\n",
       "      <th>2</th>\n",
       "      <td>Web발신광고 김성춘님! GS칼텍스 OOO원 주유쿠폰 무료 증정 선착순 마감 임박 ...</td>\n",
       "      <td>spam</td>\n",
       "    </tr>\n",
       "    <tr>\n",
       "      <th>3</th>\n",
       "      <td>Web발신광고영농축산화수행사한우국거리원한우양념불고기원무료거부</td>\n",
       "      <td>spam</td>\n",
       "    </tr>\n",
       "    <tr>\n",
       "      <th>4</th>\n",
       "      <td>Web발신광고 레디캐시  GS 천원권 선물 드려요 본 문자는 대명아임레디 고객님께 ...</td>\n",
       "      <td>spam</td>\n",
       "    </tr>\n",
       "  </tbody>\n",
       "</table>\n",
       "</div>"
      ],
      "text/plain": [
       "                                                text label\n",
       "0  Web발신광고종근당건강_ 단일!!아이커상자드림우리아이 키성장에 도움을 주고싶다면??...  spam\n",
       "1  Web발신광고KT안내안녕하세요 KT 신봉 대리점 입니다어느덧 무더운 여름이 찾아왔습...  spam\n",
       "2  Web발신광고 김성춘님! GS칼텍스 OOO원 주유쿠폰 무료 증정 선착순 마감 임박 ...  spam\n",
       "3                  Web발신광고영농축산화수행사한우국거리원한우양념불고기원무료거부  spam\n",
       "4  Web발신광고 레디캐시  GS 천원권 선물 드려요 본 문자는 대명아임레디 고객님께 ...  spam"
      ]
     },
     "execution_count": 7,
     "metadata": {},
     "output_type": "execute_result"
    }
   ],
   "source": [
    "# raw.head()"
   ]
  },
  {
   "cell_type": "code",
   "execution_count": null,
   "metadata": {
    "executionInfo": {
     "elapsed": 866,
     "status": "ok",
     "timestamp": 1730192170206,
     "user": {
      "displayName": "마로코",
      "userId": "12205708180978122129"
     },
     "user_tz": -540
    },
    "id": "c9LKwjpBjeLk"
   },
   "outputs": [],
   "source": [
    "# raw.to_csv('/home/maroco/SMS-Filtering/data/preprocessed/spam_data.csv', index=False)"
   ]
  }
 ],
 "metadata": {
  "colab": {
   "authorship_tag": "ABX9TyOscwOJ8PE1pfJTuTrPBCzJ",
   "mount_file_id": "1QXHCGgkxQNRyzrG-ap7wpDLLIO3A7J3g",
   "provenance": []
  },
  "kernelspec": {
   "display_name": "kobert_env",
   "language": "python",
   "name": "python3"
  },
  "language_info": {
   "codemirror_mode": {
    "name": "ipython",
    "version": 3
   },
   "file_extension": ".py",
   "mimetype": "text/x-python",
   "name": "python",
   "nbconvert_exporter": "python",
   "pygments_lexer": "ipython3",
   "version": "3.10.15"
  }
 },
 "nbformat": 4,
 "nbformat_minor": 0
}
