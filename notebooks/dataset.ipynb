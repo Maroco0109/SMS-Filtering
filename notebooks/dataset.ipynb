{
 "cells": [
  {
   "cell_type": "code",
   "execution_count": null,
   "metadata": {},
   "outputs": [],
   "source": [
    "import pandas as pd\n",
    "from glob import glob\n",
    "\n",
    "file_names = glob(\"/home/maroco/SMS-Filtering/data/preprocessed/*.csv\") # 폴더 내의 모든 csv 파일 목록을 불러온다\n",
    "\n",
    "total = pd.DataFrame() # 빈 데이터프레임 하나를 생성한다\n",
    "\n",
    "for file_name in file_names:\n",
    "    temp = pd.read_csv(file_name, encoding='utf-8') # csv 파일을 하나씩 열어 임시 데이터프레임으로 생성한다\n",
    "    total = pd.concat([total, temp]) # 전체 데이터프레임에 추가하여 넣는다\n",
    "\n",
    "# 중복 항목 제거\n",
    "total = total.drop_duplicates()\n",
    "\n",
    "# 결과를 CSV 파일로 저장\n",
    "# total.to_csv(\"C:/Users/user/Desktop/AIML/datasets/SMS_dataset.csv\", index=False)\n",
    "total.to_csv(\"/home/maroco/SMS-Filtering/data/preprocessed/SMS_dataset.csv\", index=False)\n"
   ]
  },
  {
   "cell_type": "code",
   "execution_count": null,
   "metadata": {},
   "outputs": [
    {
     "name": "stdout",
     "output_type": "stream",
     "text": [
      "label\n",
      "spam    142606\n",
      "ham     119714\n",
      "Name: count, dtype: int64\n",
      "Spam ratio: 54.36%\n",
      "Ham ratio: 45.64%\n"
     ]
    }
   ],
   "source": [
    "import pandas as pd\n",
    "\n",
    "# CSV 파일 읽기\n",
    "file_path = '/home/maroco/SMS-Filtering/data/preprocessed/SMS_dataset.csv'\n",
    "df = pd.read_csv(file_path)\n",
    "\n",
    "# 레이블 분포 확인\n",
    "label_counts = df['label'].value_counts()  # Assuming the label column is named 'label'\n",
    "print(label_counts)\n",
    "\n",
    "# 각 클래스의 비율 확인\n",
    "spam_ratio = label_counts['spam'] / len(df) * 100\n",
    "ham_ratio = label_counts['ham'] / len(df) * 100\n",
    "\n",
    "print(f\"Spam ratio: {spam_ratio:.2f}%\")\n",
    "print(f\"Ham ratio: {ham_ratio:.2f}%\")\n"
   ]
  },
  {
   "cell_type": "code",
   "execution_count": null,
   "metadata": {},
   "outputs": [],
   "source": []
  }
 ],
 "metadata": {
  "kernelspec": {
   "display_name": "kobert_env",
   "language": "python",
   "name": "python3"
  },
  "language_info": {
   "codemirror_mode": {
    "name": "ipython",
    "version": 3
   },
   "file_extension": ".py",
   "mimetype": "text/x-python",
   "name": "python",
   "nbconvert_exporter": "python",
   "pygments_lexer": "ipython3",
   "version": "3.10.15"
  }
 },
 "nbformat": 4,
 "nbformat_minor": 2
}
