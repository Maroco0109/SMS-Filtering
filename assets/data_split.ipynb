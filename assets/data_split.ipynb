{
 "cells": [
  {
   "cell_type": "code",
   "execution_count": 1,
   "metadata": {},
   "outputs": [],
   "source": [
    "import numpy as np\n",
    "import pandas as pd\n",
    "import matplotlib.pyplot as plt\n",
    "from sklearn.model_selection import train_test_split\n",
    "# from tensorflow.keras.preprocessing.text import Tokenizer\n",
    "# from tensorflow.keras.preprocessing.sequence import pad_sequences"
   ]
  },
  {
   "cell_type": "code",
   "execution_count": 2,
   "metadata": {},
   "outputs": [
    {
     "name": "stdout",
     "output_type": "stream",
     "text": [
      "총 샘플의 수:  262320\n"
     ]
    }
   ],
   "source": [
    "# data = pd.read_csv(\"C:/Users/user/Desktop/AIML/datasets/SMS_dataset.csv\")\n",
    "data = pd.read_csv(\"/home/maroco/dataset/sms_dataset/SMS_dataset.csv\")\n",
    "print('총 샘플의 수: ',len(data))"
   ]
  },
  {
   "cell_type": "code",
   "execution_count": 3,
   "metadata": {},
   "outputs": [
    {
     "data": {
      "text/html": [
       "<div>\n",
       "<style scoped>\n",
       "    .dataframe tbody tr th:only-of-type {\n",
       "        vertical-align: middle;\n",
       "    }\n",
       "\n",
       "    .dataframe tbody tr th {\n",
       "        vertical-align: top;\n",
       "    }\n",
       "\n",
       "    .dataframe thead th {\n",
       "        text-align: right;\n",
       "    }\n",
       "</style>\n",
       "<table border=\"1\" class=\"dataframe\">\n",
       "  <thead>\n",
       "    <tr style=\"text-align: right;\">\n",
       "      <th></th>\n",
       "      <th>text</th>\n",
       "      <th>label</th>\n",
       "    </tr>\n",
       "  </thead>\n",
       "  <tbody>\n",
       "    <tr>\n",
       "      <th>0</th>\n",
       "      <td>Web발신광고종근당건강_ 단일!!아이커상자드림우리아이 키성장에 도움을 주고싶다면??...</td>\n",
       "      <td>spam</td>\n",
       "    </tr>\n",
       "    <tr>\n",
       "      <th>1</th>\n",
       "      <td>Web발신광고KT안내안녕하세요 KT 신봉 대리점 입니다어느덧 무더운 여름이 찾아왔습...</td>\n",
       "      <td>spam</td>\n",
       "    </tr>\n",
       "    <tr>\n",
       "      <th>2</th>\n",
       "      <td>Web발신광고 김성춘님! GS칼텍스 OOO원 주유쿠폰 무료 증정 선착순 마감 임박 ...</td>\n",
       "      <td>spam</td>\n",
       "    </tr>\n",
       "    <tr>\n",
       "      <th>3</th>\n",
       "      <td>Web발신광고영농축산화수행사한우국거리원한우양념불고기원무료거부</td>\n",
       "      <td>spam</td>\n",
       "    </tr>\n",
       "    <tr>\n",
       "      <th>4</th>\n",
       "      <td>Web발신광고 레디캐시  GS 천원권 선물 드려요 본 문자는 대명아임레디 고객님께 ...</td>\n",
       "      <td>spam</td>\n",
       "    </tr>\n",
       "  </tbody>\n",
       "</table>\n",
       "</div>"
      ],
      "text/plain": [
       "                                                text label\n",
       "0  Web발신광고종근당건강_ 단일!!아이커상자드림우리아이 키성장에 도움을 주고싶다면??...  spam\n",
       "1  Web발신광고KT안내안녕하세요 KT 신봉 대리점 입니다어느덧 무더운 여름이 찾아왔습...  spam\n",
       "2  Web발신광고 김성춘님! GS칼텍스 OOO원 주유쿠폰 무료 증정 선착순 마감 임박 ...  spam\n",
       "3                  Web발신광고영농축산화수행사한우국거리원한우양념불고기원무료거부  spam\n",
       "4  Web발신광고 레디캐시  GS 천원권 선물 드려요 본 문자는 대명아임레디 고객님께 ...  spam"
      ]
     },
     "execution_count": 3,
     "metadata": {},
     "output_type": "execute_result"
    }
   ],
   "source": [
    "data[:5]"
   ]
  },
  {
   "cell_type": "code",
   "execution_count": 4,
   "metadata": {},
   "outputs": [
    {
     "name": "stdout",
     "output_type": "stream",
     "text": [
      "결측값 여부 : False\n"
     ]
    }
   ],
   "source": [
    "print('결측값 여부 :', data.isnull().values.any())"
   ]
  },
  {
   "cell_type": "code",
   "execution_count": 5,
   "metadata": {},
   "outputs": [
    {
     "name": "stdout",
     "output_type": "stream",
     "text": [
      "데이터의 유니크 값 : 262320\n"
     ]
    }
   ],
   "source": [
    "print('데이터의 유니크 값 :', data['text'].nunique())"
   ]
  },
  {
   "cell_type": "code",
   "execution_count": 6,
   "metadata": {},
   "outputs": [
    {
     "name": "stdout",
     "output_type": "stream",
     "text": [
      "총 샘플의 수:  262320\n"
     ]
    }
   ],
   "source": [
    "# 중복 데이터 제거\n",
    "data.drop_duplicates(subset=['text'], inplace=True)\n",
    "print(\"총 샘플의 수: \", len(data))"
   ]
  },
  {
   "cell_type": "code",
   "execution_count": 7,
   "metadata": {},
   "outputs": [
    {
     "name": "stdout",
     "output_type": "stream",
     "text": [
      "  label   count\n",
      "0   ham  119714\n",
      "1  spam  142606\n"
     ]
    }
   ],
   "source": [
    "# 정상 문자, 스팸 문자 개수 파악\n",
    "print(data.groupby('label').size().reset_index(name='count'))"
   ]
  },
  {
   "cell_type": "code",
   "execution_count": 8,
   "metadata": {},
   "outputs": [
    {
     "name": "stdout",
     "output_type": "stream",
     "text": [
      "정상 문자의 비율 = 45.637%\n",
      "스팸 문자의 비율 = 54.363%\n"
     ]
    }
   ],
   "source": [
    "print(f\"정상 문자의 비율 = {round(data['label'].value_counts()['ham']/len(data) * 100,3)}%\")\n",
    "print(f\"스팸 문자의 비율 = {round(data['label'].value_counts()['spam']/len(data) * 100,3)}%\")"
   ]
  },
  {
   "cell_type": "code",
   "execution_count": 9,
   "metadata": {},
   "outputs": [
    {
     "name": "stdout",
     "output_type": "stream",
     "text": [
      "메일 본문의 개수: 262320\n",
      "레이블의 개수: 262320\n"
     ]
    }
   ],
   "source": [
    "X_data = data['text']\n",
    "y_data = data['label']\n",
    "print('메일 본문의 개수: {}'.format(len(X_data)))\n",
    "print('레이블의 개수: {}'.format(len(y_data)))"
   ]
  },
  {
   "cell_type": "code",
   "execution_count": 10,
   "metadata": {},
   "outputs": [],
   "source": [
    "X_train, X_test, y_train, y_test = train_test_split(X_data, y_data, test_size=0.2, random_state=0, stratify=y_data)"
   ]
  },
  {
   "cell_type": "code",
   "execution_count": 11,
   "metadata": {},
   "outputs": [
    {
     "name": "stdout",
     "output_type": "stream",
     "text": [
      "--------훈련 데이터의 비율-----------\n",
      "정상 문자 = 45.637%\n",
      "스팸 문자 = 54.363%\n"
     ]
    }
   ],
   "source": [
    "print('--------훈련 데이터의 비율-----------')\n",
    "print(f\"정상 문자 = {round(y_train.value_counts()['ham']/len(y_train) * 100,3)}%\")\n",
    "print(f\"스팸 문자 = {round(y_train.value_counts()['spam']/len(y_train) * 100,3)}%\")"
   ]
  },
  {
   "cell_type": "code",
   "execution_count": 12,
   "metadata": {},
   "outputs": [
    {
     "name": "stdout",
     "output_type": "stream",
     "text": [
      "--------테스트 데이터의 비율-----------\n",
      "정상 문자 = 45.637%\n",
      "스팸 문자 = 54.363%\n"
     ]
    }
   ],
   "source": [
    "print('--------테스트 데이터의 비율-----------')\n",
    "print(f\"정상 문자 = {round(y_test.value_counts()['ham']/len(y_test) * 100,3)}%\")\n",
    "print(f\"스팸 문자 = {round(y_test.value_counts()['spam']/len(y_test) * 100,3)}%\")"
   ]
  },
  {
   "cell_type": "code",
   "execution_count": 13,
   "metadata": {},
   "outputs": [],
   "source": [
    "# 훈련 데이터 및 테스틑 데이터 통합\n",
    "train_set = pd.concat([X_train, y_train], axis=1).reset_index(drop=True)\n",
    "test_set = pd.concat([X_test, y_test], axis=1).reset_index(drop=True)"
   ]
  },
  {
   "cell_type": "code",
   "execution_count": 14,
   "metadata": {},
   "outputs": [],
   "source": [
    "# 파일로 저장\n",
    "train_set.to_csv(\"/home/maroco/dataset/model/train_set.csv\", index=False)\n",
    "test_set.to_csv(\"/home/maroco/dataset/model/test_set.csv\", index=False)\n",
    "\n",
    "# train_set.to_csv(\"/home/maroco/dataset/model/train_set.csv\", sep='\\t', index=True, index_label='id')\n",
    "# test_set.to_csv(\"/home/maroco/dataset/model/test_set.csv\", sep='\\t', index=True, index_label='id')"
   ]
  },
  {
   "cell_type": "code",
   "execution_count": 15,
   "metadata": {},
   "outputs": [
    {
     "data": {
      "text/html": [
       "<div>\n",
       "<style scoped>\n",
       "    .dataframe tbody tr th:only-of-type {\n",
       "        vertical-align: middle;\n",
       "    }\n",
       "\n",
       "    .dataframe tbody tr th {\n",
       "        vertical-align: top;\n",
       "    }\n",
       "\n",
       "    .dataframe thead th {\n",
       "        text-align: right;\n",
       "    }\n",
       "</style>\n",
       "<table border=\"1\" class=\"dataframe\">\n",
       "  <thead>\n",
       "    <tr style=\"text-align: right;\">\n",
       "      <th></th>\n",
       "      <th>text</th>\n",
       "      <th>label</th>\n",
       "    </tr>\n",
       "  </thead>\n",
       "  <tbody>\n",
       "    <tr>\n",
       "      <th>0</th>\n",
       "      <td>광고현대백화점 충청점 여름을 준비하는  더욱 쿨한 방법  httpsurlkrutjq...</td>\n",
       "      <td>spam</td>\n",
       "    </tr>\n",
       "    <tr>\n",
       "      <th>1</th>\n",
       "      <td>네 연락주세요</td>\n",
       "      <td>ham</td>\n",
       "    </tr>\n",
       "    <tr>\n",
       "      <th>2</th>\n",
       "      <td>응 새 요가복 있는 거 팔았어</td>\n",
       "      <td>ham</td>\n",
       "    </tr>\n",
       "    <tr>\n",
       "      <th>3</th>\n",
       "      <td>딸기는 칠천원이요</td>\n",
       "      <td>ham</td>\n",
       "    </tr>\n",
       "    <tr>\n",
       "      <th>4</th>\n",
       "      <td>싫다</td>\n",
       "      <td>ham</td>\n",
       "    </tr>\n",
       "  </tbody>\n",
       "</table>\n",
       "</div>"
      ],
      "text/plain": [
       "                                                text label\n",
       "0  광고현대백화점 충청점 여름을 준비하는  더욱 쿨한 방법  httpsurlkrutjq...  spam\n",
       "1                                            네 연락주세요   ham\n",
       "2                                   응 새 요가복 있는 거 팔았어   ham\n",
       "3                                          딸기는 칠천원이요   ham\n",
       "4                                                 싫다   ham"
      ]
     },
     "execution_count": 15,
     "metadata": {},
     "output_type": "execute_result"
    }
   ],
   "source": [
    "train_set.head()"
   ]
  },
  {
   "cell_type": "code",
   "execution_count": 16,
   "metadata": {},
   "outputs": [
    {
     "data": {
      "text/html": [
       "<div>\n",
       "<style scoped>\n",
       "    .dataframe tbody tr th:only-of-type {\n",
       "        vertical-align: middle;\n",
       "    }\n",
       "\n",
       "    .dataframe tbody tr th {\n",
       "        vertical-align: top;\n",
       "    }\n",
       "\n",
       "    .dataframe thead th {\n",
       "        text-align: right;\n",
       "    }\n",
       "</style>\n",
       "<table border=\"1\" class=\"dataframe\">\n",
       "  <thead>\n",
       "    <tr style=\"text-align: right;\">\n",
       "      <th></th>\n",
       "      <th>text</th>\n",
       "      <th>label</th>\n",
       "    </tr>\n",
       "  </thead>\n",
       "  <tbody>\n",
       "    <tr>\n",
       "      <th>0</th>\n",
       "      <td>Web발신광고 수요일 뭉티기 먹는날 앞으로 매주 수요일 당일도축분 뭉티기 한정수량 ...</td>\n",
       "      <td>spam</td>\n",
       "    </tr>\n",
       "    <tr>\n",
       "      <th>1</th>\n",
       "      <td>사장님 여기 와이파이는 안되나요?</td>\n",
       "      <td>ham</td>\n",
       "    </tr>\n",
       "    <tr>\n",
       "      <th>2</th>\n",
       "      <td>Web발신광고SKT DB손해보험 참좋은운전자보험 상담 이벤트 안내고객님 안녕하세요S...</td>\n",
       "      <td>spam</td>\n",
       "    </tr>\n",
       "    <tr>\n",
       "      <th>3</th>\n",
       "      <td>간식비 따로 나오나요?</td>\n",
       "      <td>ham</td>\n",
       "    </tr>\n",
       "    <tr>\n",
       "      <th>4</th>\n",
       "      <td>광고포스코 더샵 아르테조건변경일반분양아파트잔여세대 선착순 동호지정지명계약시 황금열쇠...</td>\n",
       "      <td>spam</td>\n",
       "    </tr>\n",
       "  </tbody>\n",
       "</table>\n",
       "</div>"
      ],
      "text/plain": [
       "                                                text label\n",
       "0  Web발신광고 수요일 뭉티기 먹는날 앞으로 매주 수요일 당일도축분 뭉티기 한정수량 ...  spam\n",
       "1                                 사장님 여기 와이파이는 안되나요?   ham\n",
       "2  Web발신광고SKT DB손해보험 참좋은운전자보험 상담 이벤트 안내고객님 안녕하세요S...  spam\n",
       "3                                       간식비 따로 나오나요?   ham\n",
       "4  광고포스코 더샵 아르테조건변경일반분양아파트잔여세대 선착순 동호지정지명계약시 황금열쇠...  spam"
      ]
     },
     "execution_count": 16,
     "metadata": {},
     "output_type": "execute_result"
    }
   ],
   "source": [
    "test_set.head()"
   ]
  },
  {
   "cell_type": "code",
   "execution_count": null,
   "metadata": {},
   "outputs": [],
   "source": []
  }
 ],
 "metadata": {
  "kernelspec": {
   "display_name": "kobert_env",
   "language": "python",
   "name": "python3"
  },
  "language_info": {
   "codemirror_mode": {
    "name": "ipython",
    "version": 3
   },
   "file_extension": ".py",
   "mimetype": "text/x-python",
   "name": "python",
   "nbconvert_exporter": "python",
   "pygments_lexer": "ipython3",
   "version": "3.10.15"
  }
 },
 "nbformat": 4,
 "nbformat_minor": 2
}
