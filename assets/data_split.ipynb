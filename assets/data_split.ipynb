{
 "cells": [
  {
   "cell_type": "code",
   "execution_count": 17,
   "metadata": {},
   "outputs": [],
   "source": [
    "import numpy as np\n",
    "import pandas as pd\n",
    "import matplotlib.pyplot as plt\n",
    "from sklearn.model_selection import train_test_split\n",
    "# from tensorflow.keras.preprocessing.text import Tokenizer\n",
    "# from tensorflow.keras.preprocessing.sequence import pad_sequences"
   ]
  },
  {
   "cell_type": "code",
   "execution_count": 18,
   "metadata": {},
   "outputs": [
    {
     "name": "stdout",
     "output_type": "stream",
     "text": [
      "총 샘플의 수:  317294\n"
     ]
    }
   ],
   "source": [
    "# data = pd.read_csv(\"C:/Users/user/Desktop/AIML/datasets/SMS_dataset.csv\")\n",
    "data = pd.read_csv(\"/home/maroco/dataset/sms_dataset/SMS_dataset.csv\")\n",
    "print('총 샘플의 수: ',len(data))"
   ]
  },
  {
   "cell_type": "code",
   "execution_count": 19,
   "metadata": {},
   "outputs": [
    {
     "data": {
      "text/html": [
       "<div>\n",
       "<style scoped>\n",
       "    .dataframe tbody tr th:only-of-type {\n",
       "        vertical-align: middle;\n",
       "    }\n",
       "\n",
       "    .dataframe tbody tr th {\n",
       "        vertical-align: top;\n",
       "    }\n",
       "\n",
       "    .dataframe thead th {\n",
       "        text-align: right;\n",
       "    }\n",
       "</style>\n",
       "<table border=\"1\" class=\"dataframe\">\n",
       "  <thead>\n",
       "    <tr style=\"text-align: right;\">\n",
       "      <th></th>\n",
       "      <th>data</th>\n",
       "      <th>spam</th>\n",
       "    </tr>\n",
       "  </thead>\n",
       "  <tbody>\n",
       "    <tr>\n",
       "      <th>0</th>\n",
       "      <td>종근당 건강 아이 크다 상자 드리다 아이 키 성장 도움 주다 주목 국내 유일 키 성...</td>\n",
       "      <td>1</td>\n",
       "    </tr>\n",
       "    <tr>\n",
       "      <th>1</th>\n",
       "      <td>신봉 대리점 여름 찾아오다 항상 기원 하다 마음 저희 신봉 점 이용 해주다 벤트 사...</td>\n",
       "      <td>1</td>\n",
       "    </tr>\n",
       "    <tr>\n",
       "      <th>2</th>\n",
       "      <td>김성춘 칼텍스 원 주유 쿠폰 무료 증정 선착순 마감 임박 또 나 모르다 뻔 하다 신...</td>\n",
       "      <td>1</td>\n",
       "    </tr>\n",
       "    <tr>\n",
       "      <th>3</th>\n",
       "      <td>농축 산화수 행사 우국 거리 한우 양념 불고기 무료 거부</td>\n",
       "      <td>1</td>\n",
       "    </tr>\n",
       "    <tr>\n",
       "      <th>4</th>\n",
       "      <td>레디 캐시 천원 선물 드리다 보다 문자 대명 임 레디 고객 발송 되다 정서 고객 이...</td>\n",
       "      <td>1</td>\n",
       "    </tr>\n",
       "  </tbody>\n",
       "</table>\n",
       "</div>"
      ],
      "text/plain": [
       "                                                data  spam\n",
       "0  종근당 건강 아이 크다 상자 드리다 아이 키 성장 도움 주다 주목 국내 유일 키 성...     1\n",
       "1  신봉 대리점 여름 찾아오다 항상 기원 하다 마음 저희 신봉 점 이용 해주다 벤트 사...     1\n",
       "2  김성춘 칼텍스 원 주유 쿠폰 무료 증정 선착순 마감 임박 또 나 모르다 뻔 하다 신...     1\n",
       "3                    농축 산화수 행사 우국 거리 한우 양념 불고기 무료 거부     1\n",
       "4  레디 캐시 천원 선물 드리다 보다 문자 대명 임 레디 고객 발송 되다 정서 고객 이...     1"
      ]
     },
     "execution_count": 19,
     "metadata": {},
     "output_type": "execute_result"
    }
   ],
   "source": [
    "data[:5]"
   ]
  },
  {
   "cell_type": "code",
   "execution_count": 20,
   "metadata": {},
   "outputs": [
    {
     "name": "stdout",
     "output_type": "stream",
     "text": [
      "결측값 여부 : True\n"
     ]
    }
   ],
   "source": [
    "print('결측값 여부 :', data.isnull().values.any())"
   ]
  },
  {
   "cell_type": "code",
   "execution_count": 21,
   "metadata": {},
   "outputs": [
    {
     "name": "stdout",
     "output_type": "stream",
     "text": [
      "데이터의 유니크 값 : 317293\n"
     ]
    }
   ],
   "source": [
    "print('데이터의 유니크 값 :', data['data'].nunique())"
   ]
  },
  {
   "cell_type": "code",
   "execution_count": 22,
   "metadata": {},
   "outputs": [
    {
     "name": "stdout",
     "output_type": "stream",
     "text": [
      "총 샘플의 수:  317294\n"
     ]
    }
   ],
   "source": [
    "# 중복 데이터 제거\n",
    "data.drop_duplicates(subset=['data'], inplace=True)\n",
    "print(\"총 샘플의 수: \", len(data))"
   ]
  },
  {
   "cell_type": "code",
   "execution_count": 23,
   "metadata": {},
   "outputs": [
    {
     "name": "stdout",
     "output_type": "stream",
     "text": [
      "   spam   count\n",
      "0     0  119714\n",
      "1     1  197580\n"
     ]
    }
   ],
   "source": [
    "# 정상 문자, 스팸 문자 개수 파악\n",
    "print(data.groupby('spam').size().reset_index(name='count'))"
   ]
  },
  {
   "cell_type": "code",
   "execution_count": 24,
   "metadata": {},
   "outputs": [
    {
     "name": "stdout",
     "output_type": "stream",
     "text": [
      "정상 문자의 비율 = 37.73%\n",
      "스팸 문자의 비율 = 62.27%\n"
     ]
    }
   ],
   "source": [
    "print(f'정상 문자의 비율 = {round(data[\"spam\"].value_counts()[0]/len(data) * 100,3)}%')\n",
    "print(f'스팸 문자의 비율 = {round(data[\"spam\"].value_counts()[1]/len(data) * 100,3)}%')"
   ]
  },
  {
   "cell_type": "code",
   "execution_count": 25,
   "metadata": {},
   "outputs": [
    {
     "name": "stdout",
     "output_type": "stream",
     "text": [
      "메일 본문의 개수: 317294\n",
      "레이블의 개수: 317294\n"
     ]
    }
   ],
   "source": [
    "X_data = data['data']\n",
    "y_data = data['spam']\n",
    "print('메일 본문의 개수: {}'.format(len(X_data)))\n",
    "print('레이블의 개수: {}'.format(len(y_data)))"
   ]
  },
  {
   "cell_type": "code",
   "execution_count": 26,
   "metadata": {},
   "outputs": [],
   "source": [
    "X_train, X_test, y_train, y_test = train_test_split(X_data, y_data, test_size=0.2, random_state=0, stratify=y_data)"
   ]
  },
  {
   "cell_type": "code",
   "execution_count": 27,
   "metadata": {},
   "outputs": [
    {
     "name": "stdout",
     "output_type": "stream",
     "text": [
      "--------훈련 데이터의 비율-----------\n",
      "정상 문자 = 37.73%\n",
      "스팸 문자 = 62.27%\n"
     ]
    }
   ],
   "source": [
    "print('--------훈련 데이터의 비율-----------')\n",
    "print(f'정상 문자 = {round(y_train.value_counts()[0]/len(y_train) * 100,3)}%')\n",
    "print(f'스팸 문자 = {round(y_train.value_counts()[1]/len(y_train) * 100,3)}%')"
   ]
  },
  {
   "cell_type": "code",
   "execution_count": 28,
   "metadata": {},
   "outputs": [
    {
     "name": "stdout",
     "output_type": "stream",
     "text": [
      "--------테스트 데이터의 비율-----------\n",
      "정상 문자 = 37.73%\n",
      "스팸 문자 = 62.27%\n"
     ]
    }
   ],
   "source": [
    "print('--------테스트 데이터의 비율-----------')\n",
    "print(f'정상 문자 = {round(y_test.value_counts()[0]/len(y_test) * 100,3)}%')\n",
    "print(f'스팸 문자 = {round(y_test.value_counts()[1]/len(y_test) * 100,3)}%')"
   ]
  },
  {
   "cell_type": "code",
   "execution_count": 29,
   "metadata": {},
   "outputs": [],
   "source": [
    "# 훈련 데이터 및 테스틑 데이터 통합\n",
    "train_set = pd.concat([X_train, y_train], axis=1).reset_index(drop=True)\n",
    "test_set = pd.concat([X_test, y_test], axis=1).reset_index(drop=True)"
   ]
  },
  {
   "cell_type": "code",
   "execution_count": 30,
   "metadata": {},
   "outputs": [],
   "source": [
    "# 파일로 저장\n",
    "# train_set.to_csv(\"C:/Users/user/Desktop/AIML/datasets/train_set.csv\", index=False)\n",
    "# test_set.to_csv(\"C:/Users/user/Desktop/AIML/datasets/test_set.csv\", index=False)\n",
    "\n",
    "train_set.to_csv(\"/home/maroco/dataset/model/train_set.tsv\", sep='\\t', index=True, index_label='id')\n",
    "test_set.to_csv(\"/home/maroco/dataset/model/test_set.tsv\", sep='\\t', index=True, index_label='id')"
   ]
  },
  {
   "cell_type": "code",
   "execution_count": 31,
   "metadata": {},
   "outputs": [
    {
     "data": {
      "text/html": [
       "<div>\n",
       "<style scoped>\n",
       "    .dataframe tbody tr th:only-of-type {\n",
       "        vertical-align: middle;\n",
       "    }\n",
       "\n",
       "    .dataframe tbody tr th {\n",
       "        vertical-align: top;\n",
       "    }\n",
       "\n",
       "    .dataframe thead th {\n",
       "        text-align: right;\n",
       "    }\n",
       "</style>\n",
       "<table border=\"1\" class=\"dataframe\">\n",
       "  <thead>\n",
       "    <tr style=\"text-align: right;\">\n",
       "      <th></th>\n",
       "      <th>data</th>\n",
       "      <th>spam</th>\n",
       "    </tr>\n",
       "  </thead>\n",
       "  <tbody>\n",
       "    <tr>\n",
       "      <th>0</th>\n",
       "      <td>전자 베스트 중고 앞 사거리 확장 이전 오픈 정훈 숙 고객 수진역 베스트 성남 중앙...</td>\n",
       "      <td>1</td>\n",
       "    </tr>\n",
       "    <tr>\n",
       "      <th>1</th>\n",
       "      <td>국외  우리 시작 하다 신규 만 쿠폰 받다</td>\n",
       "      <td>1</td>\n",
       "    </tr>\n",
       "    <tr>\n",
       "      <th>2</th>\n",
       "      <td>컬리 건강 관심 김숙 최대 증정 품 드리다 유산균 특 가전 구경 오다 들다 모네 특...</td>\n",
       "      <td>1</td>\n",
       "    </tr>\n",
       "    <tr>\n",
       "      <th>3</th>\n",
       "      <td>문은 몇 시부터 몇 시까지 열어요?</td>\n",
       "      <td>0</td>\n",
       "    </tr>\n",
       "    <tr>\n",
       "      <th>4</th>\n",
       "      <td>종근당 건강 키 성장 넘버 아이 크다 고민 이세 맛 좋아지다 성분 더더 더 강화 되...</td>\n",
       "      <td>1</td>\n",
       "    </tr>\n",
       "  </tbody>\n",
       "</table>\n",
       "</div>"
      ],
      "text/plain": [
       "                                                data  spam\n",
       "0  전자 베스트 중고 앞 사거리 확장 이전 오픈 정훈 숙 고객 수진역 베스트 성남 중앙...     1\n",
       "1                            국외  우리 시작 하다 신규 만 쿠폰 받다     1\n",
       "2  컬리 건강 관심 김숙 최대 증정 품 드리다 유산균 특 가전 구경 오다 들다 모네 특...     1\n",
       "3                                문은 몇 시부터 몇 시까지 열어요?     0\n",
       "4  종근당 건강 키 성장 넘버 아이 크다 고민 이세 맛 좋아지다 성분 더더 더 강화 되...     1"
      ]
     },
     "execution_count": 31,
     "metadata": {},
     "output_type": "execute_result"
    }
   ],
   "source": [
    "train_set.head()"
   ]
  },
  {
   "cell_type": "code",
   "execution_count": 32,
   "metadata": {},
   "outputs": [
    {
     "data": {
      "text/html": [
       "<div>\n",
       "<style scoped>\n",
       "    .dataframe tbody tr th:only-of-type {\n",
       "        vertical-align: middle;\n",
       "    }\n",
       "\n",
       "    .dataframe tbody tr th {\n",
       "        vertical-align: top;\n",
       "    }\n",
       "\n",
       "    .dataframe thead th {\n",
       "        text-align: right;\n",
       "    }\n",
       "</style>\n",
       "<table border=\"1\" class=\"dataframe\">\n",
       "  <thead>\n",
       "    <tr style=\"text-align: right;\">\n",
       "      <th></th>\n",
       "      <th>data</th>\n",
       "      <th>spam</th>\n",
       "    </tr>\n",
       "  </thead>\n",
       "  <tbody>\n",
       "    <tr>\n",
       "      <th>0</th>\n",
       "      <td>네, 제가 #이름#입니다</td>\n",
       "      <td>0</td>\n",
       "    </tr>\n",
       "    <tr>\n",
       "      <th>1</th>\n",
       "      <td>질 스튜어트 노원 점 할인 행사 서명 고객 질 스튜어트 할인 행사 진행 되다 예정 ...</td>\n",
       "      <td>1</td>\n",
       "    </tr>\n",
       "    <tr>\n",
       "      <th>2</th>\n",
       "      <td>전자 베스트  김 춘자 고객 전자 신림 점 지점 김 광년 전자 신림 점 특별 행사 ...</td>\n",
       "      <td>1</td>\n",
       "    </tr>\n",
       "    <tr>\n",
       "      <th>3</th>\n",
       "      <td>색깔은 두가지인가요?</td>\n",
       "      <td>0</td>\n",
       "    </tr>\n",
       "    <tr>\n",
       "      <th>4</th>\n",
       "      <td>삼성 스토어 익산 창문 에어컨 시스템 에어컨 삼성 스토어 익산 미리 구매 하다 기사...</td>\n",
       "      <td>1</td>\n",
       "    </tr>\n",
       "  </tbody>\n",
       "</table>\n",
       "</div>"
      ],
      "text/plain": [
       "                                                data  spam\n",
       "0                                      네, 제가 #이름#입니다     0\n",
       "1  질 스튜어트 노원 점 할인 행사 서명 고객 질 스튜어트 할인 행사 진행 되다 예정 ...     1\n",
       "2  전자 베스트  김 춘자 고객 전자 신림 점 지점 김 광년 전자 신림 점 특별 행사 ...     1\n",
       "3                                        색깔은 두가지인가요?     0\n",
       "4  삼성 스토어 익산 창문 에어컨 시스템 에어컨 삼성 스토어 익산 미리 구매 하다 기사...     1"
      ]
     },
     "execution_count": 32,
     "metadata": {},
     "output_type": "execute_result"
    }
   ],
   "source": [
    "test_set.head()"
   ]
  }
 ],
 "metadata": {
  "kernelspec": {
   "display_name": "kobert_env",
   "language": "python",
   "name": "python3"
  },
  "language_info": {
   "codemirror_mode": {
    "name": "ipython",
    "version": 3
   },
   "file_extension": ".py",
   "mimetype": "text/x-python",
   "name": "python",
   "nbconvert_exporter": "python",
   "pygments_lexer": "ipython3",
   "version": "3.10.15"
  }
 },
 "nbformat": 4,
 "nbformat_minor": 2
}
