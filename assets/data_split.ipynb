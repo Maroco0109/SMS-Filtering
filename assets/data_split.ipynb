{
 "cells": [
  {
   "cell_type": "code",
   "execution_count": 1,
   "metadata": {},
   "outputs": [],
   "source": [
    "import numpy as np\n",
    "import pandas as pd\n",
    "import matplotlib.pyplot as plt\n",
    "from sklearn.model_selection import train_test_split\n",
    "# from tensorflow.keras.preprocessing.text import Tokenizer\n",
    "# from tensorflow.keras.preprocessing.sequence import pad_sequences"
   ]
  },
  {
   "cell_type": "code",
   "execution_count": 2,
   "metadata": {},
   "outputs": [
    {
     "name": "stdout",
     "output_type": "stream",
     "text": [
      "총 샘플의 수:  593070\n"
     ]
    }
   ],
   "source": [
    "# data = pd.read_csv(\"C:/Users/user/Desktop/AIML/datasets/SMS_dataset.csv\")\n",
    "data = pd.read_csv(\"/home/maroco/dataset/sms_dataset/SMS_dataset.csv\")\n",
    "print('총 샘플의 수: ',len(data))"
   ]
  },
  {
   "cell_type": "code",
   "execution_count": 3,
   "metadata": {},
   "outputs": [
    {
     "data": {
      "text/html": [
       "<div>\n",
       "<style scoped>\n",
       "    .dataframe tbody tr th:only-of-type {\n",
       "        vertical-align: middle;\n",
       "    }\n",
       "\n",
       "    .dataframe tbody tr th {\n",
       "        vertical-align: top;\n",
       "    }\n",
       "\n",
       "    .dataframe thead th {\n",
       "        text-align: right;\n",
       "    }\n",
       "</style>\n",
       "<table border=\"1\" class=\"dataframe\">\n",
       "  <thead>\n",
       "    <tr style=\"text-align: right;\">\n",
       "      <th></th>\n",
       "      <th>text</th>\n",
       "      <th>label</th>\n",
       "    </tr>\n",
       "  </thead>\n",
       "  <tbody>\n",
       "    <tr>\n",
       "      <th>0</th>\n",
       "      <td>Web발신광고종근당건강_ 단일!!아이커상자드림우리아이 키성장에 도움을 주고싶다면??...</td>\n",
       "      <td>spam</td>\n",
       "    </tr>\n",
       "    <tr>\n",
       "      <th>1</th>\n",
       "      <td>Web발신광고KT안내안녕하세요 KT 신봉 대리점 입니다어느덧 무더운 여름이 찾아왔습...</td>\n",
       "      <td>spam</td>\n",
       "    </tr>\n",
       "    <tr>\n",
       "      <th>2</th>\n",
       "      <td>Web발신광고 김성춘님! GS칼텍스 OOO원 주유쿠폰 무료 증정 선착순 마감 임박 ...</td>\n",
       "      <td>spam</td>\n",
       "    </tr>\n",
       "    <tr>\n",
       "      <th>3</th>\n",
       "      <td>Web발신광고영농축산화수행사한우국거리원한우양념불고기원무료거부</td>\n",
       "      <td>spam</td>\n",
       "    </tr>\n",
       "    <tr>\n",
       "      <th>4</th>\n",
       "      <td>Web발신광고 레디캐시  GS 천원권 선물 드려요 본 문자는 대명아임레디 고객님께 ...</td>\n",
       "      <td>spam</td>\n",
       "    </tr>\n",
       "  </tbody>\n",
       "</table>\n",
       "</div>"
      ],
      "text/plain": [
       "                                                text label\n",
       "0  Web발신광고종근당건강_ 단일!!아이커상자드림우리아이 키성장에 도움을 주고싶다면??...  spam\n",
       "1  Web발신광고KT안내안녕하세요 KT 신봉 대리점 입니다어느덧 무더운 여름이 찾아왔습...  spam\n",
       "2  Web발신광고 김성춘님! GS칼텍스 OOO원 주유쿠폰 무료 증정 선착순 마감 임박 ...  spam\n",
       "3                  Web발신광고영농축산화수행사한우국거리원한우양념불고기원무료거부  spam\n",
       "4  Web발신광고 레디캐시  GS 천원권 선물 드려요 본 문자는 대명아임레디 고객님께 ...  spam"
      ]
     },
     "execution_count": 3,
     "metadata": {},
     "output_type": "execute_result"
    }
   ],
   "source": [
    "data[:5]"
   ]
  },
  {
   "cell_type": "code",
   "execution_count": 4,
   "metadata": {},
   "outputs": [
    {
     "name": "stdout",
     "output_type": "stream",
     "text": [
      "결측값 여부 : False\n"
     ]
    }
   ],
   "source": [
    "print('결측값 여부 :', data.isnull().values.any())"
   ]
  },
  {
   "cell_type": "code",
   "execution_count": 5,
   "metadata": {},
   "outputs": [
    {
     "name": "stdout",
     "output_type": "stream",
     "text": [
      "데이터의 유니크 값 : 593070\n"
     ]
    }
   ],
   "source": [
    "print('데이터의 유니크 값 :', data['text'].nunique())"
   ]
  },
  {
   "cell_type": "code",
   "execution_count": 6,
   "metadata": {},
   "outputs": [
    {
     "name": "stdout",
     "output_type": "stream",
     "text": [
      "총 샘플의 수:  593070\n"
     ]
    }
   ],
   "source": [
    "# 중복 데이터 제거\n",
    "data.drop_duplicates(subset=['text'], inplace=True)\n",
    "print(\"총 샘플의 수: \", len(data))"
   ]
  },
  {
   "cell_type": "code",
   "execution_count": 7,
   "metadata": {},
   "outputs": [
    {
     "name": "stdout",
     "output_type": "stream",
     "text": [
      "  label   count\n",
      "0   ham  119714\n",
      "1  spam  473356\n"
     ]
    }
   ],
   "source": [
    "# 정상 문자, 스팸 문자 개수 파악\n",
    "print(data.groupby('label').size().reset_index(name='count'))"
   ]
  },
  {
   "cell_type": "code",
   "execution_count": 21,
   "metadata": {},
   "outputs": [
    {
     "name": "stdout",
     "output_type": "stream",
     "text": [
      "정상 문자의 비율 = 20.185%\n",
      "스팸 문자의 비율 = 79.815%\n"
     ]
    }
   ],
   "source": [
    "print(f\"정상 문자의 비율 = {round(data['label'].value_counts()['ham']/len(data) * 100,3)}%\")\n",
    "print(f\"스팸 문자의 비율 = {round(data['label'].value_counts()['spam']/len(data) * 100,3)}%\")"
   ]
  },
  {
   "cell_type": "code",
   "execution_count": 9,
   "metadata": {},
   "outputs": [
    {
     "name": "stdout",
     "output_type": "stream",
     "text": [
      "메일 본문의 개수: 593070\n",
      "레이블의 개수: 593070\n"
     ]
    }
   ],
   "source": [
    "X_data = data['text']\n",
    "y_data = data['label']\n",
    "print('메일 본문의 개수: {}'.format(len(X_data)))\n",
    "print('레이블의 개수: {}'.format(len(y_data)))"
   ]
  },
  {
   "cell_type": "code",
   "execution_count": 10,
   "metadata": {},
   "outputs": [],
   "source": [
    "X_train, X_test, y_train, y_test = train_test_split(X_data, y_data, test_size=0.2, random_state=0, stratify=y_data)"
   ]
  },
  {
   "cell_type": "code",
   "execution_count": 18,
   "metadata": {},
   "outputs": [
    {
     "name": "stdout",
     "output_type": "stream",
     "text": [
      "--------훈련 데이터의 비율-----------\n",
      "정상 문자 = 20.185%\n",
      "스팸 문자 = 79.815%\n"
     ]
    }
   ],
   "source": [
    "print('--------훈련 데이터의 비율-----------')\n",
    "print(f\"정상 문자 = {round(y_train.value_counts()['ham']/len(y_train) * 100,3)}%\")\n",
    "print(f\"스팸 문자 = {round(y_train.value_counts()['spam']/len(y_train) * 100,3)}%\")"
   ]
  },
  {
   "cell_type": "code",
   "execution_count": 19,
   "metadata": {},
   "outputs": [
    {
     "name": "stdout",
     "output_type": "stream",
     "text": [
      "--------테스트 데이터의 비율-----------\n",
      "정상 문자 = 20.186%\n",
      "스팸 문자 = 79.814%\n"
     ]
    }
   ],
   "source": [
    "print('--------테스트 데이터의 비율-----------')\n",
    "print(f\"정상 문자 = {round(y_test.value_counts()['ham']/len(y_test) * 100,3)}%\")\n",
    "print(f\"스팸 문자 = {round(y_test.value_counts()['spam']/len(y_test) * 100,3)}%\")"
   ]
  },
  {
   "cell_type": "code",
   "execution_count": 13,
   "metadata": {},
   "outputs": [],
   "source": [
    "# 훈련 데이터 및 테스틑 데이터 통합\n",
    "train_set = pd.concat([X_train, y_train], axis=1).reset_index(drop=True)\n",
    "test_set = pd.concat([X_test, y_test], axis=1).reset_index(drop=True)"
   ]
  },
  {
   "cell_type": "code",
   "execution_count": 14,
   "metadata": {},
   "outputs": [],
   "source": [
    "# 파일로 저장\n",
    "train_set.to_csv(\"/home/maroco/dataset/model/train_set.csv\", index=False)\n",
    "test_set.to_csv(\"/home/maroco/dataset/model/test_set.csv\", index=False)\n",
    "\n",
    "# train_set.to_csv(\"/home/maroco/dataset/model/train_set.csv\", sep='\\t', index=True, index_label='id')\n",
    "# test_set.to_csv(\"/home/maroco/dataset/model/test_set.csv\", sep='\\t', index=True, index_label='id')"
   ]
  },
  {
   "cell_type": "code",
   "execution_count": 15,
   "metadata": {},
   "outputs": [
    {
     "data": {
      "text/html": [
       "<div>\n",
       "<style scoped>\n",
       "    .dataframe tbody tr th:only-of-type {\n",
       "        vertical-align: middle;\n",
       "    }\n",
       "\n",
       "    .dataframe tbody tr th {\n",
       "        vertical-align: top;\n",
       "    }\n",
       "\n",
       "    .dataframe thead th {\n",
       "        text-align: right;\n",
       "    }\n",
       "</style>\n",
       "<table border=\"1\" class=\"dataframe\">\n",
       "  <thead>\n",
       "    <tr style=\"text-align: right;\">\n",
       "      <th></th>\n",
       "      <th>text</th>\n",
       "      <th>label</th>\n",
       "    </tr>\n",
       "  </thead>\n",
       "  <tbody>\n",
       "    <tr>\n",
       "      <th>0</th>\n",
       "      <td>Web발신광고SKT 선착순 만 명 % 당첨 럭키박스 이벤트 안내고객님 안녕하세요T ...</td>\n",
       "      <td>spam</td>\n",
       "    </tr>\n",
       "    <tr>\n",
       "      <th>1</th>\n",
       "      <td>Web발신광고이영하????제일풍경채 계양 Winner sky!최고 층 탁 트인 전망...</td>\n",
       "      <td>spam</td>\n",
       "    </tr>\n",
       "    <tr>\n",
       "      <th>2</th>\n",
       "      <td>Web발신광고티원대리점 상무프리미엄점 문경호 단골고객님고객님은 사용중인 휴대폰의 잔...</td>\n",
       "      <td>spam</td>\n",
       "    </tr>\n",
       "    <tr>\n",
       "      <th>3</th>\n",
       "      <td>광고이원마트월일수요일 수요특가 전단세일 오늘의 행사상품동원비피더스명장 ml입 원CJ...</td>\n",
       "      <td>spam</td>\n",
       "    </tr>\n",
       "    <tr>\n",
       "      <th>4</th>\n",
       "      <td>Web발신광고운이좋은현장소개분양전세월세더트리니티 남가좌동 확트인밝은집 홍제천 최고급...</td>\n",
       "      <td>spam</td>\n",
       "    </tr>\n",
       "  </tbody>\n",
       "</table>\n",
       "</div>"
      ],
      "text/plain": [
       "                                                text label\n",
       "0  Web발신광고SKT 선착순 만 명 % 당첨 럭키박스 이벤트 안내고객님 안녕하세요T ...  spam\n",
       "1  Web발신광고이영하????제일풍경채 계양 Winner sky!최고 층 탁 트인 전망...  spam\n",
       "2  Web발신광고티원대리점 상무프리미엄점 문경호 단골고객님고객님은 사용중인 휴대폰의 잔...  spam\n",
       "3  광고이원마트월일수요일 수요특가 전단세일 오늘의 행사상품동원비피더스명장 ml입 원CJ...  spam\n",
       "4  Web발신광고운이좋은현장소개분양전세월세더트리니티 남가좌동 확트인밝은집 홍제천 최고급...  spam"
      ]
     },
     "execution_count": 15,
     "metadata": {},
     "output_type": "execute_result"
    }
   ],
   "source": [
    "train_set.head()"
   ]
  },
  {
   "cell_type": "code",
   "execution_count": 16,
   "metadata": {},
   "outputs": [
    {
     "data": {
      "text/html": [
       "<div>\n",
       "<style scoped>\n",
       "    .dataframe tbody tr th:only-of-type {\n",
       "        vertical-align: middle;\n",
       "    }\n",
       "\n",
       "    .dataframe tbody tr th {\n",
       "        vertical-align: top;\n",
       "    }\n",
       "\n",
       "    .dataframe thead th {\n",
       "        text-align: right;\n",
       "    }\n",
       "</style>\n",
       "<table border=\"1\" class=\"dataframe\">\n",
       "  <thead>\n",
       "    <tr style=\"text-align: right;\">\n",
       "      <th></th>\n",
       "      <th>text</th>\n",
       "      <th>label</th>\n",
       "    </tr>\n",
       "  </thead>\n",
       "  <tbody>\n",
       "    <tr>\n",
       "      <th>0</th>\n",
       "      <td>그럼 기본하나 곱배기하나 가져다 주세요</td>\n",
       "      <td>ham</td>\n",
       "    </tr>\n",
       "    <tr>\n",
       "      <th>1</th>\n",
       "      <td>Web발신광고정읍원예농협 학산로점지금 정읍원예농협 로컬하나로마트 본점 학산로점에서만...</td>\n",
       "      <td>spam</td>\n",
       "    </tr>\n",
       "    <tr>\n",
       "      <th>2</th>\n",
       "      <td>Web발신광고롯데백화점 롯데몰 수지점 혹하는 소식  F 센터홀 럭셔리 해외명품 잡화...</td>\n",
       "      <td>spam</td>\n",
       "    </tr>\n",
       "    <tr>\n",
       "      <th>3</th>\n",
       "      <td>Web발신광고하이마트청구점 박재훈님!! 딩동만 이상 구입시 겐지아마시멜 세라믹 인덕...</td>\n",
       "      <td>spam</td>\n",
       "    </tr>\n",
       "    <tr>\n",
       "      <th>4</th>\n",
       "      <td>Web발신광고나은대리점 금당호점 박찬신 단골고객님고객님께서는 T끼리 온가족할인으로 ...</td>\n",
       "      <td>spam</td>\n",
       "    </tr>\n",
       "  </tbody>\n",
       "</table>\n",
       "</div>"
      ],
      "text/plain": [
       "                                                text label\n",
       "0                              그럼 기본하나 곱배기하나 가져다 주세요   ham\n",
       "1  Web발신광고정읍원예농협 학산로점지금 정읍원예농협 로컬하나로마트 본점 학산로점에서만...  spam\n",
       "2  Web발신광고롯데백화점 롯데몰 수지점 혹하는 소식  F 센터홀 럭셔리 해외명품 잡화...  spam\n",
       "3  Web발신광고하이마트청구점 박재훈님!! 딩동만 이상 구입시 겐지아마시멜 세라믹 인덕...  spam\n",
       "4  Web발신광고나은대리점 금당호점 박찬신 단골고객님고객님께서는 T끼리 온가족할인으로 ...  spam"
      ]
     },
     "execution_count": 16,
     "metadata": {},
     "output_type": "execute_result"
    }
   ],
   "source": [
    "test_set.head()"
   ]
  },
  {
   "cell_type": "code",
   "execution_count": null,
   "metadata": {},
   "outputs": [],
   "source": []
  }
 ],
 "metadata": {
  "kernelspec": {
   "display_name": "kobert_env",
   "language": "python",
   "name": "python3"
  },
  "language_info": {
   "codemirror_mode": {
    "name": "ipython",
    "version": 3
   },
   "file_extension": ".py",
   "mimetype": "text/x-python",
   "name": "python",
   "nbconvert_exporter": "python",
   "pygments_lexer": "ipython3",
   "version": "3.10.15"
  }
 },
 "nbformat": 4,
 "nbformat_minor": 2
}
