{
 "cells": [
  {
   "cell_type": "code",
   "execution_count": 2,
   "metadata": {},
   "outputs": [],
   "source": [
    "import numpy as np\n",
    "import pandas as pd\n",
    "import matplotlib.pyplot as plt\n",
    "from sklearn.model_selection import train_test_split\n",
    "# from tensorflow.keras.preprocessing.text import Tokenizer\n",
    "# from tensorflow.keras.preprocessing.sequence import pad_sequences"
   ]
  },
  {
   "cell_type": "code",
   "execution_count": 3,
   "metadata": {},
   "outputs": [
    {
     "name": "stdout",
     "output_type": "stream",
     "text": [
      "총 샘플의 수:  255120\n"
     ]
    }
   ],
   "source": [
    "# data = pd.read_csv(\"C:/Users/user/Desktop/AIML/datasets/SMS_dataset.csv\")\n",
    "data = pd.read_csv(\"/home/maroco/dataset/sms_dataset/SMS_dataset.csv\")\n",
    "print('총 샘플의 수: ',len(data))"
   ]
  },
  {
   "cell_type": "code",
   "execution_count": 4,
   "metadata": {},
   "outputs": [
    {
     "data": {
      "text/html": [
       "<div>\n",
       "<style scoped>\n",
       "    .dataframe tbody tr th:only-of-type {\n",
       "        vertical-align: middle;\n",
       "    }\n",
       "\n",
       "    .dataframe tbody tr th {\n",
       "        vertical-align: top;\n",
       "    }\n",
       "\n",
       "    .dataframe thead th {\n",
       "        text-align: right;\n",
       "    }\n",
       "</style>\n",
       "<table border=\"1\" class=\"dataframe\">\n",
       "  <thead>\n",
       "    <tr style=\"text-align: right;\">\n",
       "      <th></th>\n",
       "      <th>data</th>\n",
       "      <th>spam</th>\n",
       "    </tr>\n",
       "  </thead>\n",
       "  <tbody>\n",
       "    <tr>\n",
       "      <th>0</th>\n",
       "      <td>Hil튼  scom열소l 캍옥 CDDC</td>\n",
       "      <td>1</td>\n",
       "    </tr>\n",
       "    <tr>\n",
       "      <th>1</th>\n",
       "      <td>정선생의 정보 제공 커뮤니티안녕하십니까정진홍 주식전문가입니다미국에서 인플레이션을 잡...</td>\n",
       "      <td>1</td>\n",
       "    </tr>\n",
       "    <tr>\n",
       "      <th>2</th>\n",
       "      <td>비번  bitlywBUinvip 주식 세력 단타 일매도체험방 입니다일만</td>\n",
       "      <td>1</td>\n",
       "    </tr>\n",
       "    <tr>\n",
       "      <th>3</th>\n",
       "      <td>원 으로원금보장지원금 원 마감문의하기 xxpeaskcom</td>\n",
       "      <td>1</td>\n",
       "    </tr>\n",
       "    <tr>\n",
       "      <th>4</th>\n",
       "      <td>맥심SLOTmexcom신규  만쿱폰매일 퍠이백</td>\n",
       "      <td>1</td>\n",
       "    </tr>\n",
       "  </tbody>\n",
       "</table>\n",
       "</div>"
      ],
      "text/plain": [
       "                                                data  spam\n",
       "0                              Hil튼  scom열소l 캍옥 CDDC     1\n",
       "1  정선생의 정보 제공 커뮤니티안녕하십니까정진홍 주식전문가입니다미국에서 인플레이션을 잡...     1\n",
       "2            비번  bitlywBUinvip 주식 세력 단타 일매도체험방 입니다일만     1\n",
       "3                    원 으로원금보장지원금 원 마감문의하기 xxpeaskcom     1\n",
       "4                          맥심SLOTmexcom신규  만쿱폰매일 퍠이백     1"
      ]
     },
     "execution_count": 4,
     "metadata": {},
     "output_type": "execute_result"
    }
   ],
   "source": [
    "data[:5]"
   ]
  },
  {
   "cell_type": "code",
   "execution_count": 5,
   "metadata": {},
   "outputs": [
    {
     "name": "stdout",
     "output_type": "stream",
     "text": [
      "결측값 여부 : False\n"
     ]
    }
   ],
   "source": [
    "print('결측값 여부 :', data.isnull().values.any())"
   ]
  },
  {
   "cell_type": "code",
   "execution_count": 6,
   "metadata": {},
   "outputs": [
    {
     "name": "stdout",
     "output_type": "stream",
     "text": [
      "데이터의 유니크 값 : 255120\n"
     ]
    }
   ],
   "source": [
    "print('데이터의 유니크 값 :', data['data'].nunique())"
   ]
  },
  {
   "cell_type": "code",
   "execution_count": 7,
   "metadata": {},
   "outputs": [
    {
     "name": "stdout",
     "output_type": "stream",
     "text": [
      "총 샘플의 수:  255120\n"
     ]
    }
   ],
   "source": [
    "# 중복 데이터 제거\n",
    "data.drop_duplicates(subset=['data'], inplace=True)\n",
    "print(\"총 샘플의 수: \", len(data))"
   ]
  },
  {
   "cell_type": "code",
   "execution_count": 8,
   "metadata": {},
   "outputs": [
    {
     "name": "stdout",
     "output_type": "stream",
     "text": [
      "   spam   count\n",
      "0     0  107514\n",
      "1     1  147606\n"
     ]
    }
   ],
   "source": [
    "# 정상 문자, 스팸 문자 개수 파악\n",
    "print(data.groupby('spam').size().reset_index(name='count'))"
   ]
  },
  {
   "cell_type": "code",
   "execution_count": 9,
   "metadata": {},
   "outputs": [
    {
     "name": "stdout",
     "output_type": "stream",
     "text": [
      "정상 문자의 비율 = 42.143%\n",
      "스팸 문자의 비율 = 57.857%\n"
     ]
    }
   ],
   "source": [
    "print(f'정상 문자의 비율 = {round(data[\"spam\"].value_counts()[0]/len(data) * 100,3)}%')\n",
    "print(f'스팸 문자의 비율 = {round(data[\"spam\"].value_counts()[1]/len(data) * 100,3)}%')"
   ]
  },
  {
   "cell_type": "code",
   "execution_count": 10,
   "metadata": {},
   "outputs": [
    {
     "name": "stdout",
     "output_type": "stream",
     "text": [
      "메일 본문의 개수: 255120\n",
      "레이블의 개수: 255120\n"
     ]
    }
   ],
   "source": [
    "X_data = data['data']\n",
    "y_data = data['spam']\n",
    "print('메일 본문의 개수: {}'.format(len(X_data)))\n",
    "print('레이블의 개수: {}'.format(len(y_data)))"
   ]
  },
  {
   "cell_type": "code",
   "execution_count": 11,
   "metadata": {},
   "outputs": [],
   "source": [
    "X_train, X_test, y_train, y_test = train_test_split(X_data, y_data, test_size=0.2, random_state=0, stratify=y_data)"
   ]
  },
  {
   "cell_type": "code",
   "execution_count": 12,
   "metadata": {},
   "outputs": [
    {
     "name": "stdout",
     "output_type": "stream",
     "text": [
      "--------훈련 데이터의 비율-----------\n",
      "정상 문자 = 42.142%\n",
      "스팸 문자 = 57.858%\n"
     ]
    }
   ],
   "source": [
    "print('--------훈련 데이터의 비율-----------')\n",
    "print(f'정상 문자 = {round(y_train.value_counts()[0]/len(y_train) * 100,3)}%')\n",
    "print(f'스팸 문자 = {round(y_train.value_counts()[1]/len(y_train) * 100,3)}%')"
   ]
  },
  {
   "cell_type": "code",
   "execution_count": 13,
   "metadata": {},
   "outputs": [
    {
     "name": "stdout",
     "output_type": "stream",
     "text": [
      "--------테스트 데이터의 비율-----------\n",
      "정상 문자 = 42.143%\n",
      "스팸 문자 = 57.857%\n"
     ]
    }
   ],
   "source": [
    "print('--------테스트 데이터의 비율-----------')\n",
    "print(f'정상 문자 = {round(y_test.value_counts()[0]/len(y_test) * 100,3)}%')\n",
    "print(f'스팸 문자 = {round(y_test.value_counts()[1]/len(y_test) * 100,3)}%')"
   ]
  },
  {
   "cell_type": "code",
   "execution_count": 14,
   "metadata": {},
   "outputs": [],
   "source": [
    "# 훈련 데이터 및 테스틑 데이터 통합\n",
    "train_set = pd.concat([X_train, y_train], axis=1).reset_index(drop=True)\n",
    "test_set = pd.concat([X_test, y_test], axis=1).reset_index(drop=True)"
   ]
  },
  {
   "cell_type": "code",
   "execution_count": 18,
   "metadata": {},
   "outputs": [],
   "source": [
    "# 파일로 저장\n",
    "# train_set.to_csv(\"C:/Users/user/Desktop/AIML/datasets/train_set.csv\", index=False)\n",
    "# test_set.to_csv(\"C:/Users/user/Desktop/AIML/datasets/test_set.csv\", index=False)\n",
    "\n",
    "train_set.to_csv(\"/home/maroco/dataset/model/train_set.tsv\", sep='\\t', index=True, index_label='id')\n",
    "test_set.to_csv(\"/home/maroco/dataset/model/test_set.tsv\", sep='\\t', index=True, index_label='id')"
   ]
  },
  {
   "cell_type": "code",
   "execution_count": 19,
   "metadata": {},
   "outputs": [
    {
     "data": {
      "text/html": [
       "<div>\n",
       "<style scoped>\n",
       "    .dataframe tbody tr th:only-of-type {\n",
       "        vertical-align: middle;\n",
       "    }\n",
       "\n",
       "    .dataframe tbody tr th {\n",
       "        vertical-align: top;\n",
       "    }\n",
       "\n",
       "    .dataframe thead th {\n",
       "        text-align: right;\n",
       "    }\n",
       "</style>\n",
       "<table border=\"1\" class=\"dataframe\">\n",
       "  <thead>\n",
       "    <tr style=\"text-align: right;\">\n",
       "      <th></th>\n",
       "      <th>data</th>\n",
       "      <th>spam</th>\n",
       "    </tr>\n",
       "  </thead>\n",
       "  <tbody>\n",
       "    <tr>\n",
       "      <th>0</th>\n",
       "      <td>쿠캣 인기상품 원 타임딜이 지금 시작됐어요쿠캣의 찐 가족이라면 쿠캣데이를 절대 놓치...</td>\n",
       "      <td>1</td>\n",
       "    </tr>\n",
       "    <tr>\n",
       "      <th>1</th>\n",
       "      <td>SKT 자녀 기질 검사 무료 이벤트 안내 양민건 고객님 안녕하세요 년 한국소비자만족...</td>\n",
       "      <td>1</td>\n",
       "    </tr>\n",
       "    <tr>\n",
       "      <th>2</th>\n",
       "      <td>네 기장은 괜찮지만 카라는 직접 봐야 합니다</td>\n",
       "      <td>0</td>\n",
       "    </tr>\n",
       "    <tr>\n",
       "      <th>3</th>\n",
       "      <td>강릉원마트 발송일자  NO  최대 할인 풀무원얇은피만두g개 원 오뚜기콤비불고기피자 ...</td>\n",
       "      <td>1</td>\n",
       "    </tr>\n",
       "    <tr>\n",
       "      <th>4</th>\n",
       "      <td>일요일은 영업 안 하시죠?</td>\n",
       "      <td>0</td>\n",
       "    </tr>\n",
       "  </tbody>\n",
       "</table>\n",
       "</div>"
      ],
      "text/plain": [
       "                                                data  spam\n",
       "0  쿠캣 인기상품 원 타임딜이 지금 시작됐어요쿠캣의 찐 가족이라면 쿠캣데이를 절대 놓치...     1\n",
       "1  SKT 자녀 기질 검사 무료 이벤트 안내 양민건 고객님 안녕하세요 년 한국소비자만족...     1\n",
       "2                           네 기장은 괜찮지만 카라는 직접 봐야 합니다     0\n",
       "3  강릉원마트 발송일자  NO  최대 할인 풀무원얇은피만두g개 원 오뚜기콤비불고기피자 ...     1\n",
       "4                                     일요일은 영업 안 하시죠?     0"
      ]
     },
     "execution_count": 19,
     "metadata": {},
     "output_type": "execute_result"
    }
   ],
   "source": [
    "train_set.head()"
   ]
  },
  {
   "cell_type": "code",
   "execution_count": 20,
   "metadata": {},
   "outputs": [
    {
     "data": {
      "text/html": [
       "<div>\n",
       "<style scoped>\n",
       "    .dataframe tbody tr th:only-of-type {\n",
       "        vertical-align: middle;\n",
       "    }\n",
       "\n",
       "    .dataframe tbody tr th {\n",
       "        vertical-align: top;\n",
       "    }\n",
       "\n",
       "    .dataframe thead th {\n",
       "        text-align: right;\n",
       "    }\n",
       "</style>\n",
       "<table border=\"1\" class=\"dataframe\">\n",
       "  <thead>\n",
       "    <tr style=\"text-align: right;\">\n",
       "      <th></th>\n",
       "      <th>data</th>\n",
       "      <th>spam</th>\n",
       "    </tr>\n",
       "  </thead>\n",
       "  <tbody>\n",
       "    <tr>\n",
       "      <th>0</th>\n",
       "      <td>우리집은 빌라지만 엘베 없어서 그냥 그러려니 하고 사는 중인데 뭘 키키</td>\n",
       "      <td>0</td>\n",
       "    </tr>\n",
       "    <tr>\n",
       "      <th>1</th>\n",
       "      <td>바디프랜드의 마사지 기술을 담은인용 마사지소파 파밀레 출시바디프랜드만의 마사지 테크...</td>\n",
       "      <td>1</td>\n",
       "    </tr>\n",
       "    <tr>\n",
       "      <th>2</th>\n",
       "      <td>기아차차차httpwww기아차차차com 안녕하세요 중고차 기아차차차입니다 좋은차량 많...</td>\n",
       "      <td>1</td>\n",
       "    </tr>\n",
       "    <tr>\n",
       "      <th>3</th>\n",
       "      <td>LG전자 베스트샵월 마지막주 특별할인혜택안녕하세요 김태식 님LG전자 울산중구점 월 ...</td>\n",
       "      <td>1</td>\n",
       "    </tr>\n",
       "    <tr>\n",
       "      <th>4</th>\n",
       "      <td>해피포인트 적립이나 저희 매장 쿠폰 갖고 있는거 있으세요?</td>\n",
       "      <td>0</td>\n",
       "    </tr>\n",
       "  </tbody>\n",
       "</table>\n",
       "</div>"
      ],
      "text/plain": [
       "                                                data  spam\n",
       "0            우리집은 빌라지만 엘베 없어서 그냥 그러려니 하고 사는 중인데 뭘 키키     0\n",
       "1  바디프랜드의 마사지 기술을 담은인용 마사지소파 파밀레 출시바디프랜드만의 마사지 테크...     1\n",
       "2  기아차차차httpwww기아차차차com 안녕하세요 중고차 기아차차차입니다 좋은차량 많...     1\n",
       "3  LG전자 베스트샵월 마지막주 특별할인혜택안녕하세요 김태식 님LG전자 울산중구점 월 ...     1\n",
       "4                   해피포인트 적립이나 저희 매장 쿠폰 갖고 있는거 있으세요?     0"
      ]
     },
     "execution_count": 20,
     "metadata": {},
     "output_type": "execute_result"
    }
   ],
   "source": [
    "test_set.head()"
   ]
  }
 ],
 "metadata": {
  "kernelspec": {
   "display_name": "AIML2",
   "language": "python",
   "name": "python3"
  },
  "language_info": {
   "codemirror_mode": {
    "name": "ipython",
    "version": 3
   },
   "file_extension": ".py",
   "mimetype": "text/x-python",
   "name": "python",
   "nbconvert_exporter": "python",
   "pygments_lexer": "ipython3",
   "version": "3.9.20"
  }
 },
 "nbformat": 4,
 "nbformat_minor": 2
}
