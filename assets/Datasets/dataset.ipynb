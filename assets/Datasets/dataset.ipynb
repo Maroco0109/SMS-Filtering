{
 "cells": [
  {
   "cell_type": "code",
   "execution_count": 3,
   "metadata": {},
   "outputs": [],
   "source": [
    "import pandas as pd\n",
    "from glob import glob\n",
    "\n",
    "# file_names = glob(\"C:/Users/user/Desktop/AIML/datasets/Data_Preprocessing/*.csv\") # 폴더 내의 모든 csv 파일 목록을 불러온다\n",
    "file_names = glob(\"/home/maroco/dataset/sms_dataset/*.csv\") # 폴더 내의 모든 csv 파일 목록을 불러온다\n",
    "\n",
    "total = pd.DataFrame() # 빈 데이터프레임 하나를 생성한다\n",
    "\n",
    "for file_name in file_names:\n",
    "    temp = pd.read_csv(file_name, encoding='utf-8') # csv 파일을 하나씩 열어 임시 데이터프레임으로 생성한다\n",
    "    total = pd.concat([total, temp]) # 전체 데이터프레임에 추가하여 넣는다\n",
    "\n",
    "# 중복 항목 제거\n",
    "total = total.drop_duplicates()\n",
    "\n",
    "# 결과를 CSV 파일로 저장\n",
    "# total.to_csv(\"C:/Users/user/Desktop/AIML/datasets/SMS_dataset.csv\", index=False)\n",
    "total.to_csv(\"/home/maroco/dataset/sms_dataset/SMS_dataset.csv\", index=False)\n"
   ]
  },
  {
   "cell_type": "code",
   "execution_count": null,
   "metadata": {},
   "outputs": [],
   "source": []
  }
 ],
 "metadata": {
  "kernelspec": {
   "display_name": "AIML2",
   "language": "python",
   "name": "python3"
  },
  "language_info": {
   "codemirror_mode": {
    "name": "ipython",
    "version": 3
   },
   "file_extension": ".py",
   "mimetype": "text/x-python",
   "name": "python",
   "nbconvert_exporter": "python",
   "pygments_lexer": "ipython3",
   "version": "3.9.20"
  }
 },
 "nbformat": 4,
 "nbformat_minor": 2
}
