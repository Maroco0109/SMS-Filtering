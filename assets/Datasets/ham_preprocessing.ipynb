{
 "cells": [
  {
   "cell_type": "code",
   "execution_count": 11,
   "metadata": {
    "colab": {
     "base_uri": "https://localhost:8080/"
    },
    "executionInfo": {
     "elapsed": 72364,
     "status": "ok",
     "timestamp": 1730193313774,
     "user": {
      "displayName": "마로코",
      "userId": "12205708180978122129"
     },
     "user_tz": -540
    },
    "id": "50XxFRVHaKP7",
    "outputId": "62c748d8-3497-4cfa-b7cf-0f1076cb0e66"
   },
   "outputs": [],
   "source": [
    "import os\n",
    "import pandas as pd\n",
    "import numpy as np\n",
    "import re\n",
    "import dask.dataframe as dd\n",
    "\n",
    "path = 'C:/Users/user/Desktop/AIML/datasets/Data_Preprocessing/ham_set'\n",
    "files = os.listdir(path)\n",
    "filenames = []\n",
    "\n",
    "for root, dirs, files in os.walk(path):\n",
    "  for file in files:\n",
    "    if file.endswith('.csv'):\n",
    "      filenames.append(os.path.join(root, file))\n",
    "\n",
    "all_pre_dfs = []\n",
    "\n",
    "# Iterate through the list of filenames and read each CSV file\n",
    "for filename in filenames:\n",
    "  pre_df = pd.read_csv(filename, sep='\\t')\n",
    "  pre_df.columns = ['data']\n",
    "  pre_df['spam'] = 0\n",
    "\n",
    "  # Create a list to store DataFrames\n",
    "  dpre_df = dd.from_pandas(pre_df, npartitions=4) # Create dpre_df after modifications\n",
    "\n",
    "  # Append the current DataFrame to the list\n",
    "  result = dpre_df.compute()\n",
    "  all_pre_dfs.append(result)\n",
    "\n",
    "# Concatenate all DataFrames in the list into a single DataFrame\n",
    "raw = pd.concat(all_pre_dfs, ignore_index=True)"
   ]
  },
  {
   "cell_type": "code",
   "execution_count": null,
   "metadata": {},
   "outputs": [],
   "source": [
    "# 텍스트 처리 함수 설정\n",
    "def preprocess_text(text):\n",
    "    # 여러 개의 공백을 하나의 공백으로 축소\n",
    "    text = re.sub(r'\\s+', ' ', text)\n",
    "    # 앞뒤 공백 제거\n",
    "    text = text.strip()\n",
    "    # 맨 앞의 숫자와 공백 또는 콜론 제거\n",
    "    text = re.sub(r'^\\d+\\s*', '', text)\n",
    "    # 필요에 따라 특수 문자 제거 (예시로 일부 문자만 제거)\n",
    "    text = re.sub(r'[^가-힣a-zA-Z0-9\\s]', '', text)\n",
    "    return text"
   ]
  },
  {
   "cell_type": "code",
   "execution_count": 24,
   "metadata": {
    "colab": {
     "base_uri": "https://localhost:8080/"
    },
    "executionInfo": {
     "elapsed": 342,
     "status": "ok",
     "timestamp": 1730193457904,
     "user": {
      "displayName": "마로코",
      "userId": "12205708180978122129"
     },
     "user_tz": -540
    },
    "id": "gYOhzZDSnwqA",
    "outputId": "94f65765-5acd-49c5-a686-ed617d97ba13"
   },
   "outputs": [
    {
     "name": "stdout",
     "output_type": "stream",
     "text": [
      "40038\n",
      "40038\n"
     ]
    }
   ],
   "source": [
    "# 결측치 처리\n",
    "print(len(raw))\n",
    "drop_index = raw[raw['data'].isnull()].index\n",
    "raw = raw.drop(drop_index)\n",
    "print(len(raw))"
   ]
  },
  {
   "cell_type": "code",
   "execution_count": 26,
   "metadata": {
    "colab": {
     "base_uri": "https://localhost:8080/"
    },
    "executionInfo": {
     "elapsed": 368,
     "status": "ok",
     "timestamp": 1730193471685,
     "user": {
      "displayName": "마로코",
      "userId": "12205708180978122129"
     },
     "user_tz": -540
    },
    "id": "MAxWSQijd1Wu",
    "outputId": "e553f74a-3717-49b1-b95d-5f4f40d57f05"
   },
   "outputs": [
    {
     "name": "stdout",
     "output_type": "stream",
     "text": [
      "40038\n",
      "39721\n"
     ]
    }
   ],
   "source": [
    "# 중복 내용 제거\n",
    "print(len(raw))\n",
    "raw = raw.drop_duplicates('data')\n",
    "print(len(raw))"
   ]
  },
  {
   "cell_type": "code",
   "execution_count": 25,
   "metadata": {
    "executionInfo": {
     "elapsed": 328,
     "status": "ok",
     "timestamp": 1730193464538,
     "user": {
      "displayName": "마로코",
      "userId": "12205708180978122129"
     },
     "user_tz": -540
    },
    "id": "I4wKBvkRbnRe"
   },
   "outputs": [],
   "source": [
    "raw['data']=raw['data'].apply(preprocess_text)"
   ]
  },
  {
   "cell_type": "code",
   "execution_count": 27,
   "metadata": {
    "colab": {
     "base_uri": "https://localhost:8080/",
     "height": 206
    },
    "executionInfo": {
     "elapsed": 2,
     "status": "ok",
     "timestamp": 1730193465431,
     "user": {
      "displayName": "마로코",
      "userId": "12205708180978122129"
     },
     "user_tz": -540
    },
    "id": "0QiPyabCdz5C",
    "outputId": "bcffdc6e-0710-44c9-91bd-7304b33dd778"
   },
   "outputs": [
    {
     "data": {
      "text/html": [
       "<div>\n",
       "<style scoped>\n",
       "    .dataframe tbody tr th:only-of-type {\n",
       "        vertical-align: middle;\n",
       "    }\n",
       "\n",
       "    .dataframe tbody tr th {\n",
       "        vertical-align: top;\n",
       "    }\n",
       "\n",
       "    .dataframe thead th {\n",
       "        text-align: right;\n",
       "    }\n",
       "</style>\n",
       "<table border=\"1\" class=\"dataframe\">\n",
       "  <thead>\n",
       "    <tr style=\"text-align: right;\">\n",
       "      <th></th>\n",
       "      <th>data</th>\n",
       "      <th>spam</th>\n",
       "    </tr>\n",
       "  </thead>\n",
       "  <tbody>\n",
       "    <tr>\n",
       "      <th>0</th>\n",
       "      <td>웅 자취비 장난 아님</td>\n",
       "      <td>0</td>\n",
       "    </tr>\n",
       "    <tr>\n",
       "      <th>1</th>\n",
       "      <td>키키 맞아</td>\n",
       "      <td>0</td>\n",
       "    </tr>\n",
       "    <tr>\n",
       "      <th>2</th>\n",
       "      <td>나도 지금 서울살이하고 있잖아</td>\n",
       "      <td>0</td>\n",
       "    </tr>\n",
       "    <tr>\n",
       "      <th>3</th>\n",
       "      <td>거기 보증금이랑 월세 얼마야</td>\n",
       "      <td>0</td>\n",
       "    </tr>\n",
       "    <tr>\n",
       "      <th>4</th>\n",
       "      <td>여기 되게 싸게 주고 왔어</td>\n",
       "      <td>0</td>\n",
       "    </tr>\n",
       "  </tbody>\n",
       "</table>\n",
       "</div>"
      ],
      "text/plain": [
       "               data  spam\n",
       "0       웅 자취비 장난 아님     0\n",
       "1             키키 맞아     0\n",
       "2  나도 지금 서울살이하고 있잖아     0\n",
       "3   거기 보증금이랑 월세 얼마야     0\n",
       "4    여기 되게 싸게 주고 왔어     0"
      ]
     },
     "execution_count": 27,
     "metadata": {},
     "output_type": "execute_result"
    }
   ],
   "source": [
    "raw.head()"
   ]
  },
  {
   "cell_type": "code",
   "execution_count": 28,
   "metadata": {
    "executionInfo": {
     "elapsed": 348,
     "status": "ok",
     "timestamp": 1730193481416,
     "user": {
      "displayName": "마로코",
      "userId": "12205708180978122129"
     },
     "user_tz": -540
    },
    "id": "7prmdlY4f3W_"
   },
   "outputs": [],
   "source": [
    "raw.to_csv('C:/Users/user/Desktop/AIML/datasets/Data_Preprocessing/ham_data.csv', index=False)"
   ]
  }
 ],
 "metadata": {
  "colab": {
   "authorship_tag": "ABX9TyM1IqKb2XeM9IbyaEp4Qg4e",
   "mount_file_id": "18VFklV1e12AcGyl0JnlH6JOqF4wS76X1",
   "provenance": []
  },
  "kernelspec": {
   "display_name": "AIML",
   "language": "python",
   "name": "python3"
  },
  "language_info": {
   "codemirror_mode": {
    "name": "ipython",
    "version": 3
   },
   "file_extension": ".py",
   "mimetype": "text/x-python",
   "name": "python",
   "nbconvert_exporter": "python",
   "pygments_lexer": "ipython3",
   "version": "3.7.12"
  }
 },
 "nbformat": 4,
 "nbformat_minor": 0
}
