{
 "cells": [
  {
   "cell_type": "code",
   "execution_count": 21,
   "metadata": {
    "collapsed": true,
    "executionInfo": {
     "elapsed": 3630,
     "status": "ok",
     "timestamp": 1730192168193,
     "user": {
      "displayName": "마로코",
      "userId": "12205708180978122129"
     },
     "user_tz": -540
    },
    "id": "50XxFRVHaKP7"
   },
   "outputs": [],
   "source": [
    "import os\n",
    "import pandas as pd\n",
    "import numpy as np\n",
    "import re\n",
    "import dask.dataframe as dd\n",
    "\n",
    "# path = 'C:/Users/user/Desktop/AIML/datasets/Data_Preprocessing/spam_set'\n",
    "path = '/home/maroco/dataset/spam_dataset'\n",
    "files = os.listdir(path)\n",
    "filenames = []\n",
    "\n",
    "for root, dirs, files in os.walk(path):\n",
    "  for file in files:\n",
    "    if file.endswith('.csv'):\n",
    "      filenames.append(os.path.join(root, file))\n",
    "\n",
    "# Create a list to store DataFrames\n",
    "all_dfs = []\n",
    "\n",
    "for file in filenames:\n",
    "  try:\n",
    "    # Use 'on_bad_lines' instead of 'error_bad_lines'\n",
    "    # df = pd.read_csv(file, on_bad_lines='skip', delimiter=\",\")  # Skip bad lines\n",
    "    df = pd.read_csv(file)\n",
    "\n",
    "    # 정상화\n",
    "    df.columns=['index', 'data']\n",
    "    df = df.set_index('index')\n",
    "    df['spam'] = 1\n",
    "    df['data'] = df['data'].str.replace('ifg@','')\n",
    "\n",
    "    # Dask Dataframe 생성\n",
    "    # Move ddf creation after modifying the Pandas DataFrame\n",
    "    ddf = dd.from_pandas(df, npartitions=4) # Create ddf after modifications\n",
    "\n",
    "\n",
    "    # Append the current DataFrame to the list\n",
    "    result = ddf.compute()\n",
    "    all_dfs.append(result)\n",
    "\n",
    "  except pd.errors.ParserError as e:\n",
    "    print(f\"Error reading file {file}: {e}\")\n",
    "\n",
    "# Concatenate all DataFrames in the list into a single DataFrame\n",
    "raw = pd.concat(all_dfs, ignore_index=True)"
   ]
  },
  {
   "cell_type": "code",
   "execution_count": 22,
   "metadata": {},
   "outputs": [],
   "source": [
    "from konlpy.tag import Okt\n",
    "import re\n",
    "\n",
    "# 형태소 분석기 초기화\n",
    "okt = Okt()\n",
    "\n",
    "def preprocess_text(text):\n",
    "    \"\"\"\n",
    "    텍스트를 전처리하고 주요 형태소만 남깁니다.\n",
    "    \"\"\"\n",
    "    # 특수문자 제거\n",
    "    text = re.sub(r\"[^가-힣a-zA-Z0-9\\s]\", \"\", text)\n",
    "    # 공백 제거\n",
    "    text = re.sub(r\"\\s+\", \" \", text).strip()\n",
    "    # 형태소 분석 후 명사와 동사만 추출\n",
    "    tokens = okt.pos(text, stem=True)\n",
    "    filtered_tokens = [word for word, pos in tokens if pos in ['Noun', 'Verb']]\n",
    "    # 복원된 텍스트 생성\n",
    "    return \" \".join(filtered_tokens)\n",
    "\n",
    "# 데이터셋 전처리\n",
    "raw['data'] = raw['data'].apply(preprocess_text)"
   ]
  },
  {
   "cell_type": "code",
   "execution_count": 23,
   "metadata": {
    "colab": {
     "base_uri": "https://localhost:8080/"
    },
    "executionInfo": {
     "elapsed": 4,
     "status": "ok",
     "timestamp": 1730192168680,
     "user": {
      "displayName": "마로코",
      "userId": "12205708180978122129"
     },
     "user_tz": -540
    },
    "id": "gYOhzZDSnwqA",
    "outputId": "20da5fb1-9ab9-4f5b-deed-bb03add3a85b"
   },
   "outputs": [
    {
     "name": "stdout",
     "output_type": "stream",
     "text": [
      "286598\n",
      "286598\n"
     ]
    }
   ],
   "source": [
    "# 결측치 처리\n",
    "print(len(raw))\n",
    "drop_index = raw[raw['data'].isnull()].index\n",
    "raw = raw.drop(drop_index)\n",
    "print(len(raw))"
   ]
  },
  {
   "cell_type": "code",
   "execution_count": 24,
   "metadata": {
    "colab": {
     "base_uri": "https://localhost:8080/"
    },
    "executionInfo": {
     "elapsed": 3,
     "status": "ok",
     "timestamp": 1730192168680,
     "user": {
      "displayName": "마로코",
      "userId": "12205708180978122129"
     },
     "user_tz": -540
    },
    "id": "bTHzgGW0oK0J",
    "outputId": "145720ba-325c-4607-fa09-77d9539a243e"
   },
   "outputs": [
    {
     "name": "stdout",
     "output_type": "stream",
     "text": [
      "286598\n",
      "212618\n"
     ]
    }
   ],
   "source": [
    "# 중복 내용 제거\n",
    "print(len(raw))\n",
    "raw = raw.drop_duplicates('data')\n",
    "print(len(raw))"
   ]
  },
  {
   "cell_type": "code",
   "execution_count": 25,
   "metadata": {},
   "outputs": [],
   "source": [
    "raw['data'] = raw['data'].str.replace('Web발신', '').str.strip()\n",
    "raw['data'] = raw['data'].str.replace('국제발신', '').str.strip()\n",
    "raw['data'] = raw['data'].str.replace('광고', '').str.strip()\n",
    "raw['data'] = raw['data'].str.replace('발신', '').str.strip()"
   ]
  },
  {
   "cell_type": "code",
   "execution_count": 26,
   "metadata": {
    "colab": {
     "base_uri": "https://localhost:8080/",
     "height": 206
    },
    "executionInfo": {
     "elapsed": 343,
     "status": "ok",
     "timestamp": 1730192169020,
     "user": {
      "displayName": "마로코",
      "userId": "12205708180978122129"
     },
     "user_tz": -540
    },
    "id": "8btPRxHPoc1-",
    "outputId": "a2ac1018-958e-46ea-bbf5-d6467f4cafea"
   },
   "outputs": [
    {
     "data": {
      "text/html": [
       "<div>\n",
       "<style scoped>\n",
       "    .dataframe tbody tr th:only-of-type {\n",
       "        vertical-align: middle;\n",
       "    }\n",
       "\n",
       "    .dataframe tbody tr th {\n",
       "        vertical-align: top;\n",
       "    }\n",
       "\n",
       "    .dataframe thead th {\n",
       "        text-align: right;\n",
       "    }\n",
       "</style>\n",
       "<table border=\"1\" class=\"dataframe\">\n",
       "  <thead>\n",
       "    <tr style=\"text-align: right;\">\n",
       "      <th></th>\n",
       "      <th>data</th>\n",
       "      <th>spam</th>\n",
       "    </tr>\n",
       "  </thead>\n",
       "  <tbody>\n",
       "    <tr>\n",
       "      <th>0</th>\n",
       "      <td>종근당 건강 아이 크다 상자 드리다 아이 키 성장 도움 주다 주목 국내 유일 키 성...</td>\n",
       "      <td>1</td>\n",
       "    </tr>\n",
       "    <tr>\n",
       "      <th>1</th>\n",
       "      <td>신봉 대리점 여름 찾아오다 항상 기원 하다 마음 저희 신봉 점 이용 해주다 벤트 사...</td>\n",
       "      <td>1</td>\n",
       "    </tr>\n",
       "    <tr>\n",
       "      <th>2</th>\n",
       "      <td>김성춘 칼텍스 원 주유 쿠폰 무료 증정 선착순 마감 임박 또 나 모르다 뻔 하다 신...</td>\n",
       "      <td>1</td>\n",
       "    </tr>\n",
       "    <tr>\n",
       "      <th>3</th>\n",
       "      <td>농축 산화수 행사 우국 거리 한우 양념 불고기 무료 거부</td>\n",
       "      <td>1</td>\n",
       "    </tr>\n",
       "    <tr>\n",
       "      <th>4</th>\n",
       "      <td>레디 캐시 천원 선물 드리다 보다 문자 대명 임 레디 고객 발송 되다 정서 고객 이...</td>\n",
       "      <td>1</td>\n",
       "    </tr>\n",
       "  </tbody>\n",
       "</table>\n",
       "</div>"
      ],
      "text/plain": [
       "                                                data  spam\n",
       "0  종근당 건강 아이 크다 상자 드리다 아이 키 성장 도움 주다 주목 국내 유일 키 성...     1\n",
       "1  신봉 대리점 여름 찾아오다 항상 기원 하다 마음 저희 신봉 점 이용 해주다 벤트 사...     1\n",
       "2  김성춘 칼텍스 원 주유 쿠폰 무료 증정 선착순 마감 임박 또 나 모르다 뻔 하다 신...     1\n",
       "3                    농축 산화수 행사 우국 거리 한우 양념 불고기 무료 거부     1\n",
       "4  레디 캐시 천원 선물 드리다 보다 문자 대명 임 레디 고객 발송 되다 정서 고객 이...     1"
      ]
     },
     "execution_count": 26,
     "metadata": {},
     "output_type": "execute_result"
    }
   ],
   "source": [
    "raw.head()"
   ]
  },
  {
   "cell_type": "code",
   "execution_count": 27,
   "metadata": {
    "executionInfo": {
     "elapsed": 866,
     "status": "ok",
     "timestamp": 1730192170206,
     "user": {
      "displayName": "마로코",
      "userId": "12205708180978122129"
     },
     "user_tz": -540
    },
    "id": "c9LKwjpBjeLk"
   },
   "outputs": [],
   "source": [
    "raw.to_csv('/home/maroco/dataset/preprocessed_set/spam_data.csv', index=False)"
   ]
  }
 ],
 "metadata": {
  "colab": {
   "authorship_tag": "ABX9TyOscwOJ8PE1pfJTuTrPBCzJ",
   "mount_file_id": "1QXHCGgkxQNRyzrG-ap7wpDLLIO3A7J3g",
   "provenance": []
  },
  "kernelspec": {
   "display_name": "kobert_env",
   "language": "python",
   "name": "python3"
  },
  "language_info": {
   "codemirror_mode": {
    "name": "ipython",
    "version": 3
   },
   "file_extension": ".py",
   "mimetype": "text/x-python",
   "name": "python",
   "nbconvert_exporter": "python",
   "pygments_lexer": "ipython3",
   "version": "3.10.15"
  }
 },
 "nbformat": 4,
 "nbformat_minor": 0
}
