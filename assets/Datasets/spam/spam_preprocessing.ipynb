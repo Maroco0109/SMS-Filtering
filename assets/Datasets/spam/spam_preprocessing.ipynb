{
 "cells": [
  {
   "cell_type": "code",
   "execution_count": 6,
   "metadata": {
    "collapsed": true,
    "executionInfo": {
     "elapsed": 3630,
     "status": "ok",
     "timestamp": 1730192168193,
     "user": {
      "displayName": "마로코",
      "userId": "12205708180978122129"
     },
     "user_tz": -540
    },
    "id": "50XxFRVHaKP7"
   },
   "outputs": [],
   "source": [
    "import os\n",
    "import pandas as pd\n",
    "import numpy as np\n",
    "import re\n",
    "import dask.dataframe as dd\n",
    "\n",
    "# path = 'C:/Users/user/Desktop/AIML/datasets/Data_Preprocessing/spam_set'\n",
    "path = '/home/maroco/dataset/spam_dataset'\n",
    "files = os.listdir(path)\n",
    "filenames = []\n",
    "\n",
    "for root, dirs, files in os.walk(path):\n",
    "  for file in files:\n",
    "    if file.endswith('.csv'):\n",
    "      filenames.append(os.path.join(root, file))\n",
    "\n",
    "# Create a list to store DataFrames\n",
    "all_dfs = []\n",
    "\n",
    "for file in filenames:\n",
    "  try:\n",
    "    # Use 'on_bad_lines' instead of 'error_bad_lines'\n",
    "    # df = pd.read_csv(file, on_bad_lines='skip', delimiter=\",\")  # Skip bad lines\n",
    "    df = pd.read_csv(file)\n",
    "\n",
    "    # 정상화\n",
    "    df.columns=['index', 'data']\n",
    "    df = df.set_index('index')\n",
    "    df['spam'] = 1\n",
    "    df['data'] = df['data'].str.replace('ifg@','')\n",
    "\n",
    "    # Dask Dataframe 생성\n",
    "    # Move ddf creation after modifying the Pandas DataFrame\n",
    "    ddf = dd.from_pandas(df, npartitions=4) # Create ddf after modifications\n",
    "\n",
    "\n",
    "    # Append the current DataFrame to the list\n",
    "    result = ddf.compute()\n",
    "    all_dfs.append(result)\n",
    "\n",
    "  except pd.errors.ParserError as e:\n",
    "    print(f\"Error reading file {file}: {e}\")\n",
    "\n",
    "# Concatenate all DataFrames in the list into a single DataFrame\n",
    "raw = pd.concat(all_dfs, ignore_index=True)"
   ]
  },
  {
   "cell_type": "code",
   "execution_count": 7,
   "metadata": {},
   "outputs": [],
   "source": [
    "# 텍스트 처리 함수 설정\n",
    "def preprocess_text(text):\n",
    "    # 여러 개의 공백을 하나의 공백으로 축소\n",
    "    text = re.sub(r'\\s+', ' ', text)\n",
    "    # 앞뒤 공백 제거\n",
    "    text = text.strip()\n",
    "    # 맨 앞의 숫자와 공백 또는 콜론 제거\n",
    "    text = re.sub(r'^\\d+\\s*', '', text)\n",
    "    # 필요에 따라 특수 문자 제거 (예시로 일부 문자만 제거)\n",
    "    text = re.sub(r'[^가-힣a-zA-Z0-9\\s]', '', text)\n",
    "    return text"
   ]
  },
  {
   "cell_type": "code",
   "execution_count": 8,
   "metadata": {
    "colab": {
     "base_uri": "https://localhost:8080/"
    },
    "executionInfo": {
     "elapsed": 4,
     "status": "ok",
     "timestamp": 1730192168680,
     "user": {
      "displayName": "마로코",
      "userId": "12205708180978122129"
     },
     "user_tz": -540
    },
    "id": "gYOhzZDSnwqA",
    "outputId": "20da5fb1-9ab9-4f5b-deed-bb03add3a85b"
   },
   "outputs": [
    {
     "name": "stdout",
     "output_type": "stream",
     "text": [
      "159507\n",
      "159507\n"
     ]
    }
   ],
   "source": [
    "# 결측치 처리\n",
    "print(len(raw))\n",
    "drop_index = raw[raw['data'].isnull()].index\n",
    "raw = raw.drop(drop_index)\n",
    "print(len(raw))"
   ]
  },
  {
   "cell_type": "code",
   "execution_count": 9,
   "metadata": {
    "colab": {
     "base_uri": "https://localhost:8080/"
    },
    "executionInfo": {
     "elapsed": 3,
     "status": "ok",
     "timestamp": 1730192168680,
     "user": {
      "displayName": "마로코",
      "userId": "12205708180978122129"
     },
     "user_tz": -540
    },
    "id": "bTHzgGW0oK0J",
    "outputId": "145720ba-325c-4607-fa09-77d9539a243e"
   },
   "outputs": [
    {
     "name": "stdout",
     "output_type": "stream",
     "text": [
      "159507\n",
      "158337\n"
     ]
    }
   ],
   "source": [
    "# 중복 내용 제거\n",
    "print(len(raw))\n",
    "raw = raw.drop_duplicates('data')\n",
    "print(len(raw))"
   ]
  },
  {
   "cell_type": "code",
   "execution_count": 10,
   "metadata": {},
   "outputs": [],
   "source": [
    "raw['data']=raw['data'].apply(preprocess_text)"
   ]
  },
  {
   "cell_type": "code",
   "execution_count": 13,
   "metadata": {},
   "outputs": [],
   "source": [
    "raw['data'] = raw['data'].str.replace('Web발신', '')\n",
    "raw['data'] = raw['data'].str.replace('국제발신', '')\n",
    "raw['data'] = raw['data'].str.replace('광고', '')"
   ]
  },
  {
   "cell_type": "code",
   "execution_count": 14,
   "metadata": {
    "colab": {
     "base_uri": "https://localhost:8080/",
     "height": 206
    },
    "executionInfo": {
     "elapsed": 343,
     "status": "ok",
     "timestamp": 1730192169020,
     "user": {
      "displayName": "마로코",
      "userId": "12205708180978122129"
     },
     "user_tz": -540
    },
    "id": "8btPRxHPoc1-",
    "outputId": "a2ac1018-958e-46ea-bbf5-d6467f4cafea"
   },
   "outputs": [
    {
     "data": {
      "text/html": [
       "<div>\n",
       "<style scoped>\n",
       "    .dataframe tbody tr th:only-of-type {\n",
       "        vertical-align: middle;\n",
       "    }\n",
       "\n",
       "    .dataframe tbody tr th {\n",
       "        vertical-align: top;\n",
       "    }\n",
       "\n",
       "    .dataframe thead th {\n",
       "        text-align: right;\n",
       "    }\n",
       "</style>\n",
       "<table border=\"1\" class=\"dataframe\">\n",
       "  <thead>\n",
       "    <tr style=\"text-align: right;\">\n",
       "      <th></th>\n",
       "      <th>data</th>\n",
       "      <th>spam</th>\n",
       "    </tr>\n",
       "  </thead>\n",
       "  <tbody>\n",
       "    <tr>\n",
       "      <th>0</th>\n",
       "      <td>Hil튼  scom열소l 캍옥 CDDC</td>\n",
       "      <td>1</td>\n",
       "    </tr>\n",
       "    <tr>\n",
       "      <th>1</th>\n",
       "      <td>정선생의 정보 제공 커뮤니티안녕하십니까정진홍 주식전문가입니다미국에서 인플레이션을 잡...</td>\n",
       "      <td>1</td>\n",
       "    </tr>\n",
       "    <tr>\n",
       "      <th>2</th>\n",
       "      <td>비번  bitlywBUinvip 주식 세력 단타 일매도체험방 입니다일만</td>\n",
       "      <td>1</td>\n",
       "    </tr>\n",
       "    <tr>\n",
       "      <th>3</th>\n",
       "      <td>원 으로원금보장지원금 원 마감문의하기 xxpeaskcom</td>\n",
       "      <td>1</td>\n",
       "    </tr>\n",
       "    <tr>\n",
       "      <th>4</th>\n",
       "      <td>맥심SLOTmexcom신규  만쿱폰매일 퍠이백</td>\n",
       "      <td>1</td>\n",
       "    </tr>\n",
       "  </tbody>\n",
       "</table>\n",
       "</div>"
      ],
      "text/plain": [
       "                                                data  spam\n",
       "0                              Hil튼  scom열소l 캍옥 CDDC     1\n",
       "1  정선생의 정보 제공 커뮤니티안녕하십니까정진홍 주식전문가입니다미국에서 인플레이션을 잡...     1\n",
       "2            비번  bitlywBUinvip 주식 세력 단타 일매도체험방 입니다일만     1\n",
       "3                    원 으로원금보장지원금 원 마감문의하기 xxpeaskcom     1\n",
       "4                          맥심SLOTmexcom신규  만쿱폰매일 퍠이백     1"
      ]
     },
     "execution_count": 14,
     "metadata": {},
     "output_type": "execute_result"
    }
   ],
   "source": [
    "raw.head()"
   ]
  },
  {
   "cell_type": "code",
   "execution_count": 17,
   "metadata": {},
   "outputs": [
    {
     "name": "stdout",
     "output_type": "stream",
     "text": [
      "158337\n"
     ]
    }
   ],
   "source": [
    "print(len(raw))"
   ]
  },
  {
   "cell_type": "code",
   "execution_count": 16,
   "metadata": {
    "executionInfo": {
     "elapsed": 866,
     "status": "ok",
     "timestamp": 1730192170206,
     "user": {
      "displayName": "마로코",
      "userId": "12205708180978122129"
     },
     "user_tz": -540
    },
    "id": "c9LKwjpBjeLk"
   },
   "outputs": [],
   "source": [
    "raw.to_csv('/home/maroco/dataset/spam/spam_data.csv', index=False)"
   ]
  },
  {
   "cell_type": "code",
   "execution_count": null,
   "metadata": {},
   "outputs": [],
   "source": []
  }
 ],
 "metadata": {
  "colab": {
   "authorship_tag": "ABX9TyOscwOJ8PE1pfJTuTrPBCzJ",
   "mount_file_id": "1QXHCGgkxQNRyzrG-ap7wpDLLIO3A7J3g",
   "provenance": []
  },
  "kernelspec": {
   "display_name": "AIML2",
   "language": "python",
   "name": "python3"
  },
  "language_info": {
   "codemirror_mode": {
    "name": "ipython",
    "version": 3
   },
   "file_extension": ".py",
   "mimetype": "text/x-python",
   "name": "python",
   "nbconvert_exporter": "python",
   "pygments_lexer": "ipython3",
   "version": "3.9.20"
  }
 },
 "nbformat": 4,
 "nbformat_minor": 0
}
