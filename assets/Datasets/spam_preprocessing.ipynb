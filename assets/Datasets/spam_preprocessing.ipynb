{
 "cells": [
  {
   "cell_type": "code",
   "execution_count": 1,
   "metadata": {
    "collapsed": true,
    "executionInfo": {
     "elapsed": 3630,
     "status": "ok",
     "timestamp": 1730192168193,
     "user": {
      "displayName": "마로코",
      "userId": "12205708180978122129"
     },
     "user_tz": -540
    },
    "id": "50XxFRVHaKP7"
   },
   "outputs": [],
   "source": [
    "import os\n",
    "import pandas as pd\n",
    "import numpy as np\n",
    "import re\n",
    "import dask.dataframe as dd\n",
    "\n",
    "path = 'C:/Users/user/Desktop/AIML/datasets/Data_Preprocessing/spam_set'\n",
    "files = os.listdir(path)\n",
    "filenames = []\n",
    "\n",
    "for root, dirs, files in os.walk(path):\n",
    "  for file in files:\n",
    "    if file.endswith('.csv'):\n",
    "      filenames.append(os.path.join(root, file))\n",
    "\n",
    "# Create a list to store DataFrames\n",
    "all_dfs = []\n",
    "\n",
    "for file in filenames:\n",
    "  try:\n",
    "    # Use 'on_bad_lines' instead of 'error_bad_lines'\n",
    "    # df = pd.read_csv(file, on_bad_lines='skip', delimiter=\",\")  # Skip bad lines\n",
    "    df = pd.read_csv(file)\n",
    "\n",
    "    # 정상화\n",
    "    df.columns=['index', 'data']\n",
    "    df = df.set_index('index')\n",
    "    df['spam'] = 1\n",
    "    df['data'] = df['data'].str.replace('ifg@','')\n",
    "\n",
    "    # Dask Dataframe 생성\n",
    "    # Move ddf creation after modifying the Pandas DataFrame\n",
    "    ddf = dd.from_pandas(df, npartitions=4) # Create ddf after modifications\n",
    "\n",
    "\n",
    "    # Append the current DataFrame to the list\n",
    "    result = ddf.compute()\n",
    "    all_dfs.append(result)\n",
    "\n",
    "  except pd.errors.ParserError as e:\n",
    "    print(f\"Error reading file {file}: {e}\")\n",
    "\n",
    "# Concatenate all DataFrames in the list into a single DataFrame\n",
    "raw = pd.concat(all_dfs, ignore_index=True)"
   ]
  },
  {
   "cell_type": "code",
   "execution_count": 2,
   "metadata": {},
   "outputs": [],
   "source": [
    "# 텍스트 처리 함수 설정\n",
    "def preprocess_text(text):\n",
    "    # 여러 개의 공백을 하나의 공백으로 축소\n",
    "    text = re.sub(r'\\s+', ' ', text)\n",
    "    # 앞뒤 공백 제거\n",
    "    text = text.strip()\n",
    "    # 맨 앞의 숫자와 공백 또는 콜론 제거\n",
    "    text = re.sub(r'^\\d+\\s*', '', text)\n",
    "    # 필요에 따라 특수 문자 제거 (예시로 일부 문자만 제거)\n",
    "    text = re.sub(r'[^가-힣a-zA-Z0-9\\s]', '', text)\n",
    "    return text"
   ]
  },
  {
   "cell_type": "code",
   "execution_count": 3,
   "metadata": {
    "colab": {
     "base_uri": "https://localhost:8080/"
    },
    "executionInfo": {
     "elapsed": 4,
     "status": "ok",
     "timestamp": 1730192168680,
     "user": {
      "displayName": "마로코",
      "userId": "12205708180978122129"
     },
     "user_tz": -540
    },
    "id": "gYOhzZDSnwqA",
    "outputId": "20da5fb1-9ab9-4f5b-deed-bb03add3a85b"
   },
   "outputs": [
    {
     "name": "stdout",
     "output_type": "stream",
     "text": [
      "50639\n",
      "50639\n"
     ]
    }
   ],
   "source": [
    "# 결측치 처리\n",
    "print(len(raw))\n",
    "drop_index = raw[raw['data'].isnull()].index\n",
    "raw = raw.drop(drop_index)\n",
    "print(len(raw))"
   ]
  },
  {
   "cell_type": "code",
   "execution_count": 4,
   "metadata": {
    "colab": {
     "base_uri": "https://localhost:8080/"
    },
    "executionInfo": {
     "elapsed": 3,
     "status": "ok",
     "timestamp": 1730192168680,
     "user": {
      "displayName": "마로코",
      "userId": "12205708180978122129"
     },
     "user_tz": -540
    },
    "id": "bTHzgGW0oK0J",
    "outputId": "145720ba-325c-4607-fa09-77d9539a243e"
   },
   "outputs": [
    {
     "name": "stdout",
     "output_type": "stream",
     "text": [
      "50639\n",
      "49786\n"
     ]
    }
   ],
   "source": [
    "# 중복 내용 제거\n",
    "print(len(raw))\n",
    "raw = raw.drop_duplicates('data')\n",
    "print(len(raw))"
   ]
  },
  {
   "cell_type": "code",
   "execution_count": 5,
   "metadata": {},
   "outputs": [],
   "source": [
    "raw['data']=raw['data'].apply(preprocess_text)"
   ]
  },
  {
   "cell_type": "code",
   "execution_count": 6,
   "metadata": {},
   "outputs": [],
   "source": [
    "raw['data'] = raw['data'].str.replace('Web발신', '')\n",
    "raw['data'] = raw['data'].str.replace('광고', '')"
   ]
  },
  {
   "cell_type": "code",
   "execution_count": 7,
   "metadata": {
    "colab": {
     "base_uri": "https://localhost:8080/",
     "height": 206
    },
    "executionInfo": {
     "elapsed": 343,
     "status": "ok",
     "timestamp": 1730192169020,
     "user": {
      "displayName": "마로코",
      "userId": "12205708180978122129"
     },
     "user_tz": -540
    },
    "id": "8btPRxHPoc1-",
    "outputId": "a2ac1018-958e-46ea-bbf5-d6467f4cafea"
   },
   "outputs": [
    {
     "data": {
      "text/html": [
       "<div>\n",
       "<style scoped>\n",
       "    .dataframe tbody tr th:only-of-type {\n",
       "        vertical-align: middle;\n",
       "    }\n",
       "\n",
       "    .dataframe tbody tr th {\n",
       "        vertical-align: top;\n",
       "    }\n",
       "\n",
       "    .dataframe thead th {\n",
       "        text-align: right;\n",
       "    }\n",
       "</style>\n",
       "<table border=\"1\" class=\"dataframe\">\n",
       "  <thead>\n",
       "    <tr style=\"text-align: right;\">\n",
       "      <th></th>\n",
       "      <th>data</th>\n",
       "      <th>spam</th>\n",
       "    </tr>\n",
       "  </thead>\n",
       "  <tbody>\n",
       "    <tr>\n",
       "      <th>0</th>\n",
       "      <td>님  작전주에 당첨되셨습니다이 문자는 분뒤 삭제됩니다방입장시 종목부터 즉시공개 하겠...</td>\n",
       "      <td>1</td>\n",
       "    </tr>\n",
       "    <tr>\n",
       "      <th>1</th>\n",
       "      <td>국제발신처음 치킨cupon새벽 방문만humluck 쩜컴CDhbq</td>\n",
       "      <td>1</td>\n",
       "    </tr>\n",
       "    <tr>\n",
       "      <th>2</th>\n",
       "      <td>국제발신이오스 엔지엔 에볼루정답쥐조작쥐후불제결과로보답합니다백프로입니다엔트리안내comFW</td>\n",
       "      <td>1</td>\n",
       "    </tr>\n",
       "    <tr>\n",
       "      <th>3</th>\n",
       "      <td>국제발신회 오 리 커피값 시시회 오 리가 아니면 사 칭사칭 먹튀에 주의 바랍니다툭 HOL</td>\n",
       "      <td>1</td>\n",
       "    </tr>\n",
       "    <tr>\n",
       "      <th>4</th>\n",
       "      <td>국외발신새고객 원출금해 가세요 십만원샌즈  WRi계열  새해 GIFTasddcom</td>\n",
       "      <td>1</td>\n",
       "    </tr>\n",
       "  </tbody>\n",
       "</table>\n",
       "</div>"
      ],
      "text/plain": [
       "                                                data  spam\n",
       "0  님  작전주에 당첨되셨습니다이 문자는 분뒤 삭제됩니다방입장시 종목부터 즉시공개 하겠...     1\n",
       "1                국제발신처음 치킨cupon새벽 방문만humluck 쩜컴CDhbq     1\n",
       "2   국제발신이오스 엔지엔 에볼루정답쥐조작쥐후불제결과로보답합니다백프로입니다엔트리안내comFW     1\n",
       "3  국제발신회 오 리 커피값 시시회 오 리가 아니면 사 칭사칭 먹튀에 주의 바랍니다툭 HOL     1\n",
       "4      국외발신새고객 원출금해 가세요 십만원샌즈  WRi계열  새해 GIFTasddcom     1"
      ]
     },
     "execution_count": 7,
     "metadata": {},
     "output_type": "execute_result"
    }
   ],
   "source": [
    "raw.head()"
   ]
  },
  {
   "cell_type": "code",
   "execution_count": 8,
   "metadata": {
    "executionInfo": {
     "elapsed": 866,
     "status": "ok",
     "timestamp": 1730192170206,
     "user": {
      "displayName": "마로코",
      "userId": "12205708180978122129"
     },
     "user_tz": -540
    },
    "id": "c9LKwjpBjeLk"
   },
   "outputs": [],
   "source": [
    "raw.to_csv('C:/Users/user/Desktop/AIML/datasets/Data_Preprocessing/spam_data.csv', index=False)"
   ]
  }
 ],
 "metadata": {
  "colab": {
   "authorship_tag": "ABX9TyOscwOJ8PE1pfJTuTrPBCzJ",
   "mount_file_id": "1QXHCGgkxQNRyzrG-ap7wpDLLIO3A7J3g",
   "provenance": []
  },
  "kernelspec": {
   "display_name": "AIML",
   "language": "python",
   "name": "python3"
  },
  "language_info": {
   "codemirror_mode": {
    "name": "ipython",
    "version": 3
   },
   "file_extension": ".py",
   "mimetype": "text/x-python",
   "name": "python",
   "nbconvert_exporter": "python",
   "pygments_lexer": "ipython3",
   "version": "3.7.12"
  }
 },
 "nbformat": 4,
 "nbformat_minor": 0
}
