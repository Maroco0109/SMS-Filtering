{
 "cells": [
  {
   "cell_type": "code",
   "execution_count": 1,
   "metadata": {
    "colab": {
     "base_uri": "https://localhost:8080/"
    },
    "executionInfo": {
     "elapsed": 72364,
     "status": "ok",
     "timestamp": 1730193313774,
     "user": {
      "displayName": "마로코",
      "userId": "12205708180978122129"
     },
     "user_tz": -540
    },
    "id": "50XxFRVHaKP7",
    "outputId": "62c748d8-3497-4cfa-b7cf-0f1076cb0e66"
   },
   "outputs": [
    {
     "name": "stderr",
     "output_type": "stream",
     "text": [
      "/home/maroco/anaconda3/envs/kobert_env/lib/python3.10/site-packages/dask/dataframe/__init__.py:49: FutureWarning: \n",
      "Dask dataframe query planning is disabled because dask-expr is not installed.\n",
      "\n",
      "You can install it with `pip install dask[dataframe]` or `conda install dask`.\n",
      "This will raise in a future version.\n",
      "\n",
      "  warnings.warn(msg, FutureWarning)\n"
     ]
    }
   ],
   "source": [
    "import os\n",
    "import pandas as pd\n",
    "import numpy as np\n",
    "import re\n",
    "import dask.dataframe as dd\n",
    "\n",
    "# path = 'C:/Users/user/Desktop/AIML/datasets/Data_Preprocessing/ham_set'\n",
    "path = '/home/maroco/dataset/ham_dataset'\n",
    "files = os.listdir(path)\n",
    "filenames = []\n",
    "\n",
    "for root, dirs, files in os.walk(path):\n",
    "  for file in files:\n",
    "    if file.endswith('.csv'):\n",
    "      filenames.append(os.path.join(root, file))\n",
    "\n",
    "all_pre_dfs = []\n",
    "\n",
    "# Iterate through the list of filenames and read each CSV file\n",
    "for filename in filenames:\n",
    "  pre_df = pd.read_csv(filename, sep='\\t')\n",
    "  pre_df.columns = ['text']\n",
    "  pre_df['label'] = 'ham'\n",
    "\n",
    "  # Create a list to store DataFrames\n",
    "  dpre_df = dd.from_pandas(pre_df, npartitions=4) # Create dpre_df after modifications\n",
    "\n",
    "  # Append the current DataFrame to the list\n",
    "  result = dpre_df.compute()\n",
    "  all_pre_dfs.append(result)\n",
    "\n",
    "# Concatenate all DataFrames in the list into a single DataFrame\n",
    "raw = pd.concat(all_pre_dfs, ignore_index=True)"
   ]
  },
  {
   "cell_type": "code",
   "execution_count": 2,
   "metadata": {},
   "outputs": [],
   "source": [
    "# 텍스트 처리 함수 설정\n",
    "def preprocess_text(text):\n",
    "    # 여러 개의 공백을 하나의 공백으로 축소\n",
    "    text = re.sub(r'\\s+', ' ', text)\n",
    "    # 앞뒤 공백 제거\n",
    "    text = text.strip()\n",
    "    # 맨 앞의 숫자와 공백 또는 콜론 제거\n",
    "    text = re.sub(r'^\\d+\\s*', '', text)\n",
    "    # 필요에 따라 특수 문자 제거 (예시로 일부 문자만 제거)\n",
    "    text = re.sub(r'[^가-힣a-zA-Z0-9\\s]', '', text)\n",
    "    return text"
   ]
  },
  {
   "cell_type": "code",
   "execution_count": 3,
   "metadata": {
    "colab": {
     "base_uri": "https://localhost:8080/"
    },
    "executionInfo": {
     "elapsed": 342,
     "status": "ok",
     "timestamp": 1730193457904,
     "user": {
      "displayName": "마로코",
      "userId": "12205708180978122129"
     },
     "user_tz": -540
    },
    "id": "gYOhzZDSnwqA",
    "outputId": "94f65765-5acd-49c5-a686-ed617d97ba13"
   },
   "outputs": [
    {
     "name": "stdout",
     "output_type": "stream",
     "text": [
      "42457\n",
      "42457\n"
     ]
    }
   ],
   "source": [
    "# 결측치 처리\n",
    "print(len(raw))\n",
    "drop_index = raw[raw['text'].isnull()].index\n",
    "raw = raw.drop(drop_index)\n",
    "print(len(raw))"
   ]
  },
  {
   "cell_type": "code",
   "execution_count": 4,
   "metadata": {
    "colab": {
     "base_uri": "https://localhost:8080/"
    },
    "executionInfo": {
     "elapsed": 368,
     "status": "ok",
     "timestamp": 1730193471685,
     "user": {
      "displayName": "마로코",
      "userId": "12205708180978122129"
     },
     "user_tz": -540
    },
    "id": "MAxWSQijd1Wu",
    "outputId": "e553f74a-3717-49b1-b95d-5f4f40d57f05"
   },
   "outputs": [
    {
     "name": "stdout",
     "output_type": "stream",
     "text": [
      "42457\n",
      "40350\n"
     ]
    }
   ],
   "source": [
    "# 중복 내용 제거\n",
    "print(len(raw))\n",
    "raw = raw.drop_duplicates('text')\n",
    "print(len(raw))"
   ]
  },
  {
   "cell_type": "code",
   "execution_count": 5,
   "metadata": {
    "executionInfo": {
     "elapsed": 328,
     "status": "ok",
     "timestamp": 1730193464538,
     "user": {
      "displayName": "마로코",
      "userId": "12205708180978122129"
     },
     "user_tz": -540
    },
    "id": "I4wKBvkRbnRe"
   },
   "outputs": [],
   "source": [
    "raw['text']=raw['text'].apply(preprocess_text)"
   ]
  },
  {
   "cell_type": "code",
   "execution_count": 6,
   "metadata": {
    "colab": {
     "base_uri": "https://localhost:8080/",
     "height": 206
    },
    "executionInfo": {
     "elapsed": 2,
     "status": "ok",
     "timestamp": 1730193465431,
     "user": {
      "displayName": "마로코",
      "userId": "12205708180978122129"
     },
     "user_tz": -540
    },
    "id": "0QiPyabCdz5C",
    "outputId": "bcffdc6e-0710-44c9-91bd-7304b33dd778"
   },
   "outputs": [
    {
     "data": {
      "text/html": [
       "<div>\n",
       "<style scoped>\n",
       "    .dataframe tbody tr th:only-of-type {\n",
       "        vertical-align: middle;\n",
       "    }\n",
       "\n",
       "    .dataframe tbody tr th {\n",
       "        vertical-align: top;\n",
       "    }\n",
       "\n",
       "    .dataframe thead th {\n",
       "        text-align: right;\n",
       "    }\n",
       "</style>\n",
       "<table border=\"1\" class=\"dataframe\">\n",
       "  <thead>\n",
       "    <tr style=\"text-align: right;\">\n",
       "      <th></th>\n",
       "      <th>text</th>\n",
       "      <th>label</th>\n",
       "    </tr>\n",
       "  </thead>\n",
       "  <tbody>\n",
       "    <tr>\n",
       "      <th>0</th>\n",
       "      <td>맞지 하하 중간에 있어서 하하</td>\n",
       "      <td>ham</td>\n",
       "    </tr>\n",
       "    <tr>\n",
       "      <th>1</th>\n",
       "      <td>기차타면 들리지 않음 키키</td>\n",
       "      <td>ham</td>\n",
       "    </tr>\n",
       "    <tr>\n",
       "      <th>2</th>\n",
       "      <td>대전은 참 교통이 편리해</td>\n",
       "      <td>ham</td>\n",
       "    </tr>\n",
       "    <tr>\n",
       "      <th>3</th>\n",
       "      <td>어디든 대전 통과 할듯 거의 하하</td>\n",
       "      <td>ham</td>\n",
       "    </tr>\n",
       "    <tr>\n",
       "      <th>4</th>\n",
       "      <td>맞음 대전은 중간이라 좋음</td>\n",
       "      <td>ham</td>\n",
       "    </tr>\n",
       "  </tbody>\n",
       "</table>\n",
       "</div>"
      ],
      "text/plain": [
       "                  text label\n",
       "0     맞지 하하 중간에 있어서 하하   ham\n",
       "1       기차타면 들리지 않음 키키   ham\n",
       "2        대전은 참 교통이 편리해   ham\n",
       "3   어디든 대전 통과 할듯 거의 하하   ham\n",
       "4       맞음 대전은 중간이라 좋음   ham"
      ]
     },
     "execution_count": 6,
     "metadata": {},
     "output_type": "execute_result"
    }
   ],
   "source": [
    "raw.head()"
   ]
  },
  {
   "cell_type": "code",
   "execution_count": 7,
   "metadata": {
    "executionInfo": {
     "elapsed": 348,
     "status": "ok",
     "timestamp": 1730193481416,
     "user": {
      "displayName": "마로코",
      "userId": "12205708180978122129"
     },
     "user_tz": -540
    },
    "id": "7prmdlY4f3W_"
   },
   "outputs": [],
   "source": [
    "# raw.to_csv('C:/Users/user/Desktop/AIML/datasets/Data_Preprocessing/ham_data.csv', index=False)\n",
    "raw.to_csv('/home/maroco/dataset/preprocessed_set/ham_data.csv', index=False)"
   ]
  }
 ],
 "metadata": {
  "colab": {
   "authorship_tag": "ABX9TyM1IqKb2XeM9IbyaEp4Qg4e",
   "mount_file_id": "18VFklV1e12AcGyl0JnlH6JOqF4wS76X1",
   "provenance": []
  },
  "kernelspec": {
   "display_name": "kobert_env",
   "language": "python",
   "name": "python3"
  },
  "language_info": {
   "codemirror_mode": {
    "name": "ipython",
    "version": 3
   },
   "file_extension": ".py",
   "mimetype": "text/x-python",
   "name": "python",
   "nbconvert_exporter": "python",
   "pygments_lexer": "ipython3",
   "version": "3.10.15"
  }
 },
 "nbformat": 4,
 "nbformat_minor": 0
}
