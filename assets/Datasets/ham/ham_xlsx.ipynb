{
 "cells": [
  {
   "cell_type": "code",
   "execution_count": 29,
   "metadata": {},
   "outputs": [],
   "source": [
    "import numpy as np\n",
    "import pandas as pd\n",
    "import os"
   ]
  },
  {
   "cell_type": "code",
   "execution_count": 30,
   "metadata": {},
   "outputs": [],
   "source": [
    "path = '/home/maroco/dataset/kor_dataset/'\n",
    "files = os.listdir(path)\n",
    "filenames = []\n",
    "\n",
    "result = []\n",
    "\n",
    "for root, dirs, files in os.walk(path):\n",
    "  for file in files:\n",
    "    if file.endswith('.xlsx'):\n",
    "      filenames.append(os.path.join(root, file))\n",
    "\n",
    "for filename in filenames:\n",
    "  pre_df = pd.read_excel(filename, engine='openpyxl')\n",
    "  result.append(pre_df)\n",
    "\n",
    "df = pd.concat(result, ignore_index=True)"
   ]
  },
  {
   "cell_type": "code",
   "execution_count": 31,
   "metadata": {},
   "outputs": [
    {
     "data": {
      "text/html": [
       "<div>\n",
       "<style scoped>\n",
       "    .dataframe tbody tr th:only-of-type {\n",
       "        vertical-align: middle;\n",
       "    }\n",
       "\n",
       "    .dataframe tbody tr th {\n",
       "        vertical-align: top;\n",
       "    }\n",
       "\n",
       "    .dataframe thead th {\n",
       "        text-align: right;\n",
       "    }\n",
       "</style>\n",
       "<table border=\"1\" class=\"dataframe\">\n",
       "  <thead>\n",
       "    <tr style=\"text-align: right;\">\n",
       "      <th></th>\n",
       "      <th>SPEAKER</th>\n",
       "      <th>SENTENCE</th>\n",
       "      <th>DOMAINID</th>\n",
       "      <th>DOMAIN</th>\n",
       "      <th>CATEGORY</th>\n",
       "      <th>SPEAKERID</th>\n",
       "      <th>SENTENCEID</th>\n",
       "      <th>MAIN</th>\n",
       "      <th>SUB</th>\n",
       "      <th>QA</th>\n",
       "      <th>QACNCT</th>\n",
       "      <th>MQ</th>\n",
       "      <th>SQ</th>\n",
       "      <th>UA</th>\n",
       "      <th>SA</th>\n",
       "      <th>개체명</th>\n",
       "      <th>용어사전</th>\n",
       "      <th>지식베이스</th>\n",
       "      <th>Unnamed: 18</th>\n",
       "    </tr>\n",
       "  </thead>\n",
       "  <tbody>\n",
       "    <tr>\n",
       "      <th>0</th>\n",
       "      <td>고객</td>\n",
       "      <td>애가 고등학교 1학년인데 태권도 하려면 수강료가 얼마쯤?</td>\n",
       "      <td>C</td>\n",
       "      <td>학원</td>\n",
       "      <td>태권도</td>\n",
       "      <td>1</td>\n",
       "      <td>1</td>\n",
       "      <td>교육비문의</td>\n",
       "      <td>NaN</td>\n",
       "      <td>Q</td>\n",
       "      <td>NaN</td>\n",
       "      <td>애가 고등학교 1학년인데 태권도 하려면 수강료가 얼마쯤?</td>\n",
       "      <td>NaN</td>\n",
       "      <td>NaN</td>\n",
       "      <td>NaN</td>\n",
       "      <td>고등학교 1학년, 태권도, 수강료, 얼마</td>\n",
       "      <td>NaN</td>\n",
       "      <td>고등학교 1학년/대상, 태권도/과목</td>\n",
       "      <td>NaN</td>\n",
       "    </tr>\n",
       "    <tr>\n",
       "      <th>1</th>\n",
       "      <td>점원</td>\n",
       "      <td>12만 원입니다</td>\n",
       "      <td>C</td>\n",
       "      <td>학원</td>\n",
       "      <td>태권도</td>\n",
       "      <td>0</td>\n",
       "      <td>2</td>\n",
       "      <td>교육비문의</td>\n",
       "      <td>NaN</td>\n",
       "      <td>A</td>\n",
       "      <td>NaN</td>\n",
       "      <td>NaN</td>\n",
       "      <td>NaN</td>\n",
       "      <td>NaN</td>\n",
       "      <td>12만 원입니다</td>\n",
       "      <td>12만 원</td>\n",
       "      <td>NaN</td>\n",
       "      <td>12만 원/금액</td>\n",
       "      <td>NaN</td>\n",
       "    </tr>\n",
       "    <tr>\n",
       "      <th>2</th>\n",
       "      <td>점원</td>\n",
       "      <td>뭐 때문에 하시려는데요?</td>\n",
       "      <td>C</td>\n",
       "      <td>학원</td>\n",
       "      <td>태권도</td>\n",
       "      <td>0</td>\n",
       "      <td>3</td>\n",
       "      <td>상담문의</td>\n",
       "      <td>수강목적</td>\n",
       "      <td>Q</td>\n",
       "      <td>NaN</td>\n",
       "      <td>NaN</td>\n",
       "      <td>뭐 때문에 하시려는데요?</td>\n",
       "      <td>NaN</td>\n",
       "      <td>NaN</td>\n",
       "      <td>NaN</td>\n",
       "      <td>NaN</td>\n",
       "      <td>NaN</td>\n",
       "      <td>NaN</td>\n",
       "    </tr>\n",
       "    <tr>\n",
       "      <th>3</th>\n",
       "      <td>고객</td>\n",
       "      <td>애가 겁도 많고 그래서 태권도 한 번 시켜보려고요</td>\n",
       "      <td>C</td>\n",
       "      <td>학원</td>\n",
       "      <td>태권도</td>\n",
       "      <td>1</td>\n",
       "      <td>4</td>\n",
       "      <td>상담문의</td>\n",
       "      <td>수강목적</td>\n",
       "      <td>A</td>\n",
       "      <td>NaN</td>\n",
       "      <td>NaN</td>\n",
       "      <td>NaN</td>\n",
       "      <td>애가 겁도 많고 그래서 태권도 한 번 시켜보려고요</td>\n",
       "      <td>NaN</td>\n",
       "      <td>겁, 태권도, 한 번</td>\n",
       "      <td>NaN</td>\n",
       "      <td>NaN</td>\n",
       "      <td>NaN</td>\n",
       "    </tr>\n",
       "    <tr>\n",
       "      <th>4</th>\n",
       "      <td>고객</td>\n",
       "      <td>고1이 몇 명쯤 있나요?</td>\n",
       "      <td>C</td>\n",
       "      <td>학원</td>\n",
       "      <td>태권도</td>\n",
       "      <td>1</td>\n",
       "      <td>5</td>\n",
       "      <td>수강생구성문의</td>\n",
       "      <td>NaN</td>\n",
       "      <td>Q</td>\n",
       "      <td>NaN</td>\n",
       "      <td>고1이 몇 명쯤 있나요?</td>\n",
       "      <td>NaN</td>\n",
       "      <td>NaN</td>\n",
       "      <td>NaN</td>\n",
       "      <td>고1, 몇 명</td>\n",
       "      <td>NaN</td>\n",
       "      <td>고1/대상</td>\n",
       "      <td>NaN</td>\n",
       "    </tr>\n",
       "  </tbody>\n",
       "</table>\n",
       "</div>"
      ],
      "text/plain": [
       "  SPEAKER                         SENTENCE DOMAINID DOMAIN CATEGORY  \\\n",
       "0      고객  애가 고등학교 1학년인데 태권도 하려면 수강료가 얼마쯤?        C     학원      태권도   \n",
       "1      점원                         12만 원입니다        C     학원      태권도   \n",
       "2      점원                    뭐 때문에 하시려는데요?        C     학원      태권도   \n",
       "3      고객      애가 겁도 많고 그래서 태권도 한 번 시켜보려고요        C     학원      태권도   \n",
       "4      고객                    고1이 몇 명쯤 있나요?        C     학원      태권도   \n",
       "\n",
       "   SPEAKERID SENTENCEID     MAIN   SUB QA QACNCT  \\\n",
       "0          1          1    교육비문의   NaN  Q    NaN   \n",
       "1          0          2    교육비문의   NaN  A    NaN   \n",
       "2          0          3     상담문의  수강목적  Q    NaN   \n",
       "3          1          4     상담문의  수강목적  A    NaN   \n",
       "4          1          5  수강생구성문의   NaN  Q    NaN   \n",
       "\n",
       "                                MQ             SQ  \\\n",
       "0  애가 고등학교 1학년인데 태권도 하려면 수강료가 얼마쯤?            NaN   \n",
       "1                              NaN            NaN   \n",
       "2                              NaN  뭐 때문에 하시려는데요?   \n",
       "3                              NaN            NaN   \n",
       "4                    고1이 몇 명쯤 있나요?            NaN   \n",
       "\n",
       "                            UA        SA                     개체명 용어사전  \\\n",
       "0                          NaN       NaN  고등학교 1학년, 태권도, 수강료, 얼마  NaN   \n",
       "1                          NaN  12만 원입니다                   12만 원  NaN   \n",
       "2                          NaN       NaN                     NaN  NaN   \n",
       "3  애가 겁도 많고 그래서 태권도 한 번 시켜보려고요       NaN             겁, 태권도, 한 번  NaN   \n",
       "4                          NaN       NaN                 고1, 몇 명  NaN   \n",
       "\n",
       "                 지식베이스  Unnamed: 18  \n",
       "0  고등학교 1학년/대상, 태권도/과목          NaN  \n",
       "1             12만 원/금액          NaN  \n",
       "2                  NaN          NaN  \n",
       "3                  NaN          NaN  \n",
       "4                고1/대상          NaN  "
      ]
     },
     "execution_count": 31,
     "metadata": {},
     "output_type": "execute_result"
    }
   ],
   "source": [
    "df.head(5)"
   ]
  },
  {
   "cell_type": "code",
   "execution_count": 32,
   "metadata": {},
   "outputs": [
    {
     "name": "stdout",
     "output_type": "stream",
     "text": [
      "74687\n",
      "74687\n"
     ]
    }
   ],
   "source": [
    "# 결측치 처리\n",
    "print(len(df))\n",
    "drop_index = df[df['SENTENCE'].isnull()].index\n",
    "df = df.drop(drop_index)\n",
    "print(len(df))"
   ]
  },
  {
   "cell_type": "code",
   "execution_count": 33,
   "metadata": {},
   "outputs": [
    {
     "name": "stdout",
     "output_type": "stream",
     "text": [
      "74687\n",
      "67395\n"
     ]
    }
   ],
   "source": [
    "# 중복 내용 제거\n",
    "print(len(df))\n",
    "df = df.drop_duplicates('SENTENCE')\n",
    "print(len(df))"
   ]
  },
  {
   "cell_type": "code",
   "execution_count": 34,
   "metadata": {},
   "outputs": [],
   "source": [
    "df = df.drop(columns=[\n",
    "    'SPEAKER',\n",
    "    'DOMAINID',\n",
    "    'DOMAIN',\n",
    "    'CATEGORY',\n",
    "    'SPEAKERID',\n",
    "    'SENTENCEID',\n",
    "    'MAIN',\n",
    "    'SUB',\n",
    "    'QA',\n",
    "    'QACNCT',\n",
    "    'MQ',\n",
    "    'SQ',\n",
    "    'UA',\n",
    "    'SA',\n",
    "    '개체명',\n",
    "    '용어사전',\n",
    "    '지식베이스',\n",
    "    'Unnamed: 18'\n",
    "])"
   ]
  },
  {
   "cell_type": "code",
   "execution_count": 35,
   "metadata": {},
   "outputs": [],
   "source": [
    "df['spam'] = 0\n",
    "new_df = df.rename(columns={'SENTENCE': 'data'})"
   ]
  },
  {
   "cell_type": "code",
   "execution_count": 38,
   "metadata": {},
   "outputs": [
    {
     "data": {
      "text/plain": [
       "Index(['data', 'spam'], dtype='object')"
      ]
     },
     "execution_count": 38,
     "metadata": {},
     "output_type": "execute_result"
    }
   ],
   "source": [
    "new_df.columns"
   ]
  },
  {
   "cell_type": "code",
   "execution_count": 36,
   "metadata": {},
   "outputs": [
    {
     "data": {
      "text/html": [
       "<div>\n",
       "<style scoped>\n",
       "    .dataframe tbody tr th:only-of-type {\n",
       "        vertical-align: middle;\n",
       "    }\n",
       "\n",
       "    .dataframe tbody tr th {\n",
       "        vertical-align: top;\n",
       "    }\n",
       "\n",
       "    .dataframe thead th {\n",
       "        text-align: right;\n",
       "    }\n",
       "</style>\n",
       "<table border=\"1\" class=\"dataframe\">\n",
       "  <thead>\n",
       "    <tr style=\"text-align: right;\">\n",
       "      <th></th>\n",
       "      <th>data</th>\n",
       "      <th>spam</th>\n",
       "    </tr>\n",
       "  </thead>\n",
       "  <tbody>\n",
       "    <tr>\n",
       "      <th>0</th>\n",
       "      <td>애가 고등학교 1학년인데 태권도 하려면 수강료가 얼마쯤?</td>\n",
       "      <td>0</td>\n",
       "    </tr>\n",
       "    <tr>\n",
       "      <th>1</th>\n",
       "      <td>12만 원입니다</td>\n",
       "      <td>0</td>\n",
       "    </tr>\n",
       "    <tr>\n",
       "      <th>2</th>\n",
       "      <td>뭐 때문에 하시려는데요?</td>\n",
       "      <td>0</td>\n",
       "    </tr>\n",
       "    <tr>\n",
       "      <th>3</th>\n",
       "      <td>애가 겁도 많고 그래서 태권도 한 번 시켜보려고요</td>\n",
       "      <td>0</td>\n",
       "    </tr>\n",
       "    <tr>\n",
       "      <th>4</th>\n",
       "      <td>고1이 몇 명쯤 있나요?</td>\n",
       "      <td>0</td>\n",
       "    </tr>\n",
       "  </tbody>\n",
       "</table>\n",
       "</div>"
      ],
      "text/plain": [
       "                              data  spam\n",
       "0  애가 고등학교 1학년인데 태권도 하려면 수강료가 얼마쯤?     0\n",
       "1                         12만 원입니다     0\n",
       "2                    뭐 때문에 하시려는데요?     0\n",
       "3      애가 겁도 많고 그래서 태권도 한 번 시켜보려고요     0\n",
       "4                    고1이 몇 명쯤 있나요?     0"
      ]
     },
     "execution_count": 36,
     "metadata": {},
     "output_type": "execute_result"
    }
   ],
   "source": [
    "new_df.head(5)"
   ]
  },
  {
   "cell_type": "code",
   "execution_count": 40,
   "metadata": {},
   "outputs": [],
   "source": [
    "new_df.to_csv('/home/maroco/dataset/sms_dataset/ham.csv',index=False)"
   ]
  }
 ],
 "metadata": {
  "kernelspec": {
   "display_name": "AIML2",
   "language": "python",
   "name": "python3"
  },
  "language_info": {
   "codemirror_mode": {
    "name": "ipython",
    "version": 3
   },
   "file_extension": ".py",
   "mimetype": "text/x-python",
   "name": "python",
   "nbconvert_exporter": "python",
   "pygments_lexer": "ipython3",
   "version": "3.9.20"
  }
 },
 "nbformat": 4,
 "nbformat_minor": 2
}
